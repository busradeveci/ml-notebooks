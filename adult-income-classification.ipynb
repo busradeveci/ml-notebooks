{
 "cells": [
  {
   "cell_type": "code",
   "execution_count": 1,
   "id": "edc18154",
   "metadata": {
    "execution": {
     "iopub.execute_input": "2025-05-11T20:43:48.231508Z",
     "iopub.status.busy": "2025-05-11T20:43:48.231207Z",
     "iopub.status.idle": "2025-05-11T20:43:51.980632Z",
     "shell.execute_reply": "2025-05-11T20:43:51.979740Z"
    },
    "papermill": {
     "duration": 3.756021,
     "end_time": "2025-05-11T20:43:51.982271",
     "exception": false,
     "start_time": "2025-05-11T20:43:48.226250",
     "status": "completed"
    },
    "tags": []
   },
   "outputs": [],
   "source": [
    "import pandas as pd\n",
    "import numpy as np\n",
    "from sklearn.model_selection import train_test_split, cross_val_score\n",
    "from sklearn.preprocessing import StandardScaler, LabelEncoder\n",
    "from sklearn.linear_model import LogisticRegression\n",
    "from sklearn.neighbors import KNeighborsClassifier\n",
    "from sklearn.svm import SVC\n",
    "from sklearn.tree import DecisionTreeClassifier\n",
    "from sklearn.ensemble import RandomForestClassifier, GradientBoostingClassifier\n",
    "from sklearn.naive_bayes import GaussianNB\n",
    "from sklearn.metrics import accuracy_score, f1_score"
   ]
  },
  {
   "cell_type": "code",
   "execution_count": 2,
   "id": "eb97b3da",
   "metadata": {
    "execution": {
     "iopub.execute_input": "2025-05-11T20:43:51.990283Z",
     "iopub.status.busy": "2025-05-11T20:43:51.989878Z",
     "iopub.status.idle": "2025-05-11T20:43:52.251111Z",
     "shell.execute_reply": "2025-05-11T20:43:52.250239Z"
    },
    "papermill": {
     "duration": 0.267153,
     "end_time": "2025-05-11T20:43:52.253054",
     "exception": false,
     "start_time": "2025-05-11T20:43:51.985901",
     "status": "completed"
    },
    "tags": []
   },
   "outputs": [],
   "source": [
    "data = pd.read_csv('/kaggle/input/adult-income-dataset/adult.csv')"
   ]
  },
  {
   "cell_type": "code",
   "execution_count": 3,
   "id": "85d66a14",
   "metadata": {
    "execution": {
     "iopub.execute_input": "2025-05-11T20:43:52.260471Z",
     "iopub.status.busy": "2025-05-11T20:43:52.260167Z",
     "iopub.status.idle": "2025-05-11T20:43:52.286147Z",
     "shell.execute_reply": "2025-05-11T20:43:52.285319Z"
    },
    "papermill": {
     "duration": 0.031174,
     "end_time": "2025-05-11T20:43:52.287503",
     "exception": false,
     "start_time": "2025-05-11T20:43:52.256329",
     "status": "completed"
    },
    "tags": []
   },
   "outputs": [
    {
     "data": {
      "text/html": [
       "<div>\n",
       "<style scoped>\n",
       "    .dataframe tbody tr th:only-of-type {\n",
       "        vertical-align: middle;\n",
       "    }\n",
       "\n",
       "    .dataframe tbody tr th {\n",
       "        vertical-align: top;\n",
       "    }\n",
       "\n",
       "    .dataframe thead th {\n",
       "        text-align: right;\n",
       "    }\n",
       "</style>\n",
       "<table border=\"1\" class=\"dataframe\">\n",
       "  <thead>\n",
       "    <tr style=\"text-align: right;\">\n",
       "      <th></th>\n",
       "      <th>age</th>\n",
       "      <th>workclass</th>\n",
       "      <th>fnlwgt</th>\n",
       "      <th>education</th>\n",
       "      <th>educational-num</th>\n",
       "      <th>marital-status</th>\n",
       "      <th>occupation</th>\n",
       "      <th>relationship</th>\n",
       "      <th>race</th>\n",
       "      <th>gender</th>\n",
       "      <th>capital-gain</th>\n",
       "      <th>capital-loss</th>\n",
       "      <th>hours-per-week</th>\n",
       "      <th>native-country</th>\n",
       "      <th>income</th>\n",
       "    </tr>\n",
       "  </thead>\n",
       "  <tbody>\n",
       "    <tr>\n",
       "      <th>0</th>\n",
       "      <td>25</td>\n",
       "      <td>Private</td>\n",
       "      <td>226802</td>\n",
       "      <td>11th</td>\n",
       "      <td>7</td>\n",
       "      <td>Never-married</td>\n",
       "      <td>Machine-op-inspct</td>\n",
       "      <td>Own-child</td>\n",
       "      <td>Black</td>\n",
       "      <td>Male</td>\n",
       "      <td>0</td>\n",
       "      <td>0</td>\n",
       "      <td>40</td>\n",
       "      <td>United-States</td>\n",
       "      <td>&lt;=50K</td>\n",
       "    </tr>\n",
       "    <tr>\n",
       "      <th>1</th>\n",
       "      <td>38</td>\n",
       "      <td>Private</td>\n",
       "      <td>89814</td>\n",
       "      <td>HS-grad</td>\n",
       "      <td>9</td>\n",
       "      <td>Married-civ-spouse</td>\n",
       "      <td>Farming-fishing</td>\n",
       "      <td>Husband</td>\n",
       "      <td>White</td>\n",
       "      <td>Male</td>\n",
       "      <td>0</td>\n",
       "      <td>0</td>\n",
       "      <td>50</td>\n",
       "      <td>United-States</td>\n",
       "      <td>&lt;=50K</td>\n",
       "    </tr>\n",
       "    <tr>\n",
       "      <th>2</th>\n",
       "      <td>28</td>\n",
       "      <td>Local-gov</td>\n",
       "      <td>336951</td>\n",
       "      <td>Assoc-acdm</td>\n",
       "      <td>12</td>\n",
       "      <td>Married-civ-spouse</td>\n",
       "      <td>Protective-serv</td>\n",
       "      <td>Husband</td>\n",
       "      <td>White</td>\n",
       "      <td>Male</td>\n",
       "      <td>0</td>\n",
       "      <td>0</td>\n",
       "      <td>40</td>\n",
       "      <td>United-States</td>\n",
       "      <td>&gt;50K</td>\n",
       "    </tr>\n",
       "    <tr>\n",
       "      <th>3</th>\n",
       "      <td>44</td>\n",
       "      <td>Private</td>\n",
       "      <td>160323</td>\n",
       "      <td>Some-college</td>\n",
       "      <td>10</td>\n",
       "      <td>Married-civ-spouse</td>\n",
       "      <td>Machine-op-inspct</td>\n",
       "      <td>Husband</td>\n",
       "      <td>Black</td>\n",
       "      <td>Male</td>\n",
       "      <td>7688</td>\n",
       "      <td>0</td>\n",
       "      <td>40</td>\n",
       "      <td>United-States</td>\n",
       "      <td>&gt;50K</td>\n",
       "    </tr>\n",
       "    <tr>\n",
       "      <th>4</th>\n",
       "      <td>18</td>\n",
       "      <td>?</td>\n",
       "      <td>103497</td>\n",
       "      <td>Some-college</td>\n",
       "      <td>10</td>\n",
       "      <td>Never-married</td>\n",
       "      <td>?</td>\n",
       "      <td>Own-child</td>\n",
       "      <td>White</td>\n",
       "      <td>Female</td>\n",
       "      <td>0</td>\n",
       "      <td>0</td>\n",
       "      <td>30</td>\n",
       "      <td>United-States</td>\n",
       "      <td>&lt;=50K</td>\n",
       "    </tr>\n",
       "  </tbody>\n",
       "</table>\n",
       "</div>"
      ],
      "text/plain": [
       "   age  workclass  fnlwgt     education  educational-num      marital-status  \\\n",
       "0   25    Private  226802          11th                7       Never-married   \n",
       "1   38    Private   89814       HS-grad                9  Married-civ-spouse   \n",
       "2   28  Local-gov  336951    Assoc-acdm               12  Married-civ-spouse   \n",
       "3   44    Private  160323  Some-college               10  Married-civ-spouse   \n",
       "4   18          ?  103497  Some-college               10       Never-married   \n",
       "\n",
       "          occupation relationship   race  gender  capital-gain  capital-loss  \\\n",
       "0  Machine-op-inspct    Own-child  Black    Male             0             0   \n",
       "1    Farming-fishing      Husband  White    Male             0             0   \n",
       "2    Protective-serv      Husband  White    Male             0             0   \n",
       "3  Machine-op-inspct      Husband  Black    Male          7688             0   \n",
       "4                  ?    Own-child  White  Female             0             0   \n",
       "\n",
       "   hours-per-week native-country income  \n",
       "0              40  United-States  <=50K  \n",
       "1              50  United-States  <=50K  \n",
       "2              40  United-States   >50K  \n",
       "3              40  United-States   >50K  \n",
       "4              30  United-States  <=50K  "
      ]
     },
     "execution_count": 3,
     "metadata": {},
     "output_type": "execute_result"
    }
   ],
   "source": [
    "data.head()"
   ]
  },
  {
   "cell_type": "code",
   "execution_count": 4,
   "id": "5bf5e35d",
   "metadata": {
    "execution": {
     "iopub.execute_input": "2025-05-11T20:43:52.296080Z",
     "iopub.status.busy": "2025-05-11T20:43:52.295102Z",
     "iopub.status.idle": "2025-05-11T20:43:52.299812Z",
     "shell.execute_reply": "2025-05-11T20:43:52.299094Z"
    },
    "papermill": {
     "duration": 0.010012,
     "end_time": "2025-05-11T20:43:52.301059",
     "exception": false,
     "start_time": "2025-05-11T20:43:52.291047",
     "status": "completed"
    },
    "tags": []
   },
   "outputs": [],
   "source": [
    "data.columns = ['age', 'workclass', 'fnlwgt', 'education', 'educational-num', 'marital-status', \n",
    "                'occupation', 'relationship', 'race', 'gender', 'capital-gain', 'capital-loss', \n",
    "                'hours-per-week', 'native-country', 'income']"
   ]
  },
  {
   "cell_type": "code",
   "execution_count": 5,
   "id": "094a8313",
   "metadata": {
    "execution": {
     "iopub.execute_input": "2025-05-11T20:43:52.308982Z",
     "iopub.status.busy": "2025-05-11T20:43:52.308713Z",
     "iopub.status.idle": "2025-05-11T20:43:52.400830Z",
     "shell.execute_reply": "2025-05-11T20:43:52.399840Z"
    },
    "papermill": {
     "duration": 0.097874,
     "end_time": "2025-05-11T20:43:52.402503",
     "exception": false,
     "start_time": "2025-05-11T20:43:52.304629",
     "status": "completed"
    },
    "tags": []
   },
   "outputs": [],
   "source": [
    "data = data.replace('?', np.nan).dropna()"
   ]
  },
  {
   "cell_type": "code",
   "execution_count": 6,
   "id": "20117250",
   "metadata": {
    "execution": {
     "iopub.execute_input": "2025-05-11T20:43:52.412017Z",
     "iopub.status.busy": "2025-05-11T20:43:52.411227Z",
     "iopub.status.idle": "2025-05-11T20:43:52.481597Z",
     "shell.execute_reply": "2025-05-11T20:43:52.480707Z"
    },
    "papermill": {
     "duration": 0.076129,
     "end_time": "2025-05-11T20:43:52.483260",
     "exception": false,
     "start_time": "2025-05-11T20:43:52.407131",
     "status": "completed"
    },
    "tags": []
   },
   "outputs": [],
   "source": [
    "# Kategorik değişkenleri kodla\n",
    "le = LabelEncoder()\n",
    "categorical_cols = ['workclass', 'education', 'marital-status', 'occupation', \n",
    "                    'relationship', 'race', 'gender', 'native-country']\n",
    "for col in categorical_cols:\n",
    "    data[col] = le.fit_transform(data[col])"
   ]
  },
  {
   "cell_type": "code",
   "execution_count": 7,
   "id": "d833999b",
   "metadata": {
    "execution": {
     "iopub.execute_input": "2025-05-11T20:43:52.491258Z",
     "iopub.status.busy": "2025-05-11T20:43:52.490962Z",
     "iopub.status.idle": "2025-05-11T20:43:52.504622Z",
     "shell.execute_reply": "2025-05-11T20:43:52.503897Z"
    },
    "papermill": {
     "duration": 0.019163,
     "end_time": "2025-05-11T20:43:52.505950",
     "exception": false,
     "start_time": "2025-05-11T20:43:52.486787",
     "status": "completed"
    },
    "tags": []
   },
   "outputs": [],
   "source": [
    "# Hedef değişkeni kodla\n",
    "data['income'] = le.fit_transform(data['income'])  # <=50K: 0, >50K: 1"
   ]
  },
  {
   "cell_type": "code",
   "execution_count": 8,
   "id": "087ef7bd",
   "metadata": {
    "execution": {
     "iopub.execute_input": "2025-05-11T20:43:52.513931Z",
     "iopub.status.busy": "2025-05-11T20:43:52.513182Z",
     "iopub.status.idle": "2025-05-11T20:43:52.522114Z",
     "shell.execute_reply": "2025-05-11T20:43:52.521452Z"
    },
    "papermill": {
     "duration": 0.014096,
     "end_time": "2025-05-11T20:43:52.523484",
     "exception": false,
     "start_time": "2025-05-11T20:43:52.509388",
     "status": "completed"
    },
    "tags": []
   },
   "outputs": [],
   "source": [
    "# Özellikler ve hedef\n",
    "X = data.drop('income', axis=1)\n",
    "y = data['income']"
   ]
  },
  {
   "cell_type": "code",
   "execution_count": 9,
   "id": "78477f62",
   "metadata": {
    "execution": {
     "iopub.execute_input": "2025-05-11T20:43:52.531772Z",
     "iopub.status.busy": "2025-05-11T20:43:52.530972Z",
     "iopub.status.idle": "2025-05-11T20:43:52.548334Z",
     "shell.execute_reply": "2025-05-11T20:43:52.547636Z"
    },
    "papermill": {
     "duration": 0.022914,
     "end_time": "2025-05-11T20:43:52.549872",
     "exception": false,
     "start_time": "2025-05-11T20:43:52.526958",
     "status": "completed"
    },
    "tags": []
   },
   "outputs": [],
   "source": [
    "# Veriyi eğitim ve test olarak ayır\n",
    "X_train, X_test, y_train, y_test = train_test_split(X, y, test_size=0.2, random_state=42)"
   ]
  },
  {
   "cell_type": "code",
   "execution_count": 10,
   "id": "f6f79ead",
   "metadata": {
    "execution": {
     "iopub.execute_input": "2025-05-11T20:43:52.557810Z",
     "iopub.status.busy": "2025-05-11T20:43:52.557166Z",
     "iopub.status.idle": "2025-05-11T20:43:52.615183Z",
     "shell.execute_reply": "2025-05-11T20:43:52.613950Z"
    },
    "papermill": {
     "duration": 0.064298,
     "end_time": "2025-05-11T20:43:52.617580",
     "exception": false,
     "start_time": "2025-05-11T20:43:52.553282",
     "status": "completed"
    },
    "tags": []
   },
   "outputs": [],
   "source": [
    "# Veriyi ölçeklendir \n",
    "scaler = StandardScaler()\n",
    "X_train_scaled = scaler.fit_transform(X_train)\n",
    "X_test_scaled = scaler.transform(X_test)"
   ]
  },
  {
   "cell_type": "code",
   "execution_count": 11,
   "id": "1535220f",
   "metadata": {
    "execution": {
     "iopub.execute_input": "2025-05-11T20:43:52.630955Z",
     "iopub.status.busy": "2025-05-11T20:43:52.629904Z",
     "iopub.status.idle": "2025-05-11T20:43:52.635004Z",
     "shell.execute_reply": "2025-05-11T20:43:52.633909Z"
    },
    "papermill": {
     "duration": 0.013008,
     "end_time": "2025-05-11T20:43:52.636345",
     "exception": false,
     "start_time": "2025-05-11T20:43:52.623337",
     "status": "completed"
    },
    "tags": []
   },
   "outputs": [],
   "source": [
    "models = {\n",
    "    'Logistic Regression': LogisticRegression(max_iter=500, random_state=42),\n",
    "    'Decision Tree': DecisionTreeClassifier(max_depth=5, random_state=42),\n",
    "    'Naive Bayes': GaussianNB()\n",
    "}"
   ]
  },
  {
   "cell_type": "code",
   "execution_count": 12,
   "id": "c17cc20a",
   "metadata": {
    "execution": {
     "iopub.execute_input": "2025-05-11T20:43:52.645492Z",
     "iopub.status.busy": "2025-05-11T20:43:52.644864Z",
     "iopub.status.idle": "2025-05-11T20:43:52.649581Z",
     "shell.execute_reply": "2025-05-11T20:43:52.648682Z"
    },
    "papermill": {
     "duration": 0.011107,
     "end_time": "2025-05-11T20:43:52.651057",
     "exception": false,
     "start_time": "2025-05-11T20:43:52.639950",
     "status": "completed"
    },
    "tags": []
   },
   "outputs": [],
   "source": [
    "# Sonuçları saklamak için bir sözlük\n",
    "results = {}"
   ]
  },
  {
   "cell_type": "code",
   "execution_count": 13,
   "id": "345d04f6",
   "metadata": {
    "execution": {
     "iopub.execute_input": "2025-05-11T20:43:52.659211Z",
     "iopub.status.busy": "2025-05-11T20:43:52.658276Z",
     "iopub.status.idle": "2025-05-11T20:43:56.449711Z",
     "shell.execute_reply": "2025-05-11T20:43:56.448628Z"
    },
    "papermill": {
     "duration": 3.796912,
     "end_time": "2025-05-11T20:43:56.451267",
     "exception": false,
     "start_time": "2025-05-11T20:43:52.654355",
     "status": "completed"
    },
    "tags": []
   },
   "outputs": [
    {
     "name": "stdout",
     "output_type": "stream",
     "text": [
      "Çalışıyor: Logistic Regression\n",
      "Logistic Regression tamamlandı!\n",
      "Çalışıyor: Decision Tree\n",
      "Decision Tree tamamlandı!\n",
      "Çalışıyor: Naive Bayes\n",
      "Naive Bayes tamamlandı!\n"
     ]
    }
   ],
   "source": [
    "for name, model in models.items():\n",
    "    print(f\"Çalışıyor: {name}\", flush=True)\n",
    "    try:\n",
    "        # Çapraz doğrulama ile doğruluk ve F1 skoru\n",
    "        cv_accuracy = cross_val_score(model, X_train_scaled, y_train, cv=5, scoring='accuracy', n_jobs=-1)\n",
    "        cv_f1 = cross_val_score(model, X_train_scaled, y_train, cv=5, scoring='f1', n_jobs=-1)\n",
    "        # Test setinde doğruluk ve F1 skoru\n",
    "        model.fit(X_train_scaled, y_train)\n",
    "        y_pred = model.predict(X_test_scaled)\n",
    "        test_accuracy = accuracy_score(y_test, y_pred)\n",
    "        test_f1 = f1_score(y_test, y_pred)\n",
    "        # Sonuçları sakla\n",
    "        results[name] = {\n",
    "            'CV Accuracy': cv_accuracy.mean(),\n",
    "            'CV Accuracy Std': cv_accuracy.std(),\n",
    "            'CV F1 Score': cv_f1.mean(),\n",
    "            'Test Accuracy': test_accuracy,\n",
    "            'Test F1 Score': test_f1\n",
    "        }\n",
    "        print(f\"{name} tamamlandı!\", flush=True)\n",
    "    except Exception as e:\n",
    "        print(f\"Hata {name}: {str(e)}\", flush=True)"
   ]
  },
  {
   "cell_type": "code",
   "execution_count": 14,
   "id": "2a3b79c5",
   "metadata": {
    "execution": {
     "iopub.execute_input": "2025-05-11T20:43:56.459959Z",
     "iopub.status.busy": "2025-05-11T20:43:56.459586Z",
     "iopub.status.idle": "2025-05-11T20:43:56.471619Z",
     "shell.execute_reply": "2025-05-11T20:43:56.470684Z"
    },
    "papermill": {
     "duration": 0.018028,
     "end_time": "2025-05-11T20:43:56.473117",
     "exception": false,
     "start_time": "2025-05-11T20:43:56.455089",
     "status": "completed"
    },
    "tags": []
   },
   "outputs": [
    {
     "name": "stdout",
     "output_type": "stream",
     "text": [
      "\n",
      "Algoritma Başarı Oranları:\n",
      "                     CV Accuracy  CV Accuracy Std  CV F1 Score  Test Accuracy  \\\n",
      "Logistic Regression       0.8202           0.0047       0.5602         0.8211   \n",
      "Decision Tree             0.8463           0.0021       0.6331         0.8517   \n",
      "Naive Bayes               0.7985           0.0029       0.4593         0.7989   \n",
      "\n",
      "                     Test F1 Score  \n",
      "Logistic Regression         0.5488  \n",
      "Decision Tree               0.6390  \n",
      "Naive Bayes                 0.4453  \n"
     ]
    }
   ],
   "source": [
    "# Sonuçları DataFrame olarak yazdır\n",
    "if results:\n",
    "    results_df = pd.DataFrame(results).T\n",
    "    print(\"\\nAlgoritma Başarı Oranları:\", flush=True)\n",
    "    print(results_df.round(4), flush=True)"
   ]
  },
  {
   "cell_type": "code",
   "execution_count": 15,
   "id": "2060d7aa",
   "metadata": {
    "execution": {
     "iopub.execute_input": "2025-05-11T20:43:56.481724Z",
     "iopub.status.busy": "2025-05-11T20:43:56.481348Z",
     "iopub.status.idle": "2025-05-11T20:43:56.487106Z",
     "shell.execute_reply": "2025-05-11T20:43:56.486267Z"
    },
    "papermill": {
     "duration": 0.011772,
     "end_time": "2025-05-11T20:43:56.488627",
     "exception": false,
     "start_time": "2025-05-11T20:43:56.476855",
     "status": "completed"
    },
    "tags": []
   },
   "outputs": [
    {
     "name": "stdout",
     "output_type": "stream",
     "text": [
      "\n",
      "En Başarılı Algoritma: Decision Tree (Test Doğruluğu: 0.8517)\n"
     ]
    }
   ],
   "source": [
    "best_model = results_df['Test Accuracy'].idxmax()\n",
    "best_score = results_df['Test Accuracy'].max()\n",
    "print(f\"\\nEn Başarılı Algoritma: {best_model} (Test Doğruluğu: {best_score:.4f})\")"
   ]
  }
 ],
 "metadata": {
  "kaggle": {
   "accelerator": "none",
   "dataSources": [
    {
     "datasetId": 222,
     "sourceId": 472,
     "sourceType": "datasetVersion"
    }
   ],
   "dockerImageVersionId": 31012,
   "isGpuEnabled": false,
   "isInternetEnabled": true,
   "language": "python",
   "sourceType": "notebook"
  },
  "kernelspec": {
   "display_name": "Python 3",
   "language": "python",
   "name": "python3"
  },
  "language_info": {
   "codemirror_mode": {
    "name": "ipython",
    "version": 3
   },
   "file_extension": ".py",
   "mimetype": "text/x-python",
   "name": "python",
   "nbconvert_exporter": "python",
   "pygments_lexer": "ipython3",
   "version": "3.11.11"
  },
  "papermill": {
   "default_parameters": {},
   "duration": 15.483288,
   "end_time": "2025-05-11T20:43:59.113142",
   "environment_variables": {},
   "exception": null,
   "input_path": "__notebook__.ipynb",
   "output_path": "__notebook__.ipynb",
   "parameters": {},
   "start_time": "2025-05-11T20:43:43.629854",
   "version": "2.6.0"
  }
 },
 "nbformat": 4,
 "nbformat_minor": 5
}
