{
 "cells": [
  {
   "cell_type": "code",
   "execution_count": 1,
   "id": "5cc7892b",
   "metadata": {
    "execution": {
     "iopub.execute_input": "2025-05-01T23:06:06.712081Z",
     "iopub.status.busy": "2025-05-01T23:06:06.711744Z",
     "iopub.status.idle": "2025-05-01T23:06:11.289315Z",
     "shell.execute_reply": "2025-05-01T23:06:11.288102Z"
    },
    "papermill": {
     "duration": 4.584829,
     "end_time": "2025-05-01T23:06:11.291314",
     "exception": false,
     "start_time": "2025-05-01T23:06:06.706485",
     "status": "completed"
    },
    "tags": []
   },
   "outputs": [],
   "source": [
    "import pandas as pd\n",
    "import numpy as np\n",
    "import matplotlib.pyplot as plt\n",
    "import seaborn as sns\n",
    "from sklearn.model_selection import train_test_split\n",
    "from sklearn.linear_model import LinearRegression\n",
    "from sklearn.metrics import r2_score, mean_squared_error"
   ]
  },
  {
   "cell_type": "code",
   "execution_count": 2,
   "id": "7df429c2",
   "metadata": {
    "execution": {
     "iopub.execute_input": "2025-05-01T23:06:11.300228Z",
     "iopub.status.busy": "2025-05-01T23:06:11.299698Z",
     "iopub.status.idle": "2025-05-01T23:06:11.328034Z",
     "shell.execute_reply": "2025-05-01T23:06:11.326995Z"
    },
    "papermill": {
     "duration": 0.03487,
     "end_time": "2025-05-01T23:06:11.330094",
     "exception": false,
     "start_time": "2025-05-01T23:06:11.295224",
     "status": "completed"
    },
    "tags": []
   },
   "outputs": [],
   "source": [
    "data=pd.read_csv('/kaggle/input/advertising-dataset/advertising.csv')"
   ]
  },
  {
   "cell_type": "code",
   "execution_count": 3,
   "id": "ec76659b",
   "metadata": {
    "execution": {
     "iopub.execute_input": "2025-05-01T23:06:11.338536Z",
     "iopub.status.busy": "2025-05-01T23:06:11.338180Z",
     "iopub.status.idle": "2025-05-01T23:06:11.366222Z",
     "shell.execute_reply": "2025-05-01T23:06:11.365080Z"
    },
    "papermill": {
     "duration": 0.034022,
     "end_time": "2025-05-01T23:06:11.367807",
     "exception": false,
     "start_time": "2025-05-01T23:06:11.333785",
     "status": "completed"
    },
    "tags": []
   },
   "outputs": [
    {
     "data": {
      "text/html": [
       "<div>\n",
       "<style scoped>\n",
       "    .dataframe tbody tr th:only-of-type {\n",
       "        vertical-align: middle;\n",
       "    }\n",
       "\n",
       "    .dataframe tbody tr th {\n",
       "        vertical-align: top;\n",
       "    }\n",
       "\n",
       "    .dataframe thead th {\n",
       "        text-align: right;\n",
       "    }\n",
       "</style>\n",
       "<table border=\"1\" class=\"dataframe\">\n",
       "  <thead>\n",
       "    <tr style=\"text-align: right;\">\n",
       "      <th></th>\n",
       "      <th>TV</th>\n",
       "      <th>Radio</th>\n",
       "      <th>Newspaper</th>\n",
       "      <th>Sales</th>\n",
       "    </tr>\n",
       "  </thead>\n",
       "  <tbody>\n",
       "    <tr>\n",
       "      <th>0</th>\n",
       "      <td>230.1</td>\n",
       "      <td>37.8</td>\n",
       "      <td>69.2</td>\n",
       "      <td>22.1</td>\n",
       "    </tr>\n",
       "    <tr>\n",
       "      <th>1</th>\n",
       "      <td>44.5</td>\n",
       "      <td>39.3</td>\n",
       "      <td>45.1</td>\n",
       "      <td>10.4</td>\n",
       "    </tr>\n",
       "    <tr>\n",
       "      <th>2</th>\n",
       "      <td>17.2</td>\n",
       "      <td>45.9</td>\n",
       "      <td>69.3</td>\n",
       "      <td>12.0</td>\n",
       "    </tr>\n",
       "    <tr>\n",
       "      <th>3</th>\n",
       "      <td>151.5</td>\n",
       "      <td>41.3</td>\n",
       "      <td>58.5</td>\n",
       "      <td>16.5</td>\n",
       "    </tr>\n",
       "    <tr>\n",
       "      <th>4</th>\n",
       "      <td>180.8</td>\n",
       "      <td>10.8</td>\n",
       "      <td>58.4</td>\n",
       "      <td>17.9</td>\n",
       "    </tr>\n",
       "  </tbody>\n",
       "</table>\n",
       "</div>"
      ],
      "text/plain": [
       "      TV  Radio  Newspaper  Sales\n",
       "0  230.1   37.8       69.2   22.1\n",
       "1   44.5   39.3       45.1   10.4\n",
       "2   17.2   45.9       69.3   12.0\n",
       "3  151.5   41.3       58.5   16.5\n",
       "4  180.8   10.8       58.4   17.9"
      ]
     },
     "execution_count": 3,
     "metadata": {},
     "output_type": "execute_result"
    }
   ],
   "source": [
    "data.head()"
   ]
  },
  {
   "cell_type": "code",
   "execution_count": 4,
   "id": "5d854ba4",
   "metadata": {
    "execution": {
     "iopub.execute_input": "2025-05-01T23:06:11.376333Z",
     "iopub.status.busy": "2025-05-01T23:06:11.375944Z",
     "iopub.status.idle": "2025-05-01T23:06:11.402361Z",
     "shell.execute_reply": "2025-05-01T23:06:11.401195Z"
    },
    "papermill": {
     "duration": 0.032923,
     "end_time": "2025-05-01T23:06:11.404239",
     "exception": false,
     "start_time": "2025-05-01T23:06:11.371316",
     "status": "completed"
    },
    "tags": []
   },
   "outputs": [
    {
     "name": "stdout",
     "output_type": "stream",
     "text": [
      "<class 'pandas.core.frame.DataFrame'>\n",
      "RangeIndex: 200 entries, 0 to 199\n",
      "Data columns (total 4 columns):\n",
      " #   Column     Non-Null Count  Dtype  \n",
      "---  ------     --------------  -----  \n",
      " 0   TV         200 non-null    float64\n",
      " 1   Radio      200 non-null    float64\n",
      " 2   Newspaper  200 non-null    float64\n",
      " 3   Sales      200 non-null    float64\n",
      "dtypes: float64(4)\n",
      "memory usage: 6.4 KB\n"
     ]
    }
   ],
   "source": [
    "data.info()"
   ]
  },
  {
   "cell_type": "code",
   "execution_count": 5,
   "id": "f3fb2c4e",
   "metadata": {
    "execution": {
     "iopub.execute_input": "2025-05-01T23:06:11.413793Z",
     "iopub.status.busy": "2025-05-01T23:06:11.413455Z",
     "iopub.status.idle": "2025-05-01T23:06:11.421117Z",
     "shell.execute_reply": "2025-05-01T23:06:11.420004Z"
    },
    "papermill": {
     "duration": 0.013624,
     "end_time": "2025-05-01T23:06:11.422736",
     "exception": false,
     "start_time": "2025-05-01T23:06:11.409112",
     "status": "completed"
    },
    "tags": []
   },
   "outputs": [
    {
     "data": {
      "text/plain": [
       "TV           0\n",
       "Radio        0\n",
       "Newspaper    0\n",
       "Sales        0\n",
       "dtype: int64"
      ]
     },
     "execution_count": 5,
     "metadata": {},
     "output_type": "execute_result"
    }
   ],
   "source": [
    "data.isnull().sum()"
   ]
  },
  {
   "cell_type": "code",
   "execution_count": 6,
   "id": "e4ac1ec9",
   "metadata": {
    "execution": {
     "iopub.execute_input": "2025-05-01T23:06:11.430961Z",
     "iopub.status.busy": "2025-05-01T23:06:11.430684Z",
     "iopub.status.idle": "2025-05-01T23:06:11.765881Z",
     "shell.execute_reply": "2025-05-01T23:06:11.764104Z"
    },
    "papermill": {
     "duration": 0.341423,
     "end_time": "2025-05-01T23:06:11.767815",
     "exception": false,
     "start_time": "2025-05-01T23:06:11.426392",
     "status": "completed"
    },
    "tags": []
   },
   "outputs": [
    {
     "data": {
      "image/png": "[encoded data removed]",
      "text/plain": [
       "<Figure size 800x600 with 2 Axes>"
      ]
     },
     "metadata": {},
     "output_type": "display_data"
    }
   ],
   "source": [
    "plt.figure(figsize=(8,6))\n",
    "sns.heatmap(data.corr(), annot=True, cmap='coolwarm')\n",
    "plt.title('Korelasyon Matrisi')\n",
    "plt.show()\n"
   ]
  },
  {
   "cell_type": "code",
   "execution_count": 7,
   "id": "79340ca4",
   "metadata": {
    "execution": {
     "iopub.execute_input": "2025-05-01T23:06:11.780345Z",
     "iopub.status.busy": "2025-05-01T23:06:11.779979Z",
     "iopub.status.idle": "2025-05-01T23:06:11.787410Z",
     "shell.execute_reply": "2025-05-01T23:06:11.786446Z"
    },
    "papermill": {
     "duration": 0.014294,
     "end_time": "2025-05-01T23:06:11.789074",
     "exception": false,
     "start_time": "2025-05-01T23:06:11.774780",
     "status": "completed"
    },
    "tags": []
   },
   "outputs": [],
   "source": [
    "X = data[['TV', 'Radio', 'Newspaper']] \n",
    "y = data['Sales']"
   ]
  },
  {
   "cell_type": "code",
   "execution_count": 8,
   "id": "3a33ac72",
   "metadata": {
    "execution": {
     "iopub.execute_input": "2025-05-01T23:06:11.798889Z",
     "iopub.status.busy": "2025-05-01T23:06:11.798549Z",
     "iopub.status.idle": "2025-05-01T23:06:11.806762Z",
     "shell.execute_reply": "2025-05-01T23:06:11.805824Z"
    },
    "papermill": {
     "duration": 0.015064,
     "end_time": "2025-05-01T23:06:11.808426",
     "exception": false,
     "start_time": "2025-05-01T23:06:11.793362",
     "status": "completed"
    },
    "tags": []
   },
   "outputs": [],
   "source": [
    "X_train, X_test, y_train, y_test = train_test_split(X, y, test_size=0.2, random_state=42)"
   ]
  },
  {
   "cell_type": "code",
   "execution_count": 9,
   "id": "488d852a",
   "metadata": {
    "execution": {
     "iopub.execute_input": "2025-05-01T23:06:11.818561Z",
     "iopub.status.busy": "2025-05-01T23:06:11.818123Z",
     "iopub.status.idle": "2025-05-01T23:06:11.857588Z",
     "shell.execute_reply": "2025-05-01T23:06:11.856597Z"
    },
    "papermill": {
     "duration": 0.046646,
     "end_time": "2025-05-01T23:06:11.859456",
     "exception": false,
     "start_time": "2025-05-01T23:06:11.812810",
     "status": "completed"
    },
    "tags": []
   },
   "outputs": [
    {
     "data": {
      "text/html": [
       "<style>#sk-container-id-1 {color: black;background-color: white;}#sk-container-id-1 pre{padding: 0;}#sk-container-id-1 div.sk-toggleable {background-color: white;}#sk-container-id-1 label.sk-toggleable__label {cursor: pointer;display: block;width: 100%;margin-bottom: 0;padding: 0.3em;box-sizing: border-box;text-align: center;}#sk-container-id-1 label.sk-toggleable__label-arrow:before {content: \"▸\";float: left;margin-right: 0.25em;color: #696969;}#sk-container-id-1 label.sk-toggleable__label-arrow:hover:before {color: black;}#sk-container-id-1 div.sk-estimator:hover label.sk-toggleable__label-arrow:before {color: black;}#sk-container-id-1 div.sk-toggleable__content {max-height: 0;max-width: 0;overflow: hidden;text-align: left;background-color: #f0f8ff;}#sk-container-id-1 div.sk-toggleable__content pre {margin: 0.2em;color: black;border-radius: 0.25em;background-color: #f0f8ff;}#sk-container-id-1 input.sk-toggleable__control:checked~div.sk-toggleable__content {max-height: 200px;max-width: 100%;overflow: auto;}#sk-container-id-1 input.sk-toggleable__control:checked~label.sk-toggleable__label-arrow:before {content: \"▾\";}#sk-container-id-1 div.sk-estimator input.sk-toggleable__control:checked~label.sk-toggleable__label {background-color: #d4ebff;}#sk-container-id-1 div.sk-label input.sk-toggleable__control:checked~label.sk-toggleable__label {background-color: #d4ebff;}#sk-container-id-1 input.sk-hidden--visually {border: 0;clip: rect(1px 1px 1px 1px);clip: rect(1px, 1px, 1px, 1px);height: 1px;margin: -1px;overflow: hidden;padding: 0;position: absolute;width: 1px;}#sk-container-id-1 div.sk-estimator {font-family: monospace;background-color: #f0f8ff;border: 1px dotted black;border-radius: 0.25em;box-sizing: border-box;margin-bottom: 0.5em;}#sk-container-id-1 div.sk-estimator:hover {background-color: #d4ebff;}#sk-container-id-1 div.sk-parallel-item::after {content: \"\";width: 100%;border-bottom: 1px solid gray;flex-grow: 1;}#sk-container-id-1 div.sk-label:hover label.sk-toggleable__label {background-color: #d4ebff;}#sk-container-id-1 div.sk-serial::before {content: \"\";position: absolute;border-left: 1px solid gray;box-sizing: border-box;top: 0;bottom: 0;left: 50%;z-index: 0;}#sk-container-id-1 div.sk-serial {display: flex;flex-direction: column;align-items: center;background-color: white;padding-right: 0.2em;padding-left: 0.2em;position: relative;}#sk-container-id-1 div.sk-item {position: relative;z-index: 1;}#sk-container-id-1 div.sk-parallel {display: flex;align-items: stretch;justify-content: center;background-color: white;position: relative;}#sk-container-id-1 div.sk-item::before, #sk-container-id-1 div.sk-parallel-item::before {content: \"\";position: absolute;border-left: 1px solid gray;box-sizing: border-box;top: 0;bottom: 0;left: 50%;z-index: -1;}#sk-container-id-1 div.sk-parallel-item {display: flex;flex-direction: column;z-index: 1;position: relative;background-color: white;}#sk-container-id-1 div.sk-parallel-item:first-child::after {align-self: flex-end;width: 50%;}#sk-container-id-1 div.sk-parallel-item:last-child::after {align-self: flex-start;width: 50%;}#sk-container-id-1 div.sk-parallel-item:only-child::after {width: 0;}#sk-container-id-1 div.sk-dashed-wrapped {border: 1px dashed gray;margin: 0 0.4em 0.5em 0.4em;box-sizing: border-box;padding-bottom: 0.4em;background-color: white;}#sk-container-id-1 div.sk-label label {font-family: monospace;font-weight: bold;display: inline-block;line-height: 1.2em;}#sk-container-id-1 div.sk-label-container {text-align: center;}#sk-container-id-1 div.sk-container {/* jupyter's `normalize.less` sets `[hidden] { display: none; }` but bootstrap.min.css set `[hidden] { display: none !important; }` so we also need the `!important` here to be able to override the default hidden behavior on the sphinx rendered scikit-learn.org. See: https://github.com/scikit-learn/scikit-learn/issues/21755 */display: inline-block !important;position: relative;}#sk-container-id-1 div.sk-text-repr-fallback {display: none;}</style><div id=\"sk-container-id-1\" class=\"sk-top-container\"><div class=\"sk-text-repr-fallback\"><pre>LinearRegression()</pre><b>In a Jupyter environment, please rerun this cell to show the HTML representation or trust the notebook. <br />On GitHub, the HTML representation is unable to render, please try loading this page with nbviewer.org.</b></div><div class=\"sk-container\" hidden><div class=\"sk-item\"><div class=\"sk-estimator sk-toggleable\"><input class=\"sk-toggleable__control sk-hidden--visually\" id=\"sk-estimator-id-1\" type=\"checkbox\" checked><label for=\"sk-estimator-id-1\" class=\"sk-toggleable__label sk-toggleable__label-arrow\">LinearRegression</label><div class=\"sk-toggleable__content\"><pre>LinearRegression()</pre></div></div></div></div></div>"
      ],
      "text/plain": [
       "LinearRegression()"
      ]
     },
     "execution_count": 9,
     "metadata": {},
     "output_type": "execute_result"
    }
   ],
   "source": [
    "model = LinearRegression()\n",
    "model.fit(X_train, y_train)"
   ]
  },
  {
   "cell_type": "code",
   "execution_count": 10,
   "id": "055d68d9",
   "metadata": {
    "execution": {
     "iopub.execute_input": "2025-05-01T23:06:11.873116Z",
     "iopub.status.busy": "2025-05-01T23:06:11.872682Z",
     "iopub.status.idle": "2025-05-01T23:06:11.880350Z",
     "shell.execute_reply": "2025-05-01T23:06:11.879180Z"
    },
    "papermill": {
     "duration": 0.015457,
     "end_time": "2025-05-01T23:06:11.882174",
     "exception": false,
     "start_time": "2025-05-01T23:06:11.866717",
     "status": "completed"
    },
    "tags": []
   },
   "outputs": [],
   "source": [
    "y_pred = model.predict(X_test)"
   ]
  },
  {
   "cell_type": "markdown",
   "id": "9d372e14",
   "metadata": {
    "papermill": {
     "duration": 0.006819,
     "end_time": "2025-05-01T23:06:11.896394",
     "exception": false,
     "start_time": "2025-05-01T23:06:11.889575",
     "status": "completed"
    },
    "tags": []
   },
   "source": [
    "## Model Results\n",
    "This section evaluates the linear regression model predicting sales based on advertising budgets (TV, Radio, Newspaper):\n",
    "\n",
    "- **R² Score**: Shows how well the model explains sales (closer to 1 is better).\n",
    "- **MSE**: Measures the size of prediction errors (lower is better).\n",
    "- **Coefficients**: Indicates which ad type impacts sales the most (higher coefficient = more impact).\n",
    "- **Plot**: Compares actual vs. predicted sales."
   ]
  },
  {
   "cell_type": "code",
   "execution_count": 11,
   "id": "2af1650d",
   "metadata": {
    "execution": {
     "iopub.execute_input": "2025-05-01T23:06:11.907866Z",
     "iopub.status.busy": "2025-05-01T23:06:11.907402Z",
     "iopub.status.idle": "2025-05-01T23:06:11.914866Z",
     "shell.execute_reply": "2025-05-01T23:06:11.913857Z"
    },
    "papermill": {
     "duration": 0.014749,
     "end_time": "2025-05-01T23:06:11.916590",
     "exception": false,
     "start_time": "2025-05-01T23:06:11.901841",
     "status": "completed"
    },
    "tags": []
   },
   "outputs": [],
   "source": [
    "r2 = r2_score(y_test, y_pred)\n",
    "mse = mean_squared_error(y_test, y_pred)"
   ]
  },
  {
   "cell_type": "code",
   "execution_count": 12,
   "id": "3c13ae45",
   "metadata": {
    "execution": {
     "iopub.execute_input": "2025-05-01T23:06:11.927344Z",
     "iopub.status.busy": "2025-05-01T23:06:11.926490Z",
     "iopub.status.idle": "2025-05-01T23:06:11.936030Z",
     "shell.execute_reply": "2025-05-01T23:06:11.935018Z"
    },
    "papermill": {
     "duration": 0.016596,
     "end_time": "2025-05-01T23:06:11.937825",
     "exception": false,
     "start_time": "2025-05-01T23:06:11.921229",
     "status": "completed"
    },
    "tags": []
   },
   "outputs": [
    {
     "data": {
      "text/html": [
       "<div>\n",
       "<style scoped>\n",
       "    .dataframe tbody tr th:only-of-type {\n",
       "        vertical-align: middle;\n",
       "    }\n",
       "\n",
       "    .dataframe tbody tr th {\n",
       "        vertical-align: top;\n",
       "    }\n",
       "\n",
       "    .dataframe thead th {\n",
       "        text-align: right;\n",
       "    }\n",
       "</style>\n",
       "<table border=\"1\" class=\"dataframe\">\n",
       "  <thead>\n",
       "    <tr style=\"text-align: right;\">\n",
       "      <th></th>\n",
       "      <th>Metrik</th>\n",
       "      <th>Değer</th>\n",
       "    </tr>\n",
       "  </thead>\n",
       "  <tbody>\n",
       "    <tr>\n",
       "      <th>0</th>\n",
       "      <td>R² Skoru</td>\n",
       "      <td>0.905901</td>\n",
       "    </tr>\n",
       "    <tr>\n",
       "      <th>1</th>\n",
       "      <td>Ortalama Kare Hata (MSE)</td>\n",
       "      <td>2.907757</td>\n",
       "    </tr>\n",
       "  </tbody>\n",
       "</table>\n",
       "</div>"
      ],
      "text/plain": [
       "                     Metrik     Değer\n",
       "0                  R² Skoru  0.905901\n",
       "1  Ortalama Kare Hata (MSE)  2.907757"
      ]
     },
     "metadata": {},
     "output_type": "display_data"
    }
   ],
   "source": [
    "results = pd.DataFrame({\n",
    "    'Metrik': ['R² Skoru', 'Ortalama Kare Hata (MSE)'],\n",
    "    'Değer': [r2, mse]\n",
    "})\n",
    "display(results)"
   ]
  },
  {
   "cell_type": "code",
   "execution_count": 13,
   "id": "25557648",
   "metadata": {
    "execution": {
     "iopub.execute_input": "2025-05-01T23:06:11.955061Z",
     "iopub.status.busy": "2025-05-01T23:06:11.954414Z",
     "iopub.status.idle": "2025-05-01T23:06:11.965621Z",
     "shell.execute_reply": "2025-05-01T23:06:11.964711Z"
    },
    "papermill": {
     "duration": 0.022111,
     "end_time": "2025-05-01T23:06:11.967525",
     "exception": false,
     "start_time": "2025-05-01T23:06:11.945414",
     "status": "completed"
    },
    "tags": []
   },
   "outputs": [
    {
     "data": {
      "text/html": [
       "<div>\n",
       "<style scoped>\n",
       "    .dataframe tbody tr th:only-of-type {\n",
       "        vertical-align: middle;\n",
       "    }\n",
       "\n",
       "    .dataframe tbody tr th {\n",
       "        vertical-align: top;\n",
       "    }\n",
       "\n",
       "    .dataframe thead th {\n",
       "        text-align: right;\n",
       "    }\n",
       "</style>\n",
       "<table border=\"1\" class=\"dataframe\">\n",
       "  <thead>\n",
       "    <tr style=\"text-align: right;\">\n",
       "      <th></th>\n",
       "      <th>Reklam Türü</th>\n",
       "      <th>Katsayı</th>\n",
       "    </tr>\n",
       "  </thead>\n",
       "  <tbody>\n",
       "    <tr>\n",
       "      <th>0</th>\n",
       "      <td>TV</td>\n",
       "      <td>0.054509</td>\n",
       "    </tr>\n",
       "    <tr>\n",
       "      <th>1</th>\n",
       "      <td>Radio</td>\n",
       "      <td>0.100945</td>\n",
       "    </tr>\n",
       "    <tr>\n",
       "      <th>2</th>\n",
       "      <td>Newspaper</td>\n",
       "      <td>0.004337</td>\n",
       "    </tr>\n",
       "    <tr>\n",
       "      <th>3</th>\n",
       "      <td>Sabit (Intercept)</td>\n",
       "      <td>4.714126</td>\n",
       "    </tr>\n",
       "  </tbody>\n",
       "</table>\n",
       "</div>"
      ],
      "text/plain": [
       "         Reklam Türü   Katsayı\n",
       "0                 TV  0.054509\n",
       "1              Radio  0.100945\n",
       "2          Newspaper  0.004337\n",
       "3  Sabit (Intercept)  4.714126"
      ]
     },
     "metadata": {},
     "output_type": "display_data"
    }
   ],
   "source": [
    "coef_df = pd.DataFrame({\n",
    "    'Reklam Türü': ['TV', 'Radio', 'Newspaper'],\n",
    "    'Katsayı': model.coef_\n",
    "})\n",
    "coef_df.loc[len(coef_df)] = ['Sabit (Intercept)', model.intercept_]\n",
    "display(coef_df)"
   ]
  },
  {
   "cell_type": "code",
   "execution_count": 14,
   "id": "06d1e776",
   "metadata": {
    "execution": {
     "iopub.execute_input": "2025-05-01T23:06:11.980283Z",
     "iopub.status.busy": "2025-05-01T23:06:11.979801Z",
     "iopub.status.idle": "2025-05-01T23:06:12.237200Z",
     "shell.execute_reply": "2025-05-01T23:06:12.236136Z"
    },
    "papermill": {
     "duration": 0.265627,
     "end_time": "2025-05-01T23:06:12.239499",
     "exception": false,
     "start_time": "2025-05-01T23:06:11.973872",
     "status": "completed"
    },
    "tags": []
   },
   "outputs": [
    {
     "data": {
      "image/png": "[encoded data removed]",
      "text/plain": [
       "<Figure size 800x600 with 1 Axes>"
      ]
     },
     "metadata": {},
     "output_type": "display_data"
    }
   ],
   "source": [
    "plt.figure(figsize=(8, 6))\n",
    "plt.scatter(y_test, y_pred, color='blue', alpha=0.5)\n",
    "plt.plot([y_test.min(), y_test.max()], [y_test.min(), y_test.max()], 'r--', lw=2)\n",
    "plt.xlabel('Gerçek Satışlar')\n",
    "plt.ylabel('Tahmin Edilen Satışlar')\n",
    "plt.title('Gerçek vs Tahmin Edilen Satışlar')\n",
    "plt.grid(True)\n",
    "plt.show()"
   ]
  },
  {
   "cell_type": "markdown",
   "id": "da56a32b",
   "metadata": {
    "papermill": {
     "duration": 0.005502,
     "end_time": "2025-05-01T23:06:12.254232",
     "exception": false,
     "start_time": "2025-05-01T23:06:12.248730",
     "status": "completed"
    },
    "tags": []
   },
   "source": [
    "## Project Summary\n",
    "\n",
    "In this project, we built a linear regression model to predict sales based on advertising budgets for TV, Radio, and Newspaper. The steps included:\n",
    "\n",
    "- **Data Exploration**: Analyzed the dataset and visualized correlations to understand relationships between ad budgets and sales.\n",
    "- **Model Training**: Trained a linear regression model using scikit-learn.\n",
    "- **Evaluation**: Assessed the model’s performance using R² score and MSE, and examined coefficients to identify the most impactful ad type.\n",
    "- **Visualization**: Plotted actual vs. predicted sales to evaluate prediction accuracy.\n",
    "\n",
    "**Findings**: The model effectively predicts sales, with TV advertising having the strongest impact on sales, as indicated by its high coefficient. This suggests prioritizing TV ad budgets for maximizing sales."
   ]
  }
 ],
 "metadata": {
  "kaggle": {
   "accelerator": "none",
   "dataSources": [
    {
     "datasetId": 133357,
     "sourceId": 317184,
     "sourceType": "datasetVersion"
    }
   ],
   "dockerImageVersionId": 31012,
   "isGpuEnabled": false,
   "isInternetEnabled": true,
   "language": "python",
   "sourceType": "notebook"
  },
  "kernelspec": {
   "display_name": "Python 3",
   "language": "python",
   "name": "python3"
  },
  "language_info": {
   "codemirror_mode": {
    "name": "ipython",
    "version": 3
   },
   "file_extension": ".py",
   "mimetype": "text/x-python",
   "name": "python",
   "nbconvert_exporter": "python",
   "pygments_lexer": "ipython3",
   "version": "3.11.11"
  },
  "papermill": {
   "default_parameters": {},
   "duration": 12.718154,
   "end_time": "2025-05-01T23:06:12.980880",
   "environment_variables": {},
   "exception": null,
   "input_path": "__notebook__.ipynb",
   "output_path": "__notebook__.ipynb",
   "parameters": {},
   "start_time": "2025-05-01T23:06:00.262726",
   "version": "2.6.0"
  }
 },
 "nbformat": 4,
 "nbformat_minor": 5
}
