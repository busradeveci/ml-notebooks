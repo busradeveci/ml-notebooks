{
 "cells": [
  {
   "cell_type": "code",
   "execution_count": 1,
   "id": "161ef1da",
   "metadata": {
    "execution": {
     "iopub.execute_input": "2025-05-28T23:03:52.752959Z",
     "iopub.status.busy": "2025-05-28T23:03:52.752564Z",
     "iopub.status.idle": "2025-05-28T23:03:56.997756Z",
     "shell.execute_reply": "2025-05-28T23:03:56.996782Z"
    },
    "papermill": {
     "duration": 4.255238,
     "end_time": "2025-05-28T23:03:56.999651",
     "exception": false,
     "start_time": "2025-05-28T23:03:52.744413",
     "status": "completed"
    },
    "tags": []
   },
   "outputs": [],
   "source": [
    "import pandas as pd\n",
    "import matplotlib.pyplot as plt\n",
    "import seaborn as sns"
   ]
  },
  {
   "cell_type": "code",
   "execution_count": 2,
   "id": "39e2437a",
   "metadata": {
    "execution": {
     "iopub.execute_input": "2025-05-28T23:03:57.012833Z",
     "iopub.status.busy": "2025-05-28T23:03:57.012445Z",
     "iopub.status.idle": "2025-05-28T23:03:57.035663Z",
     "shell.execute_reply": "2025-05-28T23:03:57.034788Z"
    },
    "papermill": {
     "duration": 0.031831,
     "end_time": "2025-05-28T23:03:57.037523",
     "exception": false,
     "start_time": "2025-05-28T23:03:57.005692",
     "status": "completed"
    },
    "tags": []
   },
   "outputs": [],
   "source": [
    "data = pd.read_csv(\"/kaggle/input/ai-developer-productivity-dataset/ai_dev_productivity.csv\")"
   ]
  },
  {
   "cell_type": "code",
   "execution_count": 3,
   "id": "1e063502",
   "metadata": {
    "execution": {
     "iopub.execute_input": "2025-05-28T23:03:57.050103Z",
     "iopub.status.busy": "2025-05-28T23:03:57.049755Z",
     "iopub.status.idle": "2025-05-28T23:03:57.117359Z",
     "shell.execute_reply": "2025-05-28T23:03:57.116480Z"
    },
    "papermill": {
     "duration": 0.075637,
     "end_time": "2025-05-28T23:03:57.118952",
     "exception": false,
     "start_time": "2025-05-28T23:03:57.043315",
     "status": "completed"
    },
    "tags": []
   },
   "outputs": [
    {
     "name": "stdout",
     "output_type": "stream",
     "text": [
      "<class 'pandas.core.frame.DataFrame'>\n",
      "RangeIndex: 500 entries, 0 to 499\n",
      "Data columns (total 9 columns):\n",
      " #   Column            Non-Null Count  Dtype  \n",
      "---  ------            --------------  -----  \n",
      " 0   hours_coding      500 non-null    float64\n",
      " 1   coffee_intake_mg  500 non-null    int64  \n",
      " 2   distractions      500 non-null    int64  \n",
      " 3   sleep_hours       500 non-null    float64\n",
      " 4   commits           500 non-null    int64  \n",
      " 5   bugs_reported     500 non-null    int64  \n",
      " 6   ai_usage_hours    500 non-null    float64\n",
      " 7   cognitive_load    500 non-null    float64\n",
      " 8   task_success      500 non-null    int64  \n",
      "dtypes: float64(4), int64(5)\n",
      "memory usage: 35.3 KB\n"
     ]
    },
    {
     "data": {
      "text/html": [
       "<div>\n",
       "<style scoped>\n",
       "    .dataframe tbody tr th:only-of-type {\n",
       "        vertical-align: middle;\n",
       "    }\n",
       "\n",
       "    .dataframe tbody tr th {\n",
       "        vertical-align: top;\n",
       "    }\n",
       "\n",
       "    .dataframe thead th {\n",
       "        text-align: right;\n",
       "    }\n",
       "</style>\n",
       "<table border=\"1\" class=\"dataframe\">\n",
       "  <thead>\n",
       "    <tr style=\"text-align: right;\">\n",
       "      <th></th>\n",
       "      <th>hours_coding</th>\n",
       "      <th>coffee_intake_mg</th>\n",
       "      <th>distractions</th>\n",
       "      <th>sleep_hours</th>\n",
       "      <th>commits</th>\n",
       "      <th>bugs_reported</th>\n",
       "      <th>ai_usage_hours</th>\n",
       "      <th>cognitive_load</th>\n",
       "      <th>task_success</th>\n",
       "    </tr>\n",
       "  </thead>\n",
       "  <tbody>\n",
       "    <tr>\n",
       "      <th>count</th>\n",
       "      <td>500.000000</td>\n",
       "      <td>500.000000</td>\n",
       "      <td>500.000000</td>\n",
       "      <td>500.000000</td>\n",
       "      <td>500.00000</td>\n",
       "      <td>500.000000</td>\n",
       "      <td>500.000000</td>\n",
       "      <td>500.000000</td>\n",
       "      <td>500.000000</td>\n",
       "    </tr>\n",
       "    <tr>\n",
       "      <th>mean</th>\n",
       "      <td>5.015600</td>\n",
       "      <td>463.192000</td>\n",
       "      <td>2.976000</td>\n",
       "      <td>6.975800</td>\n",
       "      <td>4.60800</td>\n",
       "      <td>0.858000</td>\n",
       "      <td>1.510920</td>\n",
       "      <td>4.498200</td>\n",
       "      <td>0.606000</td>\n",
       "    </tr>\n",
       "    <tr>\n",
       "      <th>std</th>\n",
       "      <td>1.947253</td>\n",
       "      <td>142.334991</td>\n",
       "      <td>1.678409</td>\n",
       "      <td>1.455965</td>\n",
       "      <td>2.70499</td>\n",
       "      <td>1.102846</td>\n",
       "      <td>1.085557</td>\n",
       "      <td>1.868861</td>\n",
       "      <td>0.489124</td>\n",
       "    </tr>\n",
       "    <tr>\n",
       "      <th>min</th>\n",
       "      <td>0.000000</td>\n",
       "      <td>6.000000</td>\n",
       "      <td>0.000000</td>\n",
       "      <td>3.000000</td>\n",
       "      <td>0.00000</td>\n",
       "      <td>0.000000</td>\n",
       "      <td>0.000000</td>\n",
       "      <td>1.000000</td>\n",
       "      <td>0.000000</td>\n",
       "    </tr>\n",
       "    <tr>\n",
       "      <th>25%</th>\n",
       "      <td>3.600000</td>\n",
       "      <td>369.500000</td>\n",
       "      <td>2.000000</td>\n",
       "      <td>6.100000</td>\n",
       "      <td>3.00000</td>\n",
       "      <td>0.000000</td>\n",
       "      <td>0.697500</td>\n",
       "      <td>3.175000</td>\n",
       "      <td>0.000000</td>\n",
       "    </tr>\n",
       "    <tr>\n",
       "      <th>50%</th>\n",
       "      <td>5.030000</td>\n",
       "      <td>500.500000</td>\n",
       "      <td>3.000000</td>\n",
       "      <td>6.950000</td>\n",
       "      <td>5.00000</td>\n",
       "      <td>0.000000</td>\n",
       "      <td>1.260000</td>\n",
       "      <td>4.400000</td>\n",
       "      <td>1.000000</td>\n",
       "    </tr>\n",
       "    <tr>\n",
       "      <th>75%</th>\n",
       "      <td>6.275000</td>\n",
       "      <td>600.000000</td>\n",
       "      <td>4.000000</td>\n",
       "      <td>7.900000</td>\n",
       "      <td>6.00000</td>\n",
       "      <td>2.000000</td>\n",
       "      <td>2.070000</td>\n",
       "      <td>5.800000</td>\n",
       "      <td>1.000000</td>\n",
       "    </tr>\n",
       "    <tr>\n",
       "      <th>max</th>\n",
       "      <td>12.000000</td>\n",
       "      <td>600.000000</td>\n",
       "      <td>8.000000</td>\n",
       "      <td>10.000000</td>\n",
       "      <td>13.00000</td>\n",
       "      <td>5.000000</td>\n",
       "      <td>6.360000</td>\n",
       "      <td>10.000000</td>\n",
       "      <td>1.000000</td>\n",
       "    </tr>\n",
       "  </tbody>\n",
       "</table>\n",
       "</div>"
      ],
      "text/plain": [
       "       hours_coding  coffee_intake_mg  distractions  sleep_hours    commits  \\\n",
       "count    500.000000        500.000000    500.000000   500.000000  500.00000   \n",
       "mean       5.015600        463.192000      2.976000     6.975800    4.60800   \n",
       "std        1.947253        142.334991      1.678409     1.455965    2.70499   \n",
       "min        0.000000          6.000000      0.000000     3.000000    0.00000   \n",
       "25%        3.600000        369.500000      2.000000     6.100000    3.00000   \n",
       "50%        5.030000        500.500000      3.000000     6.950000    5.00000   \n",
       "75%        6.275000        600.000000      4.000000     7.900000    6.00000   \n",
       "max       12.000000        600.000000      8.000000    10.000000   13.00000   \n",
       "\n",
       "       bugs_reported  ai_usage_hours  cognitive_load  task_success  \n",
       "count     500.000000      500.000000      500.000000    500.000000  \n",
       "mean        0.858000        1.510920        4.498200      0.606000  \n",
       "std         1.102846        1.085557        1.868861      0.489124  \n",
       "min         0.000000        0.000000        1.000000      0.000000  \n",
       "25%         0.000000        0.697500        3.175000      0.000000  \n",
       "50%         0.000000        1.260000        4.400000      1.000000  \n",
       "75%         2.000000        2.070000        5.800000      1.000000  \n",
       "max         5.000000        6.360000       10.000000      1.000000  "
      ]
     },
     "execution_count": 3,
     "metadata": {},
     "output_type": "execute_result"
    }
   ],
   "source": [
    "data.head()\n",
    "data.info()\n",
    "data.describe()"
   ]
  },
  {
   "cell_type": "code",
   "execution_count": 4,
   "id": "d9989278",
   "metadata": {
    "execution": {
     "iopub.execute_input": "2025-05-28T23:03:57.132478Z",
     "iopub.status.busy": "2025-05-28T23:03:57.132169Z",
     "iopub.status.idle": "2025-05-28T23:03:57.487273Z",
     "shell.execute_reply": "2025-05-28T23:03:57.486174Z"
    },
    "papermill": {
     "duration": 0.363822,
     "end_time": "2025-05-28T23:03:57.489010",
     "exception": false,
     "start_time": "2025-05-28T23:03:57.125188",
     "status": "completed"
    },
    "tags": []
   },
   "outputs": [
    {
     "data": {
      "image/png": "[encoded data removed]",
      "text/plain": [
       "<Figure size 800x600 with 1 Axes>"
      ]
     },
     "metadata": {},
     "output_type": "display_data"
    }
   ],
   "source": [
    "plt.figure(figsize=(8,6))\n",
    "sns.scatterplot(x='coffee_intake_mg', y='bugs_reported', data=data)\n",
    "plt.title('Kafein Alımı Vs Hata Sayısı')\n",
    "plt.xlabel('Kafein Alımı (mg)')\n",
    "plt.ylabel('Hatalar (Bugs)')\n",
    "plt.show()"
   ]
  },
  {
   "cell_type": "code",
   "execution_count": 5,
   "id": "7a010b81",
   "metadata": {
    "execution": {
     "iopub.execute_input": "2025-05-28T23:03:57.503900Z",
     "iopub.status.busy": "2025-05-28T23:03:57.503562Z",
     "iopub.status.idle": "2025-05-28T23:03:57.511385Z",
     "shell.execute_reply": "2025-05-28T23:03:57.510328Z"
    },
    "papermill": {
     "duration": 0.017073,
     "end_time": "2025-05-28T23:03:57.513072",
     "exception": false,
     "start_time": "2025-05-28T23:03:57.495999",
     "status": "completed"
    },
    "tags": []
   },
   "outputs": [
    {
     "name": "stdout",
     "output_type": "stream",
     "text": [
      "Kafein alımı ile hata sayısı arasındaki korelasyon: 0.04626122475964644\n"
     ]
    }
   ],
   "source": [
    "#korelasyon hesaplama\n",
    "korelasyon= data['coffee_intake_mg'].corr(data['bugs_reported'])\n",
    "print(f\"Kafein alımı ile hata sayısı arasındaki korelasyon: {korelasyon}\")"
   ]
  },
  {
   "cell_type": "code",
   "execution_count": 6,
   "id": "85c51732",
   "metadata": {
    "execution": {
     "iopub.execute_input": "2025-05-28T23:03:57.527854Z",
     "iopub.status.busy": "2025-05-28T23:03:57.527496Z",
     "iopub.status.idle": "2025-05-28T23:03:57.547319Z",
     "shell.execute_reply": "2025-05-28T23:03:57.546327Z"
    },
    "papermill": {
     "duration": 0.02909,
     "end_time": "2025-05-28T23:03:57.549030",
     "exception": false,
     "start_time": "2025-05-28T23:03:57.519940",
     "status": "completed"
    },
    "tags": []
   },
   "outputs": [
    {
     "name": "stdout",
     "output_type": "stream",
     "text": [
      "0      Yüksek\n",
      "1      Yüksek\n",
      "2      Yüksek\n",
      "3      Yüksek\n",
      "4      Yüksek\n",
      "        ...  \n",
      "495    Yüksek\n",
      "496      Orta\n",
      "497    Yüksek\n",
      "498      Orta\n",
      "499      Orta\n",
      "Name: coffee_kategori, Length: 500, dtype: category\n",
      "Categories (3, object): ['Düşük' < 'Orta' < 'Yüksek']\n"
     ]
    }
   ],
   "source": [
    "#kafein alımı kategorilere ayırma\n",
    "data['coffee_kategori'] = pd.cut(data['coffee_intake_mg'], bins=[0, 200, 400, 600], labels=['Düşük', 'Orta', 'Yüksek'])\n",
    "print(data.coffee_kategori)"
   ]
  },
  {
   "cell_type": "code",
   "execution_count": 7,
   "id": "ba4c7d43",
   "metadata": {
    "execution": {
     "iopub.execute_input": "2025-05-28T23:03:57.564058Z",
     "iopub.status.busy": "2025-05-28T23:03:57.563722Z",
     "iopub.status.idle": "2025-05-28T23:03:57.572607Z",
     "shell.execute_reply": "2025-05-28T23:03:57.571617Z"
    },
    "papermill": {
     "duration": 0.018412,
     "end_time": "2025-05-28T23:03:57.574431",
     "exception": false,
     "start_time": "2025-05-28T23:03:57.556019",
     "status": "completed"
    },
    "tags": []
   },
   "outputs": [
    {
     "name": "stdout",
     "output_type": "stream",
     "text": [
      "\n",
      "Kafein kategorilerine göre ortalama hata sayısı:\n",
      "coffee_kategori\n",
      "Düşük     0.741935\n",
      "Orta      0.842975\n",
      "Yüksek    0.873563\n",
      "Name: bugs_reported, dtype: float64\n"
     ]
    },
    {
     "name": "stderr",
     "output_type": "stream",
     "text": [
      "/tmp/ipykernel_13/536599236.py:2: FutureWarning: The default of observed=False is deprecated and will be changed to True in a future version of pandas. Pass observed=False to retain current behavior or observed=True to adopt the future default and silence this warning.\n",
      "  coffee_bugs= data.groupby('coffee_kategori')['bugs_reported'].mean()\n"
     ]
    }
   ],
   "source": [
    "#kafein kategorierine göre ortalama hata sayısı\n",
    "coffee_bugs= data.groupby('coffee_kategori')['bugs_reported'].mean()\n",
    "print(\"\\nKafein kategorilerine göre ortalama hata sayısı:\")\n",
    "print(coffee_bugs)"
   ]
  },
  {
   "cell_type": "code",
   "execution_count": 8,
   "id": "3db2d9ac",
   "metadata": {
    "execution": {
     "iopub.execute_input": "2025-05-28T23:03:57.589918Z",
     "iopub.status.busy": "2025-05-28T23:03:57.589530Z",
     "iopub.status.idle": "2025-05-28T23:03:57.860243Z",
     "shell.execute_reply": "2025-05-28T23:03:57.859018Z"
    },
    "papermill": {
     "duration": 0.280396,
     "end_time": "2025-05-28T23:03:57.861946",
     "exception": false,
     "start_time": "2025-05-28T23:03:57.581550",
     "status": "completed"
    },
    "tags": []
   },
   "outputs": [
    {
     "name": "stderr",
     "output_type": "stream",
     "text": [
      "/usr/local/lib/python3.11/dist-packages/seaborn/categorical.py:641: FutureWarning: The default of observed=False is deprecated and will be changed to True in a future version of pandas. Pass observed=False to retain current behavior or observed=True to adopt the future default and silence this warning.\n",
      "  grouped_vals = vals.groupby(grouper)\n"
     ]
    },
    {
     "data": {
      "image/png": "[encoded data removed]",
      "text/plain": [
       "<Figure size 800x600 with 1 Axes>"
      ]
     },
     "metadata": {},
     "output_type": "display_data"
    }
   ],
   "source": [
    "#kafein kategorilerine göre hata sayısı grafiği\n",
    "plt.figure(figsize=(8,6))\n",
    "sns.boxplot(x='coffee_kategori', y='bugs_reported', data=data)\n",
    "plt.title('Kafein Kategorilerine göre hata sayısı dağılımı')\n",
    "plt.xlabel('Kafein Kategorisi')\n",
    "plt.ylabel('Hata sayısı')\n",
    "plt.show()"
   ]
  },
  {
   "cell_type": "code",
   "execution_count": 9,
   "id": "2443ed5e",
   "metadata": {
    "execution": {
     "iopub.execute_input": "2025-05-28T23:03:57.879049Z",
     "iopub.status.busy": "2025-05-28T23:03:57.878705Z",
     "iopub.status.idle": "2025-05-28T23:03:58.294052Z",
     "shell.execute_reply": "2025-05-28T23:03:58.292816Z"
    },
    "papermill": {
     "duration": 0.428249,
     "end_time": "2025-05-28T23:03:58.297900",
     "exception": false,
     "start_time": "2025-05-28T23:03:57.869651",
     "status": "completed"
    },
    "tags": []
   },
   "outputs": [
    {
     "data": {
      "image/png": "[encoded data removed]",
      "text/plain": [
       "<Figure size 1000x1000 with 2 Axes>"
      ]
     },
     "metadata": {},
     "output_type": "display_data"
    },
    {
     "name": "stdout",
     "output_type": "stream",
     "text": [
      "Hatalar ve diğer değişkenlerin korelasyonu: \n",
      "coffee_intake_mg    0.046261\n",
      "distractions       -0.008341\n",
      "sleep_hours        -0.384424\n",
      "hours_coding        0.055979\n",
      "ai_usage_hours      0.113885\n",
      "cognitive_load      0.292640\n",
      "bugs_reported       1.000000\n",
      "Name: bugs_reported, dtype: float64\n"
     ]
    }
   ],
   "source": [
    "#korelasyon matrisi\n",
    "corr_matrix= data[['coffee_intake_mg', 'distractions', 'sleep_hours', 'hours_coding', 'ai_usage_hours', 'cognitive_load', 'bugs_reported']].corr()\n",
    "\n",
    "#korelasyon görselleştirme\n",
    "plt.figure(figsize=(10,10))\n",
    "sns.heatmap(corr_matrix, annot=True, cmap='coolwarm', vmin=-1, vmax=1)\n",
    "plt.title('Değişkenler arası korelasyon matrisi')\n",
    "plt.show()\n",
    "\n",
    "#hata ve diğer değişkenlerin korelasyonu\n",
    "print('Hatalar ve diğer değişkenlerin korelasyonu: ')\n",
    "print(corr_matrix['bugs_reported'])"
   ]
  },
  {
   "cell_type": "code",
   "execution_count": 10,
   "id": "17f27bdf",
   "metadata": {
    "execution": {
     "iopub.execute_input": "2025-05-28T23:03:58.320579Z",
     "iopub.status.busy": "2025-05-28T23:03:58.320303Z",
     "iopub.status.idle": "2025-05-28T23:03:59.177048Z",
     "shell.execute_reply": "2025-05-28T23:03:59.175940Z"
    },
    "papermill": {
     "duration": 0.869632,
     "end_time": "2025-05-28T23:03:59.178813",
     "exception": false,
     "start_time": "2025-05-28T23:03:58.309181",
     "status": "completed"
    },
    "tags": []
   },
   "outputs": [],
   "source": [
    "import pandas as pd\n",
    "from sklearn.ensemble import RandomForestRegressor\n",
    "from sklearn.model_selection import train_test_split\n",
    "from sklearn.metrics import mean_squared_error, r2_score"
   ]
  },
  {
   "cell_type": "code",
   "execution_count": 11,
   "id": "7786d960",
   "metadata": {
    "execution": {
     "iopub.execute_input": "2025-05-28T23:03:59.201586Z",
     "iopub.status.busy": "2025-05-28T23:03:59.201295Z",
     "iopub.status.idle": "2025-05-28T23:03:59.210394Z",
     "shell.execute_reply": "2025-05-28T23:03:59.209224Z"
    },
    "papermill": {
     "duration": 0.022333,
     "end_time": "2025-05-28T23:03:59.212591",
     "exception": false,
     "start_time": "2025-05-28T23:03:59.190258",
     "status": "completed"
    },
    "tags": []
   },
   "outputs": [],
   "source": [
    "data = pd.read_csv('/kaggle/input/ai-developer-productivity-dataset/ai_dev_productivity.csv')"
   ]
  },
  {
   "cell_type": "code",
   "execution_count": 12,
   "id": "d40a24a1",
   "metadata": {
    "execution": {
     "iopub.execute_input": "2025-05-28T23:03:59.235511Z",
     "iopub.status.busy": "2025-05-28T23:03:59.235177Z",
     "iopub.status.idle": "2025-05-28T23:03:59.242368Z",
     "shell.execute_reply": "2025-05-28T23:03:59.241218Z"
    },
    "papermill": {
     "duration": 0.020911,
     "end_time": "2025-05-28T23:03:59.244367",
     "exception": false,
     "start_time": "2025-05-28T23:03:59.223456",
     "status": "completed"
    },
    "tags": []
   },
   "outputs": [],
   "source": [
    "#özellikler ve hedef\n",
    "X = data[['coffee_intake_mg', 'sleep_hours', 'cognitive_load', 'hours_coding', 'ai_usage_hours', 'distractions']]\n",
    "y = data['bugs_reported']"
   ]
  },
  {
   "cell_type": "code",
   "execution_count": 13,
   "id": "b3670fe9",
   "metadata": {
    "execution": {
     "iopub.execute_input": "2025-05-28T23:03:59.267890Z",
     "iopub.status.busy": "2025-05-28T23:03:59.267575Z",
     "iopub.status.idle": "2025-05-28T23:03:59.497254Z",
     "shell.execute_reply": "2025-05-28T23:03:59.496158Z"
    },
    "papermill": {
     "duration": 0.243171,
     "end_time": "2025-05-28T23:03:59.499061",
     "exception": false,
     "start_time": "2025-05-28T23:03:59.255890",
     "status": "completed"
    },
    "tags": []
   },
   "outputs": [],
   "source": [
    "#veriyi ayır\n",
    "X_train, X_test, y_train, y_test = train_test_split(X, y, test_size=0.2, random_state=42)\n",
    "\n",
    "# modeli eğit\n",
    "model= RandomForestRegressor(random_state=42)\n",
    "model.fit(X_train, y_train)\n",
    "\n",
    "#Tahmin\n",
    "y_pred = model.predict(X_test)"
   ]
  },
  {
   "cell_type": "code",
   "execution_count": 14,
   "id": "f4867560",
   "metadata": {
    "execution": {
     "iopub.execute_input": "2025-05-28T23:03:59.520547Z",
     "iopub.status.busy": "2025-05-28T23:03:59.520212Z",
     "iopub.status.idle": "2025-05-28T23:03:59.533706Z",
     "shell.execute_reply": "2025-05-28T23:03:59.532712Z"
    },
    "papermill": {
     "duration": 0.026479,
     "end_time": "2025-05-28T23:03:59.535605",
     "exception": false,
     "start_time": "2025-05-28T23:03:59.509126",
     "status": "completed"
    },
    "tags": []
   },
   "outputs": [
    {
     "name": "stdout",
     "output_type": "stream",
     "text": [
      "MSE: 1.2701740000000001\n",
      "R2: -0.09394022909310129\n",
      "\n",
      "Özellik önem dereceleri:\n",
      "coffee_intake_mg: 0.10104622858825031\n",
      "sleep_hours: 0.3115165944519923\n",
      "cognitive_load: 0.142947759054864\n",
      "hours_coding: 0.15577336464754354\n",
      "ai_usage_hours: 0.2207321151176821\n",
      "distractions: 0.06798393813966776\n"
     ]
    }
   ],
   "source": [
    "#Performans\n",
    "print(f\"MSE: {mean_squared_error(y_test, y_pred)}\")\n",
    "print(f\"R2: {r2_score(y_test, y_pred)}\")\n",
    "\n",
    "#özellik önem dereceleri\n",
    "print(\"\\nÖzellik önem dereceleri:\")\n",
    "for feature, importance in zip(X.columns, model.feature_importances_):\n",
    "    print(f\"{feature}: {importance}\")"
   ]
  },
  {
   "cell_type": "markdown",
   "id": "8189ca75",
   "metadata": {
    "papermill": {
     "duration": 0.010582,
     "end_time": "2025-05-28T23:03:59.557826",
     "exception": false,
     "start_time": "2025-05-28T23:03:59.547244",
     "status": "completed"
    },
    "tags": []
   },
   "source": [
    "### XGBoost denemesi"
   ]
  },
  {
   "cell_type": "code",
   "execution_count": 15,
   "id": "a9b1e01e",
   "metadata": {
    "execution": {
     "iopub.execute_input": "2025-05-28T23:03:59.579210Z",
     "iopub.status.busy": "2025-05-28T23:03:59.578807Z",
     "iopub.status.idle": "2025-05-28T23:03:59.880688Z",
     "shell.execute_reply": "2025-05-28T23:03:59.879653Z"
    },
    "papermill": {
     "duration": 0.31495,
     "end_time": "2025-05-28T23:03:59.882879",
     "exception": false,
     "start_time": "2025-05-28T23:03:59.567929",
     "status": "completed"
    },
    "tags": []
   },
   "outputs": [],
   "source": [
    "from xgboost import XGBRegressor\n",
    "from sklearn.model_selection import train_test_split\n",
    "from sklearn.preprocessing import StandardScaler\n",
    "from sklearn.metrics import mean_squared_error, r2_score"
   ]
  },
  {
   "cell_type": "code",
   "execution_count": 16,
   "id": "098aea27",
   "metadata": {
    "execution": {
     "iopub.execute_input": "2025-05-28T23:03:59.906362Z",
     "iopub.status.busy": "2025-05-28T23:03:59.906007Z",
     "iopub.status.idle": "2025-05-28T23:04:00.064200Z",
     "shell.execute_reply": "2025-05-28T23:04:00.063373Z"
    },
    "papermill": {
     "duration": 0.171515,
     "end_time": "2025-05-28T23:04:00.066248",
     "exception": false,
     "start_time": "2025-05-28T23:03:59.894733",
     "status": "completed"
    },
    "tags": []
   },
   "outputs": [],
   "source": [
    "# Özellikler ve hedef\n",
    "X = data[['coffee_intake_mg', 'sleep_hours', 'cognitive_load', 'hours_coding', 'ai_usage_hours', 'distractions']]\n",
    "y = data['bugs_reported']\n",
    "\n",
    "# Veriyi ayır\n",
    "X_train, X_test, y_train, y_test = train_test_split(X, y, test_size=0.2, random_state=42)\n",
    "\n",
    "# Modeli eğit\n",
    "model = XGBRegressor(random_state=42)\n",
    "model.fit(X_train, y_train)\n",
    "\n",
    "# Tahmin yap\n",
    "y_pred = model.predict(X_test)"
   ]
  },
  {
   "cell_type": "code",
   "execution_count": 17,
   "id": "2cc5b4cf",
   "metadata": {
    "execution": {
     "iopub.execute_input": "2025-05-28T23:04:00.089580Z",
     "iopub.status.busy": "2025-05-28T23:04:00.089206Z",
     "iopub.status.idle": "2025-05-28T23:04:00.098233Z",
     "shell.execute_reply": "2025-05-28T23:04:00.097316Z"
    },
    "papermill": {
     "duration": 0.021846,
     "end_time": "2025-05-28T23:04:00.099797",
     "exception": false,
     "start_time": "2025-05-28T23:04:00.077951",
     "status": "completed"
    },
    "tags": []
   },
   "outputs": [
    {
     "name": "stdout",
     "output_type": "stream",
     "text": [
      "MSE: 1.660968667092977\n",
      "R²: -0.4305130196305027\n",
      "\n",
      "Özellik önem dereceleri:\n",
      "coffee_intake_mg: 0.08935320377349854\n",
      "sleep_hours: 0.2901898920536041\n",
      "cognitive_load: 0.14481568336486816\n",
      "hours_coding: 0.14597643911838531\n",
      "ai_usage_hours: 0.19773083925247192\n",
      "distractions: 0.13193389773368835\n"
     ]
    }
   ],
   "source": [
    "# Performans\n",
    "print(f\"MSE: {mean_squared_error(y_test, y_pred)}\")\n",
    "print(f\"R²: {r2_score(y_test, y_pred)}\")\n",
    "\n",
    "# Özellik önem dereceleri\n",
    "print(\"\\nÖzellik önem dereceleri:\")\n",
    "for feature, importance in zip(X.columns, model.feature_importances_):\n",
    "    print(f\"{feature}: {importance}\")"
   ]
  },
  {
   "cell_type": "markdown",
   "id": "2ff96479",
   "metadata": {
    "papermill": {
     "duration": 0.010534,
     "end_time": "2025-05-28T23:04:00.120451",
     "exception": false,
     "start_time": "2025-05-28T23:04:00.109917",
     "status": "completed"
    },
    "tags": []
   },
   "source": [
    "### Veri ölçeklendirme"
   ]
  },
  {
   "cell_type": "code",
   "execution_count": 18,
   "id": "cf388285",
   "metadata": {
    "execution": {
     "iopub.execute_input": "2025-05-28T23:04:00.142313Z",
     "iopub.status.busy": "2025-05-28T23:04:00.141992Z",
     "iopub.status.idle": "2025-05-28T23:04:00.249621Z",
     "shell.execute_reply": "2025-05-28T23:04:00.248710Z"
    },
    "papermill": {
     "duration": 0.120955,
     "end_time": "2025-05-28T23:04:00.251639",
     "exception": false,
     "start_time": "2025-05-28T23:04:00.130684",
     "status": "completed"
    },
    "tags": []
   },
   "outputs": [],
   "source": [
    "# Özellikler ve hedef\n",
    "X = data[['coffee_intake_mg', 'sleep_hours', 'cognitive_load', 'hours_coding', 'ai_usage_hours', 'distractions']]\n",
    "y = data['bugs_reported']\n",
    "\n",
    "# Veriyi ölçeklendir\n",
    "scaler = StandardScaler()\n",
    "X_scaled = scaler.fit_transform(X)\n",
    "\n",
    "# Veriyi ayır\n",
    "X_train, X_test, y_train, y_test = train_test_split(X_scaled, y, test_size=0.2, random_state=42)\n",
    "\n",
    "# Modeli eğit\n",
    "model = XGBRegressor(random_state=42)\n",
    "model.fit(X_train, y_train)\n",
    "\n",
    "# Tahmin yap\n",
    "y_pred = model.predict(X_test)"
   ]
  },
  {
   "cell_type": "code",
   "execution_count": 19,
   "id": "162061f9",
   "metadata": {
    "execution": {
     "iopub.execute_input": "2025-05-28T23:04:00.274067Z",
     "iopub.status.busy": "2025-05-28T23:04:00.273737Z",
     "iopub.status.idle": "2025-05-28T23:04:00.283528Z",
     "shell.execute_reply": "2025-05-28T23:04:00.282050Z"
    },
    "papermill": {
     "duration": 0.022939,
     "end_time": "2025-05-28T23:04:00.285190",
     "exception": false,
     "start_time": "2025-05-28T23:04:00.262251",
     "status": "completed"
    },
    "tags": []
   },
   "outputs": [
    {
     "name": "stdout",
     "output_type": "stream",
     "text": [
      "MSE: 1.660968667092977\n",
      "R²: -0.4305130196305027\n",
      "\n",
      "Özellik önem dereceleri:\n",
      "coffee_intake_mg: 0.08935320377349854\n",
      "sleep_hours: 0.2901898920536041\n",
      "cognitive_load: 0.14481568336486816\n",
      "hours_coding: 0.14597643911838531\n",
      "ai_usage_hours: 0.19773083925247192\n",
      "distractions: 0.13193389773368835\n"
     ]
    }
   ],
   "source": [
    "# Performans\n",
    "print(f\"MSE: {mean_squared_error(y_test, y_pred)}\")\n",
    "print(f\"R²: {r2_score(y_test, y_pred)}\")\n",
    "\n",
    "# Özellik önem dereceleri\n",
    "print(\"\\nÖzellik önem dereceleri:\")\n",
    "for feature, importance in zip(X.columns, model.feature_importances_):\n",
    "    print(f\"{feature}: {importance}\")"
   ]
  },
  {
   "cell_type": "markdown",
   "id": "61098b38",
   "metadata": {
    "papermill": {
     "duration": 0.010639,
     "end_time": "2025-05-28T23:04:00.306295",
     "exception": false,
     "start_time": "2025-05-28T23:04:00.295656",
     "status": "completed"
    },
    "tags": []
   },
   "source": [
    "### Aykırı değerleri kontrol etme"
   ]
  },
  {
   "cell_type": "code",
   "execution_count": 20,
   "id": "917f4019",
   "metadata": {
    "execution": {
     "iopub.execute_input": "2025-05-28T23:04:00.327941Z",
     "iopub.status.busy": "2025-05-28T23:04:00.327610Z",
     "iopub.status.idle": "2025-05-28T23:04:00.332080Z",
     "shell.execute_reply": "2025-05-28T23:04:00.331365Z"
    },
    "papermill": {
     "duration": 0.016986,
     "end_time": "2025-05-28T23:04:00.333615",
     "exception": false,
     "start_time": "2025-05-28T23:04:00.316629",
     "status": "completed"
    },
    "tags": []
   },
   "outputs": [],
   "source": [
    "import pandas as pd\n",
    "import seaborn as sns\n",
    "import matplotlib.pyplot as plt"
   ]
  },
  {
   "cell_type": "code",
   "execution_count": 21,
   "id": "c6da59da",
   "metadata": {
    "execution": {
     "iopub.execute_input": "2025-05-28T23:04:00.355952Z",
     "iopub.status.busy": "2025-05-28T23:04:00.355616Z",
     "iopub.status.idle": "2025-05-28T23:04:00.716254Z",
     "shell.execute_reply": "2025-05-28T23:04:00.715207Z"
    },
    "papermill": {
     "duration": 0.373669,
     "end_time": "2025-05-28T23:04:00.717890",
     "exception": false,
     "start_time": "2025-05-28T23:04:00.344221",
     "status": "completed"
    },
    "tags": []
   },
   "outputs": [
    {
     "name": "stderr",
     "output_type": "stream",
     "text": [
      "/usr/local/lib/python3.11/dist-packages/seaborn/_oldcore.py:1119: FutureWarning: use_inf_as_na option is deprecated and will be removed in a future version. Convert inf values to NaN before operating instead.\n",
      "  with pd.option_context('mode.use_inf_as_na', True):\n"
     ]
    },
    {
     "data": {
      "image/png": "[encoded data removed]",
      "text/plain": [
       "<Figure size 800x600 with 1 Axes>"
      ]
     },
     "metadata": {},
     "output_type": "display_data"
    },
    {
     "data": {
      "image/png": "[encoded data removed]",
      "text/plain": [
       "<Figure size 800x600 with 1 Axes>"
      ]
     },
     "metadata": {},
     "output_type": "display_data"
    },
    {
     "name": "stdout",
     "output_type": "stream",
     "text": [
      "Aykırı değer sayısı: 0\n",
      "Empty DataFrame\n",
      "Columns: [coffee_intake_mg, sleep_hours, cognitive_load, bugs_reported]\n",
      "Index: []\n"
     ]
    }
   ],
   "source": [
    "# bugs_reported dağılımı\n",
    "plt.figure(figsize=(8, 6))\n",
    "sns.histplot(data['bugs_reported'], bins=20)\n",
    "plt.title('Hata Sayısı (bugs_reported) Dağılımı')\n",
    "plt.xlabel('Hata Sayısı')\n",
    "plt.ylabel('Frekans')\n",
    "plt.show()\n",
    "\n",
    "# Aykırı değerler için kutu grafiği\n",
    "plt.figure(figsize=(8, 6))\n",
    "sns.boxplot(y=data['bugs_reported'])\n",
    "plt.title('Hata Sayısı Kutu Grafiği')\n",
    "plt.ylabel('Hata Sayısı')\n",
    "plt.show()\n",
    "\n",
    "# Aykırı değerleri tespit (IQR yöntemi)\n",
    "Q1 = data['bugs_reported'].quantile(0.25)\n",
    "Q3 = data['bugs_reported'].quantile(0.75)\n",
    "IQR = Q3 - Q1\n",
    "outliers = data[(data['bugs_reported'] < Q1 - 1.5 * IQR) | (data['bugs_reported'] > Q3 + 1.5 * IQR)]\n",
    "print(f\"Aykırı değer sayısı: {len(outliers)}\")\n",
    "print(outliers[['coffee_intake_mg', 'sleep_hours', 'cognitive_load', 'bugs_reported']])"
   ]
  },
  {
   "cell_type": "code",
   "execution_count": 22,
   "id": "90f8fd6b",
   "metadata": {
    "execution": {
     "iopub.execute_input": "2025-05-28T23:04:00.742397Z",
     "iopub.status.busy": "2025-05-28T23:04:00.741976Z",
     "iopub.status.idle": "2025-05-28T23:04:00.747159Z",
     "shell.execute_reply": "2025-05-28T23:04:00.745892Z"
    },
    "papermill": {
     "duration": 0.019328,
     "end_time": "2025-05-28T23:04:00.748764",
     "exception": false,
     "start_time": "2025-05-28T23:04:00.729436",
     "status": "completed"
    },
    "tags": []
   },
   "outputs": [],
   "source": [
    "from sklearn.svm import SVR\n",
    "from sklearn.model_selection import train_test_split\n",
    "from sklearn.preprocessing import StandardScaler\n",
    "from sklearn.metrics import mean_squared_error, r2_score"
   ]
  },
  {
   "cell_type": "code",
   "execution_count": 23,
   "id": "f6bf6350",
   "metadata": {
    "execution": {
     "iopub.execute_input": "2025-05-28T23:04:00.774331Z",
     "iopub.status.busy": "2025-05-28T23:04:00.773992Z",
     "iopub.status.idle": "2025-05-28T23:04:00.806111Z",
     "shell.execute_reply": "2025-05-28T23:04:00.804792Z"
    },
    "papermill": {
     "duration": 0.04718,
     "end_time": "2025-05-28T23:04:00.808135",
     "exception": false,
     "start_time": "2025-05-28T23:04:00.760955",
     "status": "completed"
    },
    "tags": []
   },
   "outputs": [
    {
     "name": "stdout",
     "output_type": "stream",
     "text": [
      "bugs_reported değerlerinin frekansı:\n",
      "bugs_reported\n",
      "0    261\n",
      "1    112\n",
      "2     80\n",
      "3     35\n",
      "4      8\n",
      "5      4\n",
      "Name: count, dtype: int64\n",
      "\n",
      "MSE: 1.2482962943420004\n",
      "R²: -0.07509800563431246\n"
     ]
    }
   ],
   "source": [
    "# bugs_reported değerlerinin dağılımı\n",
    "print(\"bugs_reported değerlerinin frekansı:\")\n",
    "print(data['bugs_reported'].value_counts())\n",
    "\n",
    "# Özellikler ve hedef\n",
    "X = data[['coffee_intake_mg', 'sleep_hours', 'cognitive_load', 'hours_coding', 'ai_usage_hours', 'distractions']]\n",
    "y = data['bugs_reported']\n",
    "\n",
    "# Veriyi ölçeklendir\n",
    "scaler = StandardScaler()\n",
    "X_scaled = scaler.fit_transform(X)\n",
    "\n",
    "# Veriyi ayır\n",
    "X_train, X_test, y_train, y_test = train_test_split(X_scaled, y, test_size=0.2, random_state=42)\n",
    "\n",
    "# SVR modelini eğit\n",
    "model = SVR(kernel='rbf')\n",
    "model.fit(X_train, y_train)\n",
    "\n",
    "# Tahmin yap\n",
    "y_pred = model.predict(X_test)\n",
    "\n",
    "# Performans\n",
    "print(f\"\\nMSE: {mean_squared_error(y_test, y_pred)}\")\n",
    "print(f\"R²: {r2_score(y_test, y_pred)}\")"
   ]
  },
  {
   "cell_type": "markdown",
   "id": "c0604c2e",
   "metadata": {
    "papermill": {
     "duration": 0.011829,
     "end_time": "2025-05-28T23:04:00.831486",
     "exception": false,
     "start_time": "2025-05-28T23:04:00.819657",
     "status": "completed"
    },
    "tags": []
   },
   "source": [
    "### İkili sınıflandırma denemesi"
   ]
  },
  {
   "cell_type": "code",
   "execution_count": 24,
   "id": "9985f330",
   "metadata": {
    "execution": {
     "iopub.execute_input": "2025-05-28T23:04:00.855982Z",
     "iopub.status.busy": "2025-05-28T23:04:00.855612Z",
     "iopub.status.idle": "2025-05-28T23:04:00.860948Z",
     "shell.execute_reply": "2025-05-28T23:04:00.859760Z"
    },
    "papermill": {
     "duration": 0.019795,
     "end_time": "2025-05-28T23:04:00.862554",
     "exception": false,
     "start_time": "2025-05-28T23:04:00.842759",
     "status": "completed"
    },
    "tags": []
   },
   "outputs": [],
   "source": [
    "import pandas as pd\n",
    "from sklearn.model_selection import train_test_split\n",
    "from sklearn.preprocessing import StandardScaler\n",
    "from sklearn.ensemble import RandomForestClassifier\n",
    "from sklearn.metrics import accuracy_score, classification_report"
   ]
  },
  {
   "cell_type": "code",
   "execution_count": 25,
   "id": "cbaa914d",
   "metadata": {
    "execution": {
     "iopub.execute_input": "2025-05-28T23:04:00.886919Z",
     "iopub.status.busy": "2025-05-28T23:04:00.886586Z",
     "iopub.status.idle": "2025-05-28T23:04:01.095251Z",
     "shell.execute_reply": "2025-05-28T23:04:01.094077Z"
    },
    "papermill": {
     "duration": 0.222744,
     "end_time": "2025-05-28T23:04:01.096873",
     "exception": false,
     "start_time": "2025-05-28T23:04:00.874129",
     "status": "completed"
    },
    "tags": []
   },
   "outputs": [
    {
     "name": "stdout",
     "output_type": "stream",
     "text": [
      "Doğruluk: 0.59\n",
      "\n",
      "Sınıflandırma Raporu:\n",
      "              precision    recall  f1-score   support\n",
      "\n",
      "           0       0.63      0.57      0.60        54\n",
      "           1       0.55      0.61      0.58        46\n",
      "\n",
      "    accuracy                           0.59       100\n",
      "   macro avg       0.59      0.59      0.59       100\n",
      "weighted avg       0.59      0.59      0.59       100\n",
      "\n",
      "\n",
      "Özellik önem dereceleri:\n",
      "coffee_intake_mg: 0.13423281612657342\n",
      "sleep_hours: 0.24849591372709895\n",
      "cognitive_load: 0.17836646073550677\n",
      "hours_coding: 0.16718082465255485\n",
      "ai_usage_hours: 0.18909590690332695\n",
      "distractions: 0.08262807785493913\n"
     ]
    }
   ],
   "source": [
    "# bugs_reported'ı ikili yap: 0 (hata yok), 1 (hata var)\n",
    "data['has_bug'] = data['bugs_reported'].apply(lambda x: 1 if x > 0 else 0)\n",
    "\n",
    "# Özellikler ve hedef\n",
    "X = data[['coffee_intake_mg', 'sleep_hours', 'cognitive_load', 'hours_coding', 'ai_usage_hours', 'distractions']]\n",
    "y = data['has_bug']\n",
    "\n",
    "# Veriyi ölçeklendir\n",
    "scaler = StandardScaler()\n",
    "X_scaled = scaler.fit_transform(X)\n",
    "\n",
    "# Veriyi ayır\n",
    "X_train, X_test, y_train, y_test = train_test_split(X_scaled, y, test_size=0.2, random_state=42)\n",
    "\n",
    "# Rastgele Orman sınıflandırma modeli\n",
    "model = RandomForestClassifier(random_state=42)\n",
    "model.fit(X_train, y_train)\n",
    "\n",
    "# Tahmin yap\n",
    "y_pred = model.predict(X_test)\n",
    "\n",
    "# Performans\n",
    "print(f\"Doğruluk: {accuracy_score(y_test, y_pred)}\")\n",
    "print(\"\\nSınıflandırma Raporu:\")\n",
    "print(classification_report(y_test, y_pred))\n",
    "\n",
    "# Özellik önem dereceleri\n",
    "print(\"\\nÖzellik önem dereceleri:\")\n",
    "for feature, importance in zip(X.columns, model.feature_importances_):\n",
    "    print(f\"{feature}: {importance}\")"
   ]
  },
  {
   "cell_type": "markdown",
   "id": "ca3fa9f8",
   "metadata": {
    "papermill": {
     "duration": 0.01177,
     "end_time": "2025-05-28T23:04:01.120199",
     "exception": false,
     "start_time": "2025-05-28T23:04:01.108429",
     "status": "completed"
    },
    "tags": []
   },
   "source": [
    "### Logistic Regresyon denemesi "
   ]
  },
  {
   "cell_type": "code",
   "execution_count": 26,
   "id": "582c6650",
   "metadata": {
    "execution": {
     "iopub.execute_input": "2025-05-28T23:04:01.144523Z",
     "iopub.status.busy": "2025-05-28T23:04:01.144209Z",
     "iopub.status.idle": "2025-05-28T23:04:01.148950Z",
     "shell.execute_reply": "2025-05-28T23:04:01.147912Z"
    },
    "papermill": {
     "duration": 0.018676,
     "end_time": "2025-05-28T23:04:01.150392",
     "exception": false,
     "start_time": "2025-05-28T23:04:01.131716",
     "status": "completed"
    },
    "tags": []
   },
   "outputs": [],
   "source": [
    "from sklearn.model_selection import train_test_split\n",
    "from sklearn.preprocessing import StandardScaler\n",
    "from sklearn.linear_model import LogisticRegression\n",
    "from sklearn.metrics import accuracy_score, classification_report"
   ]
  },
  {
   "cell_type": "code",
   "execution_count": 27,
   "id": "6e2759bb",
   "metadata": {
    "execution": {
     "iopub.execute_input": "2025-05-28T23:04:01.175392Z",
     "iopub.status.busy": "2025-05-28T23:04:01.175098Z",
     "iopub.status.idle": "2025-05-28T23:04:01.354572Z",
     "shell.execute_reply": "2025-05-28T23:04:01.353885Z"
    },
    "papermill": {
     "duration": 0.194614,
     "end_time": "2025-05-28T23:04:01.356611",
     "exception": false,
     "start_time": "2025-05-28T23:04:01.161997",
     "status": "completed"
    },
    "tags": []
   },
   "outputs": [
    {
     "name": "stdout",
     "output_type": "stream",
     "text": [
      "Doğruluk: 0.57\n",
      "\n",
      "Sınıflandırma Raporu:\n",
      "              precision    recall  f1-score   support\n",
      "\n",
      "           0       0.61      0.57      0.59        54\n",
      "           1       0.53      0.57      0.55        46\n",
      "\n",
      "    accuracy                           0.57       100\n",
      "   macro avg       0.57      0.57      0.57       100\n",
      "weighted avg       0.57      0.57      0.57       100\n",
      "\n",
      "\n",
      "Özellik katsayıları:\n",
      "coffee_intake_mg: -0.34040039309345355\n",
      "sleep_hours: -0.5610700504803717\n",
      "cognitive_load: 0.03948469267204935\n",
      "hours_coding: -0.139886693466667\n",
      "ai_usage_hours: 0.37694179935231426\n",
      "distractions: -0.07372617109118602\n",
      "coffee_per_sleep: 0.47054600295619237\n"
     ]
    }
   ],
   "source": [
    "# Yeni özellik: coffee_per_sleep\n",
    "data['coffee_per_sleep'] = data['coffee_intake_mg'] / data['sleep_hours']\n",
    "\n",
    "# bugs_reported'ı ikili yap\n",
    "data['has_bug'] = data['bugs_reported'].apply(lambda x: 1 if x > 0 else 0)\n",
    "\n",
    "# Özellikler ve hedef\n",
    "X = data[['coffee_intake_mg', 'sleep_hours', 'cognitive_load', 'hours_coding', 'ai_usage_hours', 'distractions', 'coffee_per_sleep']]\n",
    "y = data['has_bug']\n",
    "\n",
    "# Veriyi ölçeklendir\n",
    "scaler = StandardScaler()\n",
    "X_scaled = scaler.fit_transform(X)\n",
    "\n",
    "# Veriyi ayır\n",
    "X_train, X_test, y_train, y_test = train_test_split(X_scaled, y, test_size=0.2, random_state=42)\n",
    "\n",
    "# Lojistik Regresyon modeli\n",
    "model = LogisticRegression(random_state=42)\n",
    "model.fit(X_train, y_train)\n",
    "\n",
    "# Tahmin yap\n",
    "y_pred = model.predict(X_test)\n",
    "\n",
    "# Performans\n",
    "print(f\"Doğruluk: {accuracy_score(y_test, y_pred)}\")\n",
    "print(\"\\nSınıflandırma Raporu:\")\n",
    "print(classification_report(y_test, y_pred))\n",
    "\n",
    "# Özellik katsayıları\n",
    "print(\"\\nÖzellik katsayıları:\")\n",
    "for feature, coef in zip(X.columns, model.coef_[0]):\n",
    "    print(f\"{feature}: {coef}\")"
   ]
  },
  {
   "cell_type": "markdown",
   "id": "c6ef9aea",
   "metadata": {
    "papermill": {
     "duration": 0.018542,
     "end_time": "2025-05-28T23:04:01.395273",
     "exception": false,
     "start_time": "2025-05-28T23:04:01.376731",
     "status": "completed"
    },
    "tags": []
   },
   "source": [
    "# 🧠 AI Developer Productivity Dataset Analysis  \n",
    "**Dataset Exploration & Machine Learning Experiments**\n",
    "\n",
    "---\n",
    "\n",
    "## 🎯 Objective\n",
    "\n",
    "This study explores the impact of caffeine intake (`coffee_intake_mg`) on coding errors (`bugs_reported`) using the AI Developer Productivity dataset. We also evaluate other influencing factors such as sleep duration, distractions, and cognitive load, and perform machine learning experiments to predict the number of bugs.\n",
    "\n",
    "---\n",
    "\n",
    "## 📋 Dataset Overview\n",
    "\n",
    "- **Size:** 500 rows, 9 columns  \n",
    "- **Target Variable:** `bugs_reported` (range: 0–5, 52% are zero)\n",
    "- **Features:**\n",
    "  - `hours_coding`\n",
    "  - `coffee_intake_mg`\n",
    "  - `distractions`\n",
    "  - `sleep_hours`\n",
    "  - `commits`\n",
    "  - `ai_usage_hours`\n",
    "  - `cognitive_load`\n",
    "  - `task_success`\n",
    "\n",
    "---\n",
    "\n",
    "## 🔍 Exploratory Data Analysis (EDA)\n",
    "\n",
    "### 🔗 Correlations\n",
    "\n",
    "| Feature             | Correlation | Insight                          |\n",
    "|---------------------|-------------|----------------------------------|\n",
    "| `sleep_hours`       | **-0.38**   | More sleep → fewer bugs         |\n",
    "| `cognitive_load`    | **0.29**    | Higher load → more bugs         |\n",
    "| `coffee_intake_mg`  | **0.046**   | Very weak positive correlation  |\n",
    "| `ai_usage_hours`, `hours_coding`, `distractions` | < 0.15 | Weak correlations |\n",
    "\n",
    "### ☕ Caffeine Categories\n",
    "\n",
    "| Category         | Avg. Bugs |\n",
    "|------------------|-----------|\n",
    "| Low (<200 mg)    | 0.74      |\n",
    "| Medium (200–400) | 0.84      |\n",
    "| High (>400 mg)   | 0.87      |\n",
    "\n",
    "> Slight increase in bugs with higher caffeine levels.\n",
    "\n",
    "### ⚠️ Bug Distribution\n",
    "\n",
    "- 52% of `bugs_reported` values are **zero**, which makes learning more difficult for models.\n",
    "\n",
    "---\n",
    "\n",
    "## 🤖 Machine Learning Experiments\n",
    "\n",
    "### 🔧 Regression Models\n",
    "\n",
    "| Model                    | MSE   | R²     | Comment           |\n",
    "|--------------------------|-------|--------|-------------------|\n",
    "| Linear Regression        | 1.27  | -0.09  | Poor performance  |\n",
    "| Random Forest Regressor  | 1.27  | -0.09  | Weak performance  |\n",
    "| XGBoost Regressor        | 1.66  | -0.43  | Failed even after scaling |\n",
    "| Support Vector Regressor | 1.25  | -0.08  | Slightly better   |\n",
    "\n",
    "### 🔁 Classification (Logistic Regression)\n",
    "\n",
    "- Converted `bugs_reported` into binary `has_bug` (0: no bug, 1: bug reported)\n",
    "- Added feature: `coffee_per_sleep = coffee_intake_mg / sleep_hours`\n",
    "- **Accuracy:** 0.57  \n",
    "- **F1-scores:** ~0.55–0.59\n",
    "\n",
    "#### 🔍 Top Features (by coefficient impact):\n",
    "- `sleep_hours`: -0.56  \n",
    "- `coffee_per_sleep`: 0.47  \n",
    "- `ai_usage_hours`: 0.38  \n",
    "\n",
    "---\n",
    "\n",
    "## 📌 Key Findings\n",
    "\n",
    "- **Caffeine intake** has **very weak correlation** with coding errors.\n",
    "- **Sleep hours** significantly reduce errors and are the most important predictor.\n",
    "- **AI usage hours** and **coffee-to-sleep ratio** may increase bug occurrence.\n",
    "- Regression models failed to explain the data (negative R²).\n",
    "- Logistic regression performed slightly better for binary classification.\n",
    "\n",
    "---\n",
    "\n",
    "## ⚠️ Limitations\n",
    "\n",
    "- 52% of target values are zero, leading to imbalance in regression and classification.\n",
    "- Weak feature-target relationships limit model performance.\n",
    "- Dataset lacks important factors like project complexity, developer experience, and team size.\n",
    "\n",
    "---\n",
    "\n",
    "## ✅ Conclusion\n",
    "\n",
    "There is **no significant evidence** that caffeine intake affects bug count.  \n",
    "Sleep duration and AI usage appear more influential.  \n",
    "More complete datasets with additional context (project type, experience level) are required for deeper insights and better predictive modeling.\n",
    "\n",
    "---\n",
    "\n",
    "> 📁 Dataset Source: [AI Developer Productivity Dataset on Kaggle](https://www.kaggle.com/datasets/atharvasoundankar/ai-developer-productivity-dataset)\n"
   ]
  }
 ],
 "metadata": {
  "kaggle": {
   "accelerator": "none",
   "dataSources": [
    {
     "datasetId": 7395769,
     "sourceId": 11780125,
     "sourceType": "datasetVersion"
    }
   ],
   "dockerImageVersionId": 31040,
   "isGpuEnabled": false,
   "isInternetEnabled": true,
   "language": "python",
   "sourceType": "notebook"
  },
  "kernelspec": {
   "display_name": "Python 3",
   "language": "python",
   "name": "python3"
  },
  "language_info": {
   "codemirror_mode": {
    "name": "ipython",
    "version": 3
   },
   "file_extension": ".py",
   "mimetype": "text/x-python",
   "name": "python",
   "nbconvert_exporter": "python",
   "pygments_lexer": "ipython3",
   "version": "3.11.11"
  },
  "papermill": {
   "default_parameters": {},
   "duration": 14.562562,
   "end_time": "2025-05-28T23:04:02.135757",
   "environment_variables": {},
   "exception": null,
   "input_path": "__notebook__.ipynb",
   "output_path": "__notebook__.ipynb",
   "parameters": {},
   "start_time": "2025-05-28T23:03:47.573195",
   "version": "2.6.0"
  }
 },
 "nbformat": 4,
 "nbformat_minor": 5
}
