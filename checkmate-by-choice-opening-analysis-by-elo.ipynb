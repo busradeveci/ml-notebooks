{
 "cells": [
  {
   "cell_type": "code",
   "execution_count": 1,
   "id": "a55e5769",
   "metadata": {
    "_cell_guid": "b1076dfc-b9ad-4769-8c92-a6c4dae69d19",
    "_uuid": "8f2839f25d086af736a60e9eeb907d3b93b6e0e5",
    "execution": {
     "iopub.execute_input": "2025-04-21T21:07:40.622937Z",
     "iopub.status.busy": "2025-04-21T21:07:40.622557Z",
     "iopub.status.idle": "2025-04-21T21:07:42.776034Z",
     "shell.execute_reply": "2025-04-21T21:07:42.774674Z"
    },
    "papermill": {
     "duration": 2.162475,
     "end_time": "2025-04-21T21:07:42.778121",
     "exception": false,
     "start_time": "2025-04-21T21:07:40.615646",
     "status": "completed"
    },
    "tags": []
   },
   "outputs": [
    {
     "name": "stdout",
     "output_type": "stream",
     "text": [
      "/kaggle/input/chess/games.csv\n"
     ]
    }
   ],
   "source": [
    "# This Python 3 environment comes with many helpful analytics libraries installed\n",
    "# It is defined by the kaggle/python Docker image: https://github.com/kaggle/docker-python\n",
    "# For example, here's several helpful packages to load\n",
    "\n",
    "import numpy as np # linear algebra\n",
    "import pandas as pd # data processing, CSV file I/O (e.g. pd.read_csv)\n",
    "\n",
    "# Input data files are available in the read-only \"../input/\" directory\n",
    "# For example, running this (by clicking run or pressing Shift+Enter) will list all files under the input directory\n",
    "\n",
    "import os\n",
    "for dirname, _, filenames in os.walk('/kaggle/input'):\n",
    "    for filename in filenames:\n",
    "        print(os.path.join(dirname, filename))\n",
    "\n",
    "# You can write up to 20GB to the current directory (/kaggle/working/) that gets preserved as output when you create a version using \"Save & Run All\" \n",
    "# You can also write temporary files to /kaggle/temp/, but they won't be saved outside of the current session"
   ]
  },
  {
   "cell_type": "markdown",
   "id": "2101986d",
   "metadata": {
    "papermill": {
     "duration": 0.004982,
     "end_time": "2025-04-21T21:07:42.788503",
     "exception": false,
     "start_time": "2025-04-21T21:07:42.783521",
     "status": "completed"
    },
    "tags": []
   },
   "source": [
    "# ELO Levels Based on Player Segmentation"
   ]
  },
  {
   "cell_type": "code",
   "execution_count": 2,
   "id": "c06669a2",
   "metadata": {
    "execution": {
     "iopub.execute_input": "2025-04-21T21:07:42.800544Z",
     "iopub.status.busy": "2025-04-21T21:07:42.800069Z",
     "iopub.status.idle": "2025-04-21T21:07:42.805472Z",
     "shell.execute_reply": "2025-04-21T21:07:42.804323Z"
    },
    "papermill": {
     "duration": 0.013228,
     "end_time": "2025-04-21T21:07:42.807302",
     "exception": false,
     "start_time": "2025-04-21T21:07:42.794074",
     "status": "completed"
    },
    "tags": []
   },
   "outputs": [],
   "source": [
    "import pandas as pd\n"
   ]
  },
  {
   "cell_type": "code",
   "execution_count": 3,
   "id": "a80f0a59",
   "metadata": {
    "execution": {
     "iopub.execute_input": "2025-04-21T21:07:42.818328Z",
     "iopub.status.busy": "2025-04-21T21:07:42.817984Z",
     "iopub.status.idle": "2025-04-21T21:07:43.118675Z",
     "shell.execute_reply": "2025-04-21T21:07:43.117781Z"
    },
    "papermill": {
     "duration": 0.308323,
     "end_time": "2025-04-21T21:07:43.120554",
     "exception": false,
     "start_time": "2025-04-21T21:07:42.812231",
     "status": "completed"
    },
    "tags": []
   },
   "outputs": [],
   "source": [
    "chess = pd.read_csv(\"/kaggle/input/chess/games.csv\")"
   ]
  },
  {
   "cell_type": "code",
   "execution_count": 4,
   "id": "570cd0e8",
   "metadata": {
    "execution": {
     "iopub.execute_input": "2025-04-21T21:07:43.131860Z",
     "iopub.status.busy": "2025-04-21T21:07:43.131474Z",
     "iopub.status.idle": "2025-04-21T21:07:43.166425Z",
     "shell.execute_reply": "2025-04-21T21:07:43.165432Z"
    },
    "papermill": {
     "duration": 0.042743,
     "end_time": "2025-04-21T21:07:43.168297",
     "exception": false,
     "start_time": "2025-04-21T21:07:43.125554",
     "status": "completed"
    },
    "tags": []
   },
   "outputs": [
    {
     "data": {
      "text/html": [
       "<div>\n",
       "<style scoped>\n",
       "    .dataframe tbody tr th:only-of-type {\n",
       "        vertical-align: middle;\n",
       "    }\n",
       "\n",
       "    .dataframe tbody tr th {\n",
       "        vertical-align: top;\n",
       "    }\n",
       "\n",
       "    .dataframe thead th {\n",
       "        text-align: right;\n",
       "    }\n",
       "</style>\n",
       "<table border=\"1\" class=\"dataframe\">\n",
       "  <thead>\n",
       "    <tr style=\"text-align: right;\">\n",
       "      <th></th>\n",
       "      <th>id</th>\n",
       "      <th>rated</th>\n",
       "      <th>created_at</th>\n",
       "      <th>last_move_at</th>\n",
       "      <th>turns</th>\n",
       "      <th>victory_status</th>\n",
       "      <th>winner</th>\n",
       "      <th>increment_code</th>\n",
       "      <th>white_id</th>\n",
       "      <th>white_rating</th>\n",
       "      <th>black_id</th>\n",
       "      <th>black_rating</th>\n",
       "      <th>moves</th>\n",
       "      <th>opening_eco</th>\n",
       "      <th>opening_name</th>\n",
       "      <th>opening_ply</th>\n",
       "    </tr>\n",
       "  </thead>\n",
       "  <tbody>\n",
       "    <tr>\n",
       "      <th>0</th>\n",
       "      <td>TZJHLljE</td>\n",
       "      <td>False</td>\n",
       "      <td>1.504210e+12</td>\n",
       "      <td>1.504210e+12</td>\n",
       "      <td>13</td>\n",
       "      <td>outoftime</td>\n",
       "      <td>white</td>\n",
       "      <td>15+2</td>\n",
       "      <td>bourgris</td>\n",
       "      <td>1500</td>\n",
       "      <td>a-00</td>\n",
       "      <td>1191</td>\n",
       "      <td>d4 d5 c4 c6 cxd5 e6 dxe6 fxe6 Nf3 Bb4+ Nc3 Ba5...</td>\n",
       "      <td>D10</td>\n",
       "      <td>Slav Defense: Exchange Variation</td>\n",
       "      <td>5</td>\n",
       "    </tr>\n",
       "    <tr>\n",
       "      <th>1</th>\n",
       "      <td>l1NXvwaE</td>\n",
       "      <td>True</td>\n",
       "      <td>1.504130e+12</td>\n",
       "      <td>1.504130e+12</td>\n",
       "      <td>16</td>\n",
       "      <td>resign</td>\n",
       "      <td>black</td>\n",
       "      <td>5+10</td>\n",
       "      <td>a-00</td>\n",
       "      <td>1322</td>\n",
       "      <td>skinnerua</td>\n",
       "      <td>1261</td>\n",
       "      <td>d4 Nc6 e4 e5 f4 f6 dxe5 fxe5 fxe5 Nxe5 Qd4 Nc6...</td>\n",
       "      <td>B00</td>\n",
       "      <td>Nimzowitsch Defense: Kennedy Variation</td>\n",
       "      <td>4</td>\n",
       "    </tr>\n",
       "    <tr>\n",
       "      <th>2</th>\n",
       "      <td>mIICvQHh</td>\n",
       "      <td>True</td>\n",
       "      <td>1.504130e+12</td>\n",
       "      <td>1.504130e+12</td>\n",
       "      <td>61</td>\n",
       "      <td>mate</td>\n",
       "      <td>white</td>\n",
       "      <td>5+10</td>\n",
       "      <td>ischia</td>\n",
       "      <td>1496</td>\n",
       "      <td>a-00</td>\n",
       "      <td>1500</td>\n",
       "      <td>e4 e5 d3 d6 Be3 c6 Be2 b5 Nd2 a5 a4 c5 axb5 Nc...</td>\n",
       "      <td>C20</td>\n",
       "      <td>King's Pawn Game: Leonardis Variation</td>\n",
       "      <td>3</td>\n",
       "    </tr>\n",
       "    <tr>\n",
       "      <th>3</th>\n",
       "      <td>kWKvrqYL</td>\n",
       "      <td>True</td>\n",
       "      <td>1.504110e+12</td>\n",
       "      <td>1.504110e+12</td>\n",
       "      <td>61</td>\n",
       "      <td>mate</td>\n",
       "      <td>white</td>\n",
       "      <td>20+0</td>\n",
       "      <td>daniamurashov</td>\n",
       "      <td>1439</td>\n",
       "      <td>adivanov2009</td>\n",
       "      <td>1454</td>\n",
       "      <td>d4 d5 Nf3 Bf5 Nc3 Nf6 Bf4 Ng4 e3 Nc6 Be2 Qd7 O...</td>\n",
       "      <td>D02</td>\n",
       "      <td>Queen's Pawn Game: Zukertort Variation</td>\n",
       "      <td>3</td>\n",
       "    </tr>\n",
       "    <tr>\n",
       "      <th>4</th>\n",
       "      <td>9tXo1AUZ</td>\n",
       "      <td>True</td>\n",
       "      <td>1.504030e+12</td>\n",
       "      <td>1.504030e+12</td>\n",
       "      <td>95</td>\n",
       "      <td>mate</td>\n",
       "      <td>white</td>\n",
       "      <td>30+3</td>\n",
       "      <td>nik221107</td>\n",
       "      <td>1523</td>\n",
       "      <td>adivanov2009</td>\n",
       "      <td>1469</td>\n",
       "      <td>e4 e5 Nf3 d6 d4 Nc6 d5 Nb4 a3 Na6 Nc3 Be7 b4 N...</td>\n",
       "      <td>C41</td>\n",
       "      <td>Philidor Defense</td>\n",
       "      <td>5</td>\n",
       "    </tr>\n",
       "    <tr>\n",
       "      <th>5</th>\n",
       "      <td>MsoDV9wj</td>\n",
       "      <td>False</td>\n",
       "      <td>1.504240e+12</td>\n",
       "      <td>1.504240e+12</td>\n",
       "      <td>5</td>\n",
       "      <td>draw</td>\n",
       "      <td>draw</td>\n",
       "      <td>10+0</td>\n",
       "      <td>trelynn17</td>\n",
       "      <td>1250</td>\n",
       "      <td>franklin14532</td>\n",
       "      <td>1002</td>\n",
       "      <td>e4 c5 Nf3 Qa5 a3</td>\n",
       "      <td>B27</td>\n",
       "      <td>Sicilian Defense: Mongoose Variation</td>\n",
       "      <td>4</td>\n",
       "    </tr>\n",
       "    <tr>\n",
       "      <th>6</th>\n",
       "      <td>qwU9rasv</td>\n",
       "      <td>True</td>\n",
       "      <td>1.504230e+12</td>\n",
       "      <td>1.504230e+12</td>\n",
       "      <td>33</td>\n",
       "      <td>resign</td>\n",
       "      <td>white</td>\n",
       "      <td>10+0</td>\n",
       "      <td>capa_jr</td>\n",
       "      <td>1520</td>\n",
       "      <td>daniel_likes_chess</td>\n",
       "      <td>1423</td>\n",
       "      <td>d4 d5 e4 dxe4 Nc3 Nf6 f3 exf3 Nxf3 Nc6 Bb5 a6 ...</td>\n",
       "      <td>D00</td>\n",
       "      <td>Blackmar-Diemer Gambit: Pietrowsky Defense</td>\n",
       "      <td>10</td>\n",
       "    </tr>\n",
       "    <tr>\n",
       "      <th>7</th>\n",
       "      <td>RVN0N3VK</td>\n",
       "      <td>False</td>\n",
       "      <td>1.503680e+12</td>\n",
       "      <td>1.503680e+12</td>\n",
       "      <td>9</td>\n",
       "      <td>resign</td>\n",
       "      <td>black</td>\n",
       "      <td>15+30</td>\n",
       "      <td>daniel_likes_chess</td>\n",
       "      <td>1413</td>\n",
       "      <td>soultego</td>\n",
       "      <td>2108</td>\n",
       "      <td>e4 Nc6 d4 e5 d5 Nce7 c3 Ng6 b4</td>\n",
       "      <td>B00</td>\n",
       "      <td>Nimzowitsch Defense: Kennedy Variation |  Link...</td>\n",
       "      <td>5</td>\n",
       "    </tr>\n",
       "    <tr>\n",
       "      <th>8</th>\n",
       "      <td>dwF3DJHO</td>\n",
       "      <td>True</td>\n",
       "      <td>1.503510e+12</td>\n",
       "      <td>1.503510e+12</td>\n",
       "      <td>66</td>\n",
       "      <td>resign</td>\n",
       "      <td>black</td>\n",
       "      <td>15+0</td>\n",
       "      <td>ehabfanri</td>\n",
       "      <td>1439</td>\n",
       "      <td>daniel_likes_chess</td>\n",
       "      <td>1392</td>\n",
       "      <td>e4 e5 Bc4 Nc6 Nf3 Nd4 d3 Nxf3+ Qxf3 Nf6 h3 Bc5...</td>\n",
       "      <td>C50</td>\n",
       "      <td>Italian Game: Schilling-Kostic Gambit</td>\n",
       "      <td>6</td>\n",
       "    </tr>\n",
       "    <tr>\n",
       "      <th>9</th>\n",
       "      <td>afoMwnLg</td>\n",
       "      <td>True</td>\n",
       "      <td>1.503440e+12</td>\n",
       "      <td>1.503440e+12</td>\n",
       "      <td>119</td>\n",
       "      <td>mate</td>\n",
       "      <td>white</td>\n",
       "      <td>10+0</td>\n",
       "      <td>daniel_likes_chess</td>\n",
       "      <td>1381</td>\n",
       "      <td>mirco25</td>\n",
       "      <td>1209</td>\n",
       "      <td>e4 d5 exd5 Qxd5 Nc3 Qe5+ Be2 Na6 d4 Qf5 Bxa6 b...</td>\n",
       "      <td>B01</td>\n",
       "      <td>Scandinavian Defense: Mieses-Kotroc Variation</td>\n",
       "      <td>4</td>\n",
       "    </tr>\n",
       "  </tbody>\n",
       "</table>\n",
       "</div>"
      ],
      "text/plain": [
       "         id  rated    created_at  last_move_at  turns victory_status winner  \\\n",
       "0  TZJHLljE  False  1.504210e+12  1.504210e+12     13      outoftime  white   \n",
       "1  l1NXvwaE   True  1.504130e+12  1.504130e+12     16         resign  black   \n",
       "2  mIICvQHh   True  1.504130e+12  1.504130e+12     61           mate  white   \n",
       "3  kWKvrqYL   True  1.504110e+12  1.504110e+12     61           mate  white   \n",
       "4  9tXo1AUZ   True  1.504030e+12  1.504030e+12     95           mate  white   \n",
       "5  MsoDV9wj  False  1.504240e+12  1.504240e+12      5           draw   draw   \n",
       "6  qwU9rasv   True  1.504230e+12  1.504230e+12     33         resign  white   \n",
       "7  RVN0N3VK  False  1.503680e+12  1.503680e+12      9         resign  black   \n",
       "8  dwF3DJHO   True  1.503510e+12  1.503510e+12     66         resign  black   \n",
       "9  afoMwnLg   True  1.503440e+12  1.503440e+12    119           mate  white   \n",
       "\n",
       "  increment_code            white_id  white_rating            black_id  \\\n",
       "0           15+2            bourgris          1500                a-00   \n",
       "1           5+10                a-00          1322           skinnerua   \n",
       "2           5+10              ischia          1496                a-00   \n",
       "3           20+0       daniamurashov          1439        adivanov2009   \n",
       "4           30+3           nik221107          1523        adivanov2009   \n",
       "5           10+0           trelynn17          1250       franklin14532   \n",
       "6           10+0             capa_jr          1520  daniel_likes_chess   \n",
       "7          15+30  daniel_likes_chess          1413            soultego   \n",
       "8           15+0           ehabfanri          1439  daniel_likes_chess   \n",
       "9           10+0  daniel_likes_chess          1381             mirco25   \n",
       "\n",
       "   black_rating                                              moves  \\\n",
       "0          1191  d4 d5 c4 c6 cxd5 e6 dxe6 fxe6 Nf3 Bb4+ Nc3 Ba5...   \n",
       "1          1261  d4 Nc6 e4 e5 f4 f6 dxe5 fxe5 fxe5 Nxe5 Qd4 Nc6...   \n",
       "2          1500  e4 e5 d3 d6 Be3 c6 Be2 b5 Nd2 a5 a4 c5 axb5 Nc...   \n",
       "3          1454  d4 d5 Nf3 Bf5 Nc3 Nf6 Bf4 Ng4 e3 Nc6 Be2 Qd7 O...   \n",
       "4          1469  e4 e5 Nf3 d6 d4 Nc6 d5 Nb4 a3 Na6 Nc3 Be7 b4 N...   \n",
       "5          1002                                   e4 c5 Nf3 Qa5 a3   \n",
       "6          1423  d4 d5 e4 dxe4 Nc3 Nf6 f3 exf3 Nxf3 Nc6 Bb5 a6 ...   \n",
       "7          2108                     e4 Nc6 d4 e5 d5 Nce7 c3 Ng6 b4   \n",
       "8          1392  e4 e5 Bc4 Nc6 Nf3 Nd4 d3 Nxf3+ Qxf3 Nf6 h3 Bc5...   \n",
       "9          1209  e4 d5 exd5 Qxd5 Nc3 Qe5+ Be2 Na6 d4 Qf5 Bxa6 b...   \n",
       "\n",
       "  opening_eco                                       opening_name  opening_ply  \n",
       "0         D10                   Slav Defense: Exchange Variation            5  \n",
       "1         B00             Nimzowitsch Defense: Kennedy Variation            4  \n",
       "2         C20              King's Pawn Game: Leonardis Variation            3  \n",
       "3         D02             Queen's Pawn Game: Zukertort Variation            3  \n",
       "4         C41                                   Philidor Defense            5  \n",
       "5         B27               Sicilian Defense: Mongoose Variation            4  \n",
       "6         D00         Blackmar-Diemer Gambit: Pietrowsky Defense           10  \n",
       "7         B00  Nimzowitsch Defense: Kennedy Variation |  Link...            5  \n",
       "8         C50              Italian Game: Schilling-Kostic Gambit            6  \n",
       "9         B01      Scandinavian Defense: Mieses-Kotroc Variation            4  "
      ]
     },
     "execution_count": 4,
     "metadata": {},
     "output_type": "execute_result"
    }
   ],
   "source": [
    "chess.head(10)"
   ]
  },
  {
   "cell_type": "code",
   "execution_count": 5,
   "id": "68dcaa53",
   "metadata": {
    "execution": {
     "iopub.execute_input": "2025-04-21T21:07:43.180632Z",
     "iopub.status.busy": "2025-04-21T21:07:43.179686Z",
     "iopub.status.idle": "2025-04-21T21:07:43.218933Z",
     "shell.execute_reply": "2025-04-21T21:07:43.217926Z"
    },
    "papermill": {
     "duration": 0.046774,
     "end_time": "2025-04-21T21:07:43.220399",
     "exception": false,
     "start_time": "2025-04-21T21:07:43.173625",
     "status": "completed"
    },
    "tags": []
   },
   "outputs": [
    {
     "name": "stdout",
     "output_type": "stream",
     "text": [
      "<class 'pandas.core.frame.DataFrame'>\n",
      "RangeIndex: 20058 entries, 0 to 20057\n",
      "Data columns (total 16 columns):\n",
      " #   Column          Non-Null Count  Dtype  \n",
      "---  ------          --------------  -----  \n",
      " 0   id              20058 non-null  object \n",
      " 1   rated           20058 non-null  bool   \n",
      " 2   created_at      20058 non-null  float64\n",
      " 3   last_move_at    20058 non-null  float64\n",
      " 4   turns           20058 non-null  int64  \n",
      " 5   victory_status  20058 non-null  object \n",
      " 6   winner          20058 non-null  object \n",
      " 7   increment_code  20058 non-null  object \n",
      " 8   white_id        20058 non-null  object \n",
      " 9   white_rating    20058 non-null  int64  \n",
      " 10  black_id        20058 non-null  object \n",
      " 11  black_rating    20058 non-null  int64  \n",
      " 12  moves           20058 non-null  object \n",
      " 13  opening_eco     20058 non-null  object \n",
      " 14  opening_name    20058 non-null  object \n",
      " 15  opening_ply     20058 non-null  int64  \n",
      "dtypes: bool(1), float64(2), int64(4), object(9)\n",
      "memory usage: 2.3+ MB\n"
     ]
    }
   ],
   "source": [
    "chess.info()"
   ]
  },
  {
   "cell_type": "code",
   "execution_count": 6,
   "id": "54fe55c7",
   "metadata": {
    "execution": {
     "iopub.execute_input": "2025-04-21T21:07:43.232368Z",
     "iopub.status.busy": "2025-04-21T21:07:43.231994Z",
     "iopub.status.idle": "2025-04-21T21:07:43.267380Z",
     "shell.execute_reply": "2025-04-21T21:07:43.266446Z"
    },
    "papermill": {
     "duration": 0.043374,
     "end_time": "2025-04-21T21:07:43.269330",
     "exception": false,
     "start_time": "2025-04-21T21:07:43.225956",
     "status": "completed"
    },
    "tags": []
   },
   "outputs": [],
   "source": [
    "chess['created_at'] = pd.to_datetime(chess['created_at'], unit='ms')\n",
    "chess['last_move_at'] = pd.to_datetime(chess['last_move_at'], unit='ms')\n"
   ]
  },
  {
   "cell_type": "code",
   "execution_count": 7,
   "id": "cf6c94a0",
   "metadata": {
    "execution": {
     "iopub.execute_input": "2025-04-21T21:07:43.281470Z",
     "iopub.status.busy": "2025-04-21T21:07:43.281157Z",
     "iopub.status.idle": "2025-04-21T21:07:43.291934Z",
     "shell.execute_reply": "2025-04-21T21:07:43.290930Z"
    },
    "papermill": {
     "duration": 0.019119,
     "end_time": "2025-04-21T21:07:43.293622",
     "exception": false,
     "start_time": "2025-04-21T21:07:43.274503",
     "status": "completed"
    },
    "tags": []
   },
   "outputs": [
    {
     "data": {
      "text/html": [
       "<div>\n",
       "<style scoped>\n",
       "    .dataframe tbody tr th:only-of-type {\n",
       "        vertical-align: middle;\n",
       "    }\n",
       "\n",
       "    .dataframe tbody tr th {\n",
       "        vertical-align: top;\n",
       "    }\n",
       "\n",
       "    .dataframe thead th {\n",
       "        text-align: right;\n",
       "    }\n",
       "</style>\n",
       "<table border=\"1\" class=\"dataframe\">\n",
       "  <thead>\n",
       "    <tr style=\"text-align: right;\">\n",
       "      <th></th>\n",
       "      <th>last_move_at</th>\n",
       "    </tr>\n",
       "  </thead>\n",
       "  <tbody>\n",
       "    <tr>\n",
       "      <th>0</th>\n",
       "      <td>2017-08-31 20:06:40</td>\n",
       "    </tr>\n",
       "    <tr>\n",
       "      <th>1</th>\n",
       "      <td>2017-08-30 21:53:20</td>\n",
       "    </tr>\n",
       "    <tr>\n",
       "      <th>2</th>\n",
       "      <td>2017-08-30 21:53:20</td>\n",
       "    </tr>\n",
       "    <tr>\n",
       "      <th>3</th>\n",
       "      <td>2017-08-30 16:20:00</td>\n",
       "    </tr>\n",
       "    <tr>\n",
       "      <th>4</th>\n",
       "      <td>2017-08-29 18:06:40</td>\n",
       "    </tr>\n",
       "  </tbody>\n",
       "</table>\n",
       "</div>"
      ],
      "text/plain": [
       "         last_move_at\n",
       "0 2017-08-31 20:06:40\n",
       "1 2017-08-30 21:53:20\n",
       "2 2017-08-30 21:53:20\n",
       "3 2017-08-30 16:20:00\n",
       "4 2017-08-29 18:06:40"
      ]
     },
     "execution_count": 7,
     "metadata": {},
     "output_type": "execute_result"
    }
   ],
   "source": [
    "chess[['created_at']].head()\n",
    "chess[['last_move_at']].head()"
   ]
  },
  {
   "cell_type": "code",
   "execution_count": 8,
   "id": "b7df3a7d",
   "metadata": {
    "execution": {
     "iopub.execute_input": "2025-04-21T21:07:43.305815Z",
     "iopub.status.busy": "2025-04-21T21:07:43.305462Z",
     "iopub.status.idle": "2025-04-21T21:07:43.311412Z",
     "shell.execute_reply": "2025-04-21T21:07:43.310646Z"
    },
    "papermill": {
     "duration": 0.013782,
     "end_time": "2025-04-21T21:07:43.313038",
     "exception": false,
     "start_time": "2025-04-21T21:07:43.299256",
     "status": "completed"
    },
    "tags": []
   },
   "outputs": [
    {
     "data": {
      "text/plain": [
       "Index(['id', 'rated', 'created_at', 'last_move_at', 'turns', 'victory_status',\n",
       "       'winner', 'increment_code', 'white_id', 'white_rating', 'black_id',\n",
       "       'black_rating', 'moves', 'opening_eco', 'opening_name', 'opening_ply'],\n",
       "      dtype='object')"
      ]
     },
     "execution_count": 8,
     "metadata": {},
     "output_type": "execute_result"
    }
   ],
   "source": [
    "chess.columns"
   ]
  },
  {
   "cell_type": "code",
   "execution_count": 9,
   "id": "1f6e90ff",
   "metadata": {
    "execution": {
     "iopub.execute_input": "2025-04-21T21:07:43.325569Z",
     "iopub.status.busy": "2025-04-21T21:07:43.325252Z",
     "iopub.status.idle": "2025-04-21T21:07:43.335012Z",
     "shell.execute_reply": "2025-04-21T21:07:43.334055Z"
    },
    "papermill": {
     "duration": 0.017906,
     "end_time": "2025-04-21T21:07:43.336650",
     "exception": false,
     "start_time": "2025-04-21T21:07:43.318744",
     "status": "completed"
    },
    "tags": []
   },
   "outputs": [
    {
     "data": {
      "text/plain": [
       "False    11510\n",
       "True      8548\n",
       "Name: count, dtype: int64"
      ]
     },
     "execution_count": 9,
     "metadata": {},
     "output_type": "execute_result"
    }
   ],
   "source": [
    "(chess['created_at'] == chess['last_move_at']).value_counts()"
   ]
  },
  {
   "cell_type": "code",
   "execution_count": 10,
   "id": "4e254940",
   "metadata": {
    "execution": {
     "iopub.execute_input": "2025-04-21T21:07:43.349631Z",
     "iopub.status.busy": "2025-04-21T21:07:43.348795Z",
     "iopub.status.idle": "2025-04-21T21:07:43.353809Z",
     "shell.execute_reply": "2025-04-21T21:07:43.352879Z"
    },
    "papermill": {
     "duration": 0.013168,
     "end_time": "2025-04-21T21:07:43.355342",
     "exception": false,
     "start_time": "2025-04-21T21:07:43.342174",
     "status": "completed"
    },
    "tags": []
   },
   "outputs": [],
   "source": [
    "def elo_category(rating):\n",
    "    if rating < 1200:\n",
    "        return 'Beginner'\n",
    "    elif rating < 1400:\n",
    "        return 'Intermediate'\n",
    "    elif rating < 1600:\n",
    "        return 'Advanced'\n",
    "    else:\n",
    "        return 'Expert'"
   ]
  },
  {
   "cell_type": "code",
   "execution_count": 11,
   "id": "e2fc9b15",
   "metadata": {
    "execution": {
     "iopub.execute_input": "2025-04-21T21:07:43.367750Z",
     "iopub.status.busy": "2025-04-21T21:07:43.367385Z",
     "iopub.status.idle": "2025-04-21T21:07:43.383907Z",
     "shell.execute_reply": "2025-04-21T21:07:43.382899Z"
    },
    "papermill": {
     "duration": 0.024516,
     "end_time": "2025-04-21T21:07:43.385566",
     "exception": false,
     "start_time": "2025-04-21T21:07:43.361050",
     "status": "completed"
    },
    "tags": []
   },
   "outputs": [],
   "source": [
    "chess['white_elo_cat'] = chess['white_rating'].apply(elo_category)\n",
    "chess['black_elo_cat'] = chess['black_rating'].apply(elo_category)"
   ]
  },
  {
   "cell_type": "code",
   "execution_count": 12,
   "id": "384f4a2a",
   "metadata": {
    "execution": {
     "iopub.execute_input": "2025-04-21T21:07:43.397977Z",
     "iopub.status.busy": "2025-04-21T21:07:43.397680Z",
     "iopub.status.idle": "2025-04-21T21:07:43.406671Z",
     "shell.execute_reply": "2025-04-21T21:07:43.405734Z"
    },
    "papermill": {
     "duration": 0.017142,
     "end_time": "2025-04-21T21:07:43.408218",
     "exception": false,
     "start_time": "2025-04-21T21:07:43.391076",
     "status": "completed"
    },
    "tags": []
   },
   "outputs": [
    {
     "data": {
      "text/plain": [
       "white_elo_cat\n",
       "Expert          9222\n",
       "Advanced        5789\n",
       "Intermediate    3453\n",
       "Beginner        1594\n",
       "Name: count, dtype: int64"
      ]
     },
     "execution_count": 12,
     "metadata": {},
     "output_type": "execute_result"
    }
   ],
   "source": [
    "chess['white_elo_cat'].value_counts()"
   ]
  },
  {
   "cell_type": "code",
   "execution_count": 13,
   "id": "de16fc31",
   "metadata": {
    "execution": {
     "iopub.execute_input": "2025-04-21T21:07:43.420766Z",
     "iopub.status.busy": "2025-04-21T21:07:43.420404Z",
     "iopub.status.idle": "2025-04-21T21:07:43.429288Z",
     "shell.execute_reply": "2025-04-21T21:07:43.428494Z"
    },
    "papermill": {
     "duration": 0.017097,
     "end_time": "2025-04-21T21:07:43.430918",
     "exception": false,
     "start_time": "2025-04-21T21:07:43.413821",
     "status": "completed"
    },
    "tags": []
   },
   "outputs": [
    {
     "data": {
      "text/plain": [
       "black_elo_cat\n",
       "Expert          9041\n",
       "Advanced        5813\n",
       "Intermediate    3515\n",
       "Beginner        1689\n",
       "Name: count, dtype: int64"
      ]
     },
     "execution_count": 13,
     "metadata": {},
     "output_type": "execute_result"
    }
   ],
   "source": [
    "chess['black_elo_cat'].value_counts()"
   ]
  },
  {
   "cell_type": "code",
   "execution_count": 14,
   "id": "2c6fe70c",
   "metadata": {
    "execution": {
     "iopub.execute_input": "2025-04-21T21:07:43.444143Z",
     "iopub.status.busy": "2025-04-21T21:07:43.443812Z",
     "iopub.status.idle": "2025-04-21T21:07:45.539085Z",
     "shell.execute_reply": "2025-04-21T21:07:45.538188Z"
    },
    "papermill": {
     "duration": 2.104149,
     "end_time": "2025-04-21T21:07:45.540776",
     "exception": false,
     "start_time": "2025-04-21T21:07:43.436627",
     "status": "completed"
    },
    "tags": []
   },
   "outputs": [],
   "source": [
    "import seaborn as sns\n",
    "import matplotlib.pyplot as plt"
   ]
  },
  {
   "cell_type": "code",
   "execution_count": 15,
   "id": "b78d84a2",
   "metadata": {
    "execution": {
     "iopub.execute_input": "2025-04-21T21:07:45.553477Z",
     "iopub.status.busy": "2025-04-21T21:07:45.553028Z",
     "iopub.status.idle": "2025-04-21T21:07:45.858404Z",
     "shell.execute_reply": "2025-04-21T21:07:45.857409Z"
    },
    "papermill": {
     "duration": 0.313592,
     "end_time": "2025-04-21T21:07:45.860062",
     "exception": false,
     "start_time": "2025-04-21T21:07:45.546470",
     "status": "completed"
    },
    "tags": []
   },
   "outputs": [
    {
     "data": {
      "image/png": "[encoded data removed]",
      "text/plain": [
       "<Figure size 800x500 with 1 Axes>"
      ]
     },
     "metadata": {},
     "output_type": "display_data"
    }
   ],
   "source": [
    "sns.set(style=\"whitegrid\")\n",
    "palette = sns.color_palette(\"coolwarm\", 4)\n",
    "plt.figure(figsize=(8, 5))\n",
    "sns.countplot(x='white_elo_cat', data=chess, order=['Beginner', 'Intermediate', 'Advanced', 'Expert'], palette=palette)\n",
    "plt.title('White Player Count by ELO Category', fontsize=16)\n",
    "plt.xlabel('ELO Category', fontsize=20)\n",
    "plt.ylabel('Player Count', fontsize=20)\n",
    "\n",
    "plt.show()\n"
   ]
  },
  {
   "cell_type": "markdown",
   "id": "828cbac5",
   "metadata": {
    "papermill": {
     "duration": 0.006774,
     "end_time": "2025-04-21T21:07:45.873184",
     "exception": false,
     "start_time": "2025-04-21T21:07:45.866410",
     "status": "completed"
    },
    "tags": []
   },
   "source": [
    "In this graph, we can observe the segmentation of white players based on their ELO ratings. This segmentation categorizes players according to their skill levels. \n",
    "\n",
    "The ELO system is used to rank players based on their performance in chess games. Players are grouped into different categories based on their ELO score, such as *Beginner*, *Intermediate*, *Advanced*, and *Expert*.\n"
   ]
  },
  {
   "cell_type": "markdown",
   "id": "20f7df44",
   "metadata": {
    "papermill": {
     "duration": 0.005852,
     "end_time": "2025-04-21T21:07:45.885876",
     "exception": false,
     "start_time": "2025-04-21T21:07:45.880024",
     "status": "completed"
    },
    "tags": []
   },
   "source": [
    "- *Beginner*: 0-1000 ELO\n",
    "- *Intermediate*: 1001-1500 ELO\n",
    "- *Advanced*: 1501-2000 ELO\n",
    "- *Expert*: 2001+ ELO\n"
   ]
  },
  {
   "cell_type": "code",
   "execution_count": 16,
   "id": "f496b241",
   "metadata": {
    "execution": {
     "iopub.execute_input": "2025-04-21T21:07:45.899702Z",
     "iopub.status.busy": "2025-04-21T21:07:45.899299Z",
     "iopub.status.idle": "2025-04-21T21:07:45.909285Z",
     "shell.execute_reply": "2025-04-21T21:07:45.908448Z"
    },
    "papermill": {
     "duration": 0.0189,
     "end_time": "2025-04-21T21:07:45.910957",
     "exception": false,
     "start_time": "2025-04-21T21:07:45.892057",
     "status": "completed"
    },
    "tags": []
   },
   "outputs": [],
   "source": [
    "white_df = chess[['white_id', 'white_rating']].copy()\n",
    "white_df.columns = ['player_id', 'elo']\n",
    "white_df['color'] = 'white'"
   ]
  },
  {
   "cell_type": "code",
   "execution_count": 17,
   "id": "a2340d97",
   "metadata": {
    "execution": {
     "iopub.execute_input": "2025-04-21T21:07:45.925415Z",
     "iopub.status.busy": "2025-04-21T21:07:45.924597Z",
     "iopub.status.idle": "2025-04-21T21:07:45.931517Z",
     "shell.execute_reply": "2025-04-21T21:07:45.930710Z"
    },
    "papermill": {
     "duration": 0.015773,
     "end_time": "2025-04-21T21:07:45.933049",
     "exception": false,
     "start_time": "2025-04-21T21:07:45.917276",
     "status": "completed"
    },
    "tags": []
   },
   "outputs": [],
   "source": [
    "black_df = chess[['black_id', 'black_rating']].copy()\n",
    "black_df.columns = ['player_id', 'elo']\n",
    "black_df['color'] = 'black'"
   ]
  },
  {
   "cell_type": "code",
   "execution_count": 18,
   "id": "abf60386",
   "metadata": {
    "execution": {
     "iopub.execute_input": "2025-04-21T21:07:45.946849Z",
     "iopub.status.busy": "2025-04-21T21:07:45.946479Z",
     "iopub.status.idle": "2025-04-21T21:07:45.952631Z",
     "shell.execute_reply": "2025-04-21T21:07:45.951837Z"
    },
    "papermill": {
     "duration": 0.015067,
     "end_time": "2025-04-21T21:07:45.954348",
     "exception": false,
     "start_time": "2025-04-21T21:07:45.939281",
     "status": "completed"
    },
    "tags": []
   },
   "outputs": [],
   "source": [
    "combined_df = pd.concat([white_df, black_df])"
   ]
  },
  {
   "cell_type": "code",
   "execution_count": 19,
   "id": "1637b8ca",
   "metadata": {
    "execution": {
     "iopub.execute_input": "2025-04-21T21:07:45.968108Z",
     "iopub.status.busy": "2025-04-21T21:07:45.967803Z",
     "iopub.status.idle": "2025-04-21T21:07:45.973000Z",
     "shell.execute_reply": "2025-04-21T21:07:45.971781Z"
    },
    "papermill": {
     "duration": 0.014167,
     "end_time": "2025-04-21T21:07:45.974827",
     "exception": false,
     "start_time": "2025-04-21T21:07:45.960660",
     "status": "completed"
    },
    "tags": []
   },
   "outputs": [],
   "source": [
    "def categorize_elo(elo):\n",
    "    if elo < 1200:\n",
    "        return 'Beginner'\n",
    "    elif elo < 1600:\n",
    "        return 'Intermediate'\n",
    "    elif elo < 2000:\n",
    "        return 'Advanced'\n",
    "    else:\n",
    "        return 'Expert'"
   ]
  },
  {
   "cell_type": "code",
   "execution_count": 20,
   "id": "d55924c0",
   "metadata": {
    "execution": {
     "iopub.execute_input": "2025-04-21T21:07:45.988899Z",
     "iopub.status.busy": "2025-04-21T21:07:45.988503Z",
     "iopub.status.idle": "2025-04-21T21:07:46.004780Z",
     "shell.execute_reply": "2025-04-21T21:07:46.003876Z"
    },
    "papermill": {
     "duration": 0.025274,
     "end_time": "2025-04-21T21:07:46.006374",
     "exception": false,
     "start_time": "2025-04-21T21:07:45.981100",
     "status": "completed"
    },
    "tags": []
   },
   "outputs": [],
   "source": [
    "combined_df['elo_cat'] = combined_df['elo'].apply(categorize_elo)\n"
   ]
  },
  {
   "cell_type": "code",
   "execution_count": 21,
   "id": "a7ae3bfd",
   "metadata": {
    "execution": {
     "iopub.execute_input": "2025-04-21T21:07:46.020276Z",
     "iopub.status.busy": "2025-04-21T21:07:46.019880Z",
     "iopub.status.idle": "2025-04-21T21:07:46.024090Z",
     "shell.execute_reply": "2025-04-21T21:07:46.023316Z"
    },
    "papermill": {
     "duration": 0.01312,
     "end_time": "2025-04-21T21:07:46.025685",
     "exception": false,
     "start_time": "2025-04-21T21:07:46.012565",
     "status": "completed"
    },
    "tags": []
   },
   "outputs": [],
   "source": [
    "import seaborn as sns\n",
    "import matplotlib.pyplot as plt"
   ]
  },
  {
   "cell_type": "code",
   "execution_count": 22,
   "id": "f239842c",
   "metadata": {
    "execution": {
     "iopub.execute_input": "2025-04-21T21:07:46.039929Z",
     "iopub.status.busy": "2025-04-21T21:07:46.039570Z",
     "iopub.status.idle": "2025-04-21T21:07:46.452821Z",
     "shell.execute_reply": "2025-04-21T21:07:46.451843Z"
    },
    "papermill": {
     "duration": 0.4224,
     "end_time": "2025-04-21T21:07:46.454498",
     "exception": false,
     "start_time": "2025-04-21T21:07:46.032098",
     "status": "completed"
    },
    "tags": []
   },
   "outputs": [
    {
     "data": {
      "image/png": "[encoded data removed]",
      "text/plain": [
       "<Figure size 1000x600 with 1 Axes>"
      ]
     },
     "metadata": {},
     "output_type": "display_data"
    }
   ],
   "source": [
    "plt.figure(figsize=(10,6))\n",
    "sns.set_style(\"whitegrid\")\n",
    "\n",
    "sns.countplot(\n",
    "    data=combined_df,\n",
    "    x='elo_cat',\n",
    "    hue='color',\n",
    "    order=['Beginner', 'Intermediate', 'Advanced', 'Expert'],\n",
    "    palette={'white': 'skyblue', 'black': 'darkblue'},\n",
    "    edgecolor='gray'\n",
    ")\n",
    "\n",
    "plt.title(\"Player Distribution by ELO Category and Piece Color\", fontsize=14, weight='bold')\n",
    "plt.xlabel(\"ELO Category\", fontsize=12)\n",
    "plt.ylabel(\"Number of Players\", fontsize=12)\n",
    "plt.xticks(fontsize=11)\n",
    "plt.yticks(fontsize=11)\n",
    "plt.legend(title='Color', title_fontsize=18, fontsize=11)\n",
    "plt.tight_layout()\n",
    "plt.show()\n"
   ]
  },
  {
   "cell_type": "markdown",
   "id": "1bc46086",
   "metadata": {
    "papermill": {
     "duration": 0.006888,
     "end_time": "2025-04-21T21:07:46.468623",
     "exception": false,
     "start_time": "2025-04-21T21:07:46.461735",
     "status": "completed"
    },
    "tags": []
   },
   "source": [
    "# Chess Openings Analysis and Player Distribution\n",
    "\n",
    "## Overview\n",
    "In this project, we analyzed various chess opening strategies based on the ELO ratings and colors of the pieces used by the players. The dataset contains information about **white** and **black** players, including their ELO ratings, and categorized them into different ELO categories such as *Beginner*, *Intermediate*, *Advanced*, and *Expert*.\n",
    "\n",
    "### Key Findings\n",
    "\n",
    "1. **ELO Distribution**:\n",
    "   - The majority of the players are in the **Beginner** category, followed by **Intermediate** players. There are significantly fewer **Advanced** and **Expert** players.\n",
    "   \n",
    "2. **Player Color Distribution**:\n",
    "   - The **distribution of players** based on the piece color shows interesting trends. For example, **white players** tend to have slightly higher ELO ratings on average compared to **black players**.\n",
    "\n",
    "3. **Opening Strategies**:\n",
    "   - The analysis of opening moves showed that the most common opening for **white** is 1.e4, while for **black**, responses like 1...e5 and 1...c5 are quite common.\n",
    "\n",
    "## Conclusion\n",
    "The analysis shows that players' choice of opening moves and their performance based on ELO categories can provide valuable insights for improving game strategies. Future work could involve incorporating **win rates** for different openings to identify the most effective strategies.\n",
    "\n",
    "\n",
    "# End of Analysis\n"
   ]
  }
 ],
 "metadata": {
  "kaggle": {
   "accelerator": "none",
   "dataSources": [
    {
     "datasetId": 2321,
     "sourceId": 3919,
     "sourceType": "datasetVersion"
    }
   ],
   "dockerImageVersionId": 31012,
   "isGpuEnabled": false,
   "isInternetEnabled": true,
   "language": "python",
   "sourceType": "notebook"
  },
  "kernelspec": {
   "display_name": "Python 3",
   "language": "python",
   "name": "python3"
  },
  "language_info": {
   "codemirror_mode": {
    "name": "ipython",
    "version": 3
   },
   "file_extension": ".py",
   "mimetype": "text/x-python",
   "name": "python",
   "nbconvert_exporter": "python",
   "pygments_lexer": "ipython3",
   "version": "3.11.11"
  },
  "papermill": {
   "default_parameters": {},
   "duration": 11.662092,
   "end_time": "2025-04-21T21:07:47.195932",
   "environment_variables": {},
   "exception": null,
   "input_path": "__notebook__.ipynb",
   "output_path": "__notebook__.ipynb",
   "parameters": {},
   "start_time": "2025-04-21T21:07:35.533840",
   "version": "2.6.0"
  }
 },
 "nbformat": 4,
 "nbformat_minor": 5
}
