{
 "cells": [
  {
   "cell_type": "code",
   "execution_count": 1,
   "id": "227d515a",
   "metadata": {
    "execution": {
     "iopub.execute_input": "2025-05-03T00:49:03.987232Z",
     "iopub.status.busy": "2025-05-03T00:49:03.987005Z",
     "iopub.status.idle": "2025-05-03T00:49:07.392529Z",
     "shell.execute_reply": "2025-05-03T00:49:07.391860Z"
    },
    "papermill": {
     "duration": 3.412001,
     "end_time": "2025-05-03T00:49:07.393935",
     "exception": false,
     "start_time": "2025-05-03T00:49:03.981934",
     "status": "completed"
    },
    "tags": []
   },
   "outputs": [],
   "source": [
    "import pandas as pd\n",
    "import numpy as np\n",
    "import matplotlib.pyplot as plt\n",
    "import seaborn as sns\n",
    "from sklearn.model_selection import train_test_split\n",
    "from sklearn.linear_model import LogisticRegression\n",
    "from sklearn.metrics import accuracy_score, log_loss, classification_report\n",
    "from sklearn.preprocessing import StandardScaler"
   ]
  },
  {
   "cell_type": "markdown",
   "id": "16f896e6",
   "metadata": {
    "papermill": {
     "duration": 0.002771,
     "end_time": "2025-05-03T00:49:07.400244",
     "exception": false,
     "start_time": "2025-05-03T00:49:07.397473",
     "status": "completed"
    },
    "tags": []
   },
   "source": [
    "## Data Loading and Exploration\n",
    "\n",
    "This section loads the Heart Disease UCI dataset and inspects its structure, checking for missing values and initial data characteristics."
   ]
  },
  {
   "cell_type": "code",
   "execution_count": 2,
   "id": "055df677",
   "metadata": {
    "execution": {
     "iopub.execute_input": "2025-05-03T00:49:07.407876Z",
     "iopub.status.busy": "2025-05-03T00:49:07.407480Z",
     "iopub.status.idle": "2025-05-03T00:49:07.431072Z",
     "shell.execute_reply": "2025-05-03T00:49:07.430351Z"
    },
    "papermill": {
     "duration": 0.029435,
     "end_time": "2025-05-03T00:49:07.432574",
     "exception": false,
     "start_time": "2025-05-03T00:49:07.403139",
     "status": "completed"
    },
    "tags": []
   },
   "outputs": [],
   "source": [
    "data = pd.read_csv('/kaggle/input/heart-disease-data/heart_disease_uci.csv')"
   ]
  },
  {
   "cell_type": "code",
   "execution_count": 3,
   "id": "2670b34d",
   "metadata": {
    "execution": {
     "iopub.execute_input": "2025-05-03T00:49:07.439946Z",
     "iopub.status.busy": "2025-05-03T00:49:07.439701Z",
     "iopub.status.idle": "2025-05-03T00:49:07.463616Z",
     "shell.execute_reply": "2025-05-03T00:49:07.462792Z"
    },
    "papermill": {
     "duration": 0.028789,
     "end_time": "2025-05-03T00:49:07.464766",
     "exception": false,
     "start_time": "2025-05-03T00:49:07.435977",
     "status": "completed"
    },
    "tags": []
   },
   "outputs": [
    {
     "data": {
      "text/html": [
       "<div>\n",
       "<style scoped>\n",
       "    .dataframe tbody tr th:only-of-type {\n",
       "        vertical-align: middle;\n",
       "    }\n",
       "\n",
       "    .dataframe tbody tr th {\n",
       "        vertical-align: top;\n",
       "    }\n",
       "\n",
       "    .dataframe thead th {\n",
       "        text-align: right;\n",
       "    }\n",
       "</style>\n",
       "<table border=\"1\" class=\"dataframe\">\n",
       "  <thead>\n",
       "    <tr style=\"text-align: right;\">\n",
       "      <th></th>\n",
       "      <th>id</th>\n",
       "      <th>age</th>\n",
       "      <th>sex</th>\n",
       "      <th>dataset</th>\n",
       "      <th>cp</th>\n",
       "      <th>trestbps</th>\n",
       "      <th>chol</th>\n",
       "      <th>fbs</th>\n",
       "      <th>restecg</th>\n",
       "      <th>thalch</th>\n",
       "      <th>exang</th>\n",
       "      <th>oldpeak</th>\n",
       "      <th>slope</th>\n",
       "      <th>ca</th>\n",
       "      <th>thal</th>\n",
       "      <th>num</th>\n",
       "    </tr>\n",
       "  </thead>\n",
       "  <tbody>\n",
       "    <tr>\n",
       "      <th>0</th>\n",
       "      <td>1</td>\n",
       "      <td>63</td>\n",
       "      <td>Male</td>\n",
       "      <td>Cleveland</td>\n",
       "      <td>typical angina</td>\n",
       "      <td>145.0</td>\n",
       "      <td>233.0</td>\n",
       "      <td>True</td>\n",
       "      <td>lv hypertrophy</td>\n",
       "      <td>150.0</td>\n",
       "      <td>False</td>\n",
       "      <td>2.3</td>\n",
       "      <td>downsloping</td>\n",
       "      <td>0.0</td>\n",
       "      <td>fixed defect</td>\n",
       "      <td>0</td>\n",
       "    </tr>\n",
       "    <tr>\n",
       "      <th>1</th>\n",
       "      <td>2</td>\n",
       "      <td>67</td>\n",
       "      <td>Male</td>\n",
       "      <td>Cleveland</td>\n",
       "      <td>asymptomatic</td>\n",
       "      <td>160.0</td>\n",
       "      <td>286.0</td>\n",
       "      <td>False</td>\n",
       "      <td>lv hypertrophy</td>\n",
       "      <td>108.0</td>\n",
       "      <td>True</td>\n",
       "      <td>1.5</td>\n",
       "      <td>flat</td>\n",
       "      <td>3.0</td>\n",
       "      <td>normal</td>\n",
       "      <td>2</td>\n",
       "    </tr>\n",
       "    <tr>\n",
       "      <th>2</th>\n",
       "      <td>3</td>\n",
       "      <td>67</td>\n",
       "      <td>Male</td>\n",
       "      <td>Cleveland</td>\n",
       "      <td>asymptomatic</td>\n",
       "      <td>120.0</td>\n",
       "      <td>229.0</td>\n",
       "      <td>False</td>\n",
       "      <td>lv hypertrophy</td>\n",
       "      <td>129.0</td>\n",
       "      <td>True</td>\n",
       "      <td>2.6</td>\n",
       "      <td>flat</td>\n",
       "      <td>2.0</td>\n",
       "      <td>reversable defect</td>\n",
       "      <td>1</td>\n",
       "    </tr>\n",
       "    <tr>\n",
       "      <th>3</th>\n",
       "      <td>4</td>\n",
       "      <td>37</td>\n",
       "      <td>Male</td>\n",
       "      <td>Cleveland</td>\n",
       "      <td>non-anginal</td>\n",
       "      <td>130.0</td>\n",
       "      <td>250.0</td>\n",
       "      <td>False</td>\n",
       "      <td>normal</td>\n",
       "      <td>187.0</td>\n",
       "      <td>False</td>\n",
       "      <td>3.5</td>\n",
       "      <td>downsloping</td>\n",
       "      <td>0.0</td>\n",
       "      <td>normal</td>\n",
       "      <td>0</td>\n",
       "    </tr>\n",
       "    <tr>\n",
       "      <th>4</th>\n",
       "      <td>5</td>\n",
       "      <td>41</td>\n",
       "      <td>Female</td>\n",
       "      <td>Cleveland</td>\n",
       "      <td>atypical angina</td>\n",
       "      <td>130.0</td>\n",
       "      <td>204.0</td>\n",
       "      <td>False</td>\n",
       "      <td>lv hypertrophy</td>\n",
       "      <td>172.0</td>\n",
       "      <td>False</td>\n",
       "      <td>1.4</td>\n",
       "      <td>upsloping</td>\n",
       "      <td>0.0</td>\n",
       "      <td>normal</td>\n",
       "      <td>0</td>\n",
       "    </tr>\n",
       "  </tbody>\n",
       "</table>\n",
       "</div>"
      ],
      "text/plain": [
       "   id  age     sex    dataset               cp  trestbps   chol    fbs  \\\n",
       "0   1   63    Male  Cleveland   typical angina     145.0  233.0   True   \n",
       "1   2   67    Male  Cleveland     asymptomatic     160.0  286.0  False   \n",
       "2   3   67    Male  Cleveland     asymptomatic     120.0  229.0  False   \n",
       "3   4   37    Male  Cleveland      non-anginal     130.0  250.0  False   \n",
       "4   5   41  Female  Cleveland  atypical angina     130.0  204.0  False   \n",
       "\n",
       "          restecg  thalch  exang  oldpeak        slope   ca  \\\n",
       "0  lv hypertrophy   150.0  False      2.3  downsloping  0.0   \n",
       "1  lv hypertrophy   108.0   True      1.5         flat  3.0   \n",
       "2  lv hypertrophy   129.0   True      2.6         flat  2.0   \n",
       "3          normal   187.0  False      3.5  downsloping  0.0   \n",
       "4  lv hypertrophy   172.0  False      1.4    upsloping  0.0   \n",
       "\n",
       "                thal  num  \n",
       "0       fixed defect    0  \n",
       "1             normal    2  \n",
       "2  reversable defect    1  \n",
       "3             normal    0  \n",
       "4             normal    0  "
      ]
     },
     "execution_count": 3,
     "metadata": {},
     "output_type": "execute_result"
    }
   ],
   "source": [
    "data.head()"
   ]
  },
  {
   "cell_type": "code",
   "execution_count": 4,
   "id": "6464fb19",
   "metadata": {
    "execution": {
     "iopub.execute_input": "2025-05-03T00:49:07.473237Z",
     "iopub.status.busy": "2025-05-03T00:49:07.472981Z",
     "iopub.status.idle": "2025-05-03T00:49:07.479350Z",
     "shell.execute_reply": "2025-05-03T00:49:07.478503Z"
    },
    "papermill": {
     "duration": 0.012349,
     "end_time": "2025-05-03T00:49:07.480607",
     "exception": false,
     "start_time": "2025-05-03T00:49:07.468258",
     "status": "completed"
    },
    "tags": []
   },
   "outputs": [
    {
     "data": {
      "text/plain": [
       "id            0\n",
       "age           0\n",
       "sex           0\n",
       "dataset       0\n",
       "cp            0\n",
       "trestbps     59\n",
       "chol         30\n",
       "fbs          90\n",
       "restecg       2\n",
       "thalch       55\n",
       "exang        55\n",
       "oldpeak      62\n",
       "slope       309\n",
       "ca          611\n",
       "thal        486\n",
       "num           0\n",
       "dtype: int64"
      ]
     },
     "execution_count": 4,
     "metadata": {},
     "output_type": "execute_result"
    }
   ],
   "source": [
    "data.isnull().sum()"
   ]
  },
  {
   "cell_type": "markdown",
   "id": "7c76b45c",
   "metadata": {
    "papermill": {
     "duration": 0.003005,
     "end_time": "2025-05-03T00:49:07.487272",
     "exception": false,
     "start_time": "2025-05-03T00:49:07.484267",
     "status": "completed"
    },
    "tags": []
   },
   "source": [
    "## Data Preprocessing\n",
    "\n",
    "Here, we clean the dataset by removing missing values, separate features and the target variable, and prepare the data for modeling."
   ]
  },
  {
   "cell_type": "code",
   "execution_count": 5,
   "id": "b92d44aa",
   "metadata": {
    "execution": {
     "iopub.execute_input": "2025-05-03T00:49:07.494719Z",
     "iopub.status.busy": "2025-05-03T00:49:07.494476Z",
     "iopub.status.idle": "2025-05-03T00:49:07.501628Z",
     "shell.execute_reply": "2025-05-03T00:49:07.500881Z"
    },
    "papermill": {
     "duration": 0.012212,
     "end_time": "2025-05-03T00:49:07.502678",
     "exception": false,
     "start_time": "2025-05-03T00:49:07.490466",
     "status": "completed"
    },
    "tags": []
   },
   "outputs": [],
   "source": [
    "data = data.dropna()"
   ]
  },
  {
   "cell_type": "code",
   "execution_count": 6,
   "id": "cea8d0c0",
   "metadata": {
    "execution": {
     "iopub.execute_input": "2025-05-03T00:49:07.510093Z",
     "iopub.status.busy": "2025-05-03T00:49:07.509881Z",
     "iopub.status.idle": "2025-05-03T00:49:07.515956Z",
     "shell.execute_reply": "2025-05-03T00:49:07.515074Z"
    },
    "papermill": {
     "duration": 0.010744,
     "end_time": "2025-05-03T00:49:07.516905",
     "exception": false,
     "start_time": "2025-05-03T00:49:07.506161",
     "status": "completed"
    },
    "tags": []
   },
   "outputs": [
    {
     "data": {
      "text/plain": [
       "id          0\n",
       "age         0\n",
       "sex         0\n",
       "dataset     0\n",
       "cp          0\n",
       "trestbps    0\n",
       "chol        0\n",
       "fbs         0\n",
       "restecg     0\n",
       "thalch      0\n",
       "exang       0\n",
       "oldpeak     0\n",
       "slope       0\n",
       "ca          0\n",
       "thal        0\n",
       "num         0\n",
       "dtype: int64"
      ]
     },
     "execution_count": 6,
     "metadata": {},
     "output_type": "execute_result"
    }
   ],
   "source": [
    "data.isnull().sum()"
   ]
  },
  {
   "cell_type": "markdown",
   "id": "ea0892f5",
   "metadata": {
    "papermill": {
     "duration": 0.002955,
     "end_time": "2025-05-03T00:49:07.523294",
     "exception": false,
     "start_time": "2025-05-03T00:49:07.520339",
     "status": "completed"
    },
    "tags": []
   },
   "source": [
    "## Feature Engineering\n",
    "\n",
    "This section converts categorical variables to numerical format and scales the features to ensure better model performance."
   ]
  },
  {
   "cell_type": "code",
   "execution_count": 7,
   "id": "82ac4b4d",
   "metadata": {
    "execution": {
     "iopub.execute_input": "2025-05-03T00:49:07.531018Z",
     "iopub.status.busy": "2025-05-03T00:49:07.530289Z",
     "iopub.status.idle": "2025-05-03T00:49:07.538468Z",
     "shell.execute_reply": "2025-05-03T00:49:07.537519Z"
    },
    "papermill": {
     "duration": 0.013373,
     "end_time": "2025-05-03T00:49:07.539867",
     "exception": false,
     "start_time": "2025-05-03T00:49:07.526494",
     "status": "completed"
    },
    "tags": []
   },
   "outputs": [],
   "source": [
    "X = data.drop(['id', 'dataset', 'num'], axis=1)  # 'num' hedef, diğerleri özellik\n",
    "y = data['num'].apply(lambda x: 1 if x > 0 else 0)  # 1: hastalık, 0: yok"
   ]
  },
  {
   "cell_type": "code",
   "execution_count": 8,
   "id": "d5cff5ae",
   "metadata": {
    "execution": {
     "iopub.execute_input": "2025-05-03T00:49:07.547606Z",
     "iopub.status.busy": "2025-05-03T00:49:07.547329Z",
     "iopub.status.idle": "2025-05-03T00:49:07.560677Z",
     "shell.execute_reply": "2025-05-03T00:49:07.559722Z"
    },
    "papermill": {
     "duration": 0.018561,
     "end_time": "2025-05-03T00:49:07.562107",
     "exception": false,
     "start_time": "2025-05-03T00:49:07.543546",
     "status": "completed"
    },
    "tags": []
   },
   "outputs": [],
   "source": [
    "X = pd.get_dummies(X, drop_first=True)"
   ]
  },
  {
   "cell_type": "code",
   "execution_count": 9,
   "id": "f66645f7",
   "metadata": {
    "execution": {
     "iopub.execute_input": "2025-05-03T00:49:07.570227Z",
     "iopub.status.busy": "2025-05-03T00:49:07.569961Z",
     "iopub.status.idle": "2025-05-03T00:49:07.577139Z",
     "shell.execute_reply": "2025-05-03T00:49:07.576611Z"
    },
    "papermill": {
     "duration": 0.012358,
     "end_time": "2025-05-03T00:49:07.578260",
     "exception": false,
     "start_time": "2025-05-03T00:49:07.565902",
     "status": "completed"
    },
    "tags": []
   },
   "outputs": [],
   "source": [
    "scaler = StandardScaler()\n",
    "X_scaled = scaler.fit_transform(X)"
   ]
  },
  {
   "cell_type": "markdown",
   "id": "b19f499c",
   "metadata": {
    "papermill": {
     "duration": 0.003054,
     "end_time": "2025-05-03T00:49:07.584964",
     "exception": false,
     "start_time": "2025-05-03T00:49:07.581910",
     "status": "completed"
    },
    "tags": []
   },
   "source": [
    "## Model Training\n",
    "\n",
    "We split the data into training and test sets and train a logistic regression model to predict heart disease."
   ]
  },
  {
   "cell_type": "code",
   "execution_count": 10,
   "id": "e8f3b5fc",
   "metadata": {
    "execution": {
     "iopub.execute_input": "2025-05-03T00:49:07.592175Z",
     "iopub.status.busy": "2025-05-03T00:49:07.591958Z",
     "iopub.status.idle": "2025-05-03T00:49:07.596702Z",
     "shell.execute_reply": "2025-05-03T00:49:07.595835Z"
    },
    "papermill": {
     "duration": 0.009683,
     "end_time": "2025-05-03T00:49:07.597834",
     "exception": false,
     "start_time": "2025-05-03T00:49:07.588151",
     "status": "completed"
    },
    "tags": []
   },
   "outputs": [],
   "source": [
    "X_train, X_test, y_train, y_test = train_test_split(X_scaled, y, test_size=0.2, random_state=42)"
   ]
  },
  {
   "cell_type": "code",
   "execution_count": 11,
   "id": "4186e714",
   "metadata": {
    "execution": {
     "iopub.execute_input": "2025-05-03T00:49:07.605074Z",
     "iopub.status.busy": "2025-05-03T00:49:07.604866Z",
     "iopub.status.idle": "2025-05-03T00:49:07.629854Z",
     "shell.execute_reply": "2025-05-03T00:49:07.628684Z"
    },
    "papermill": {
     "duration": 0.029911,
     "end_time": "2025-05-03T00:49:07.631022",
     "exception": false,
     "start_time": "2025-05-03T00:49:07.601111",
     "status": "completed"
    },
    "tags": []
   },
   "outputs": [
    {
     "data": {
      "text/html": [
       "<style>#sk-container-id-1 {color: black;background-color: white;}#sk-container-id-1 pre{padding: 0;}#sk-container-id-1 div.sk-toggleable {background-color: white;}#sk-container-id-1 label.sk-toggleable__label {cursor: pointer;display: block;width: 100%;margin-bottom: 0;padding: 0.3em;box-sizing: border-box;text-align: center;}#sk-container-id-1 label.sk-toggleable__label-arrow:before {content: \"▸\";float: left;margin-right: 0.25em;color: #696969;}#sk-container-id-1 label.sk-toggleable__label-arrow:hover:before {color: black;}#sk-container-id-1 div.sk-estimator:hover label.sk-toggleable__label-arrow:before {color: black;}#sk-container-id-1 div.sk-toggleable__content {max-height: 0;max-width: 0;overflow: hidden;text-align: left;background-color: #f0f8ff;}#sk-container-id-1 div.sk-toggleable__content pre {margin: 0.2em;color: black;border-radius: 0.25em;background-color: #f0f8ff;}#sk-container-id-1 input.sk-toggleable__control:checked~div.sk-toggleable__content {max-height: 200px;max-width: 100%;overflow: auto;}#sk-container-id-1 input.sk-toggleable__control:checked~label.sk-toggleable__label-arrow:before {content: \"▾\";}#sk-container-id-1 div.sk-estimator input.sk-toggleable__control:checked~label.sk-toggleable__label {background-color: #d4ebff;}#sk-container-id-1 div.sk-label input.sk-toggleable__control:checked~label.sk-toggleable__label {background-color: #d4ebff;}#sk-container-id-1 input.sk-hidden--visually {border: 0;clip: rect(1px 1px 1px 1px);clip: rect(1px, 1px, 1px, 1px);height: 1px;margin: -1px;overflow: hidden;padding: 0;position: absolute;width: 1px;}#sk-container-id-1 div.sk-estimator {font-family: monospace;background-color: #f0f8ff;border: 1px dotted black;border-radius: 0.25em;box-sizing: border-box;margin-bottom: 0.5em;}#sk-container-id-1 div.sk-estimator:hover {background-color: #d4ebff;}#sk-container-id-1 div.sk-parallel-item::after {content: \"\";width: 100%;border-bottom: 1px solid gray;flex-grow: 1;}#sk-container-id-1 div.sk-label:hover label.sk-toggleable__label {background-color: #d4ebff;}#sk-container-id-1 div.sk-serial::before {content: \"\";position: absolute;border-left: 1px solid gray;box-sizing: border-box;top: 0;bottom: 0;left: 50%;z-index: 0;}#sk-container-id-1 div.sk-serial {display: flex;flex-direction: column;align-items: center;background-color: white;padding-right: 0.2em;padding-left: 0.2em;position: relative;}#sk-container-id-1 div.sk-item {position: relative;z-index: 1;}#sk-container-id-1 div.sk-parallel {display: flex;align-items: stretch;justify-content: center;background-color: white;position: relative;}#sk-container-id-1 div.sk-item::before, #sk-container-id-1 div.sk-parallel-item::before {content: \"\";position: absolute;border-left: 1px solid gray;box-sizing: border-box;top: 0;bottom: 0;left: 50%;z-index: -1;}#sk-container-id-1 div.sk-parallel-item {display: flex;flex-direction: column;z-index: 1;position: relative;background-color: white;}#sk-container-id-1 div.sk-parallel-item:first-child::after {align-self: flex-end;width: 50%;}#sk-container-id-1 div.sk-parallel-item:last-child::after {align-self: flex-start;width: 50%;}#sk-container-id-1 div.sk-parallel-item:only-child::after {width: 0;}#sk-container-id-1 div.sk-dashed-wrapped {border: 1px dashed gray;margin: 0 0.4em 0.5em 0.4em;box-sizing: border-box;padding-bottom: 0.4em;background-color: white;}#sk-container-id-1 div.sk-label label {font-family: monospace;font-weight: bold;display: inline-block;line-height: 1.2em;}#sk-container-id-1 div.sk-label-container {text-align: center;}#sk-container-id-1 div.sk-container {/* jupyter's `normalize.less` sets `[hidden] { display: none; }` but bootstrap.min.css set `[hidden] { display: none !important; }` so we also need the `!important` here to be able to override the default hidden behavior on the sphinx rendered scikit-learn.org. See: https://github.com/scikit-learn/scikit-learn/issues/21755 */display: inline-block !important;position: relative;}#sk-container-id-1 div.sk-text-repr-fallback {display: none;}</style><div id=\"sk-container-id-1\" class=\"sk-top-container\"><div class=\"sk-text-repr-fallback\"><pre>LogisticRegression(random_state=42)</pre><b>In a Jupyter environment, please rerun this cell to show the HTML representation or trust the notebook. <br />On GitHub, the HTML representation is unable to render, please try loading this page with nbviewer.org.</b></div><div class=\"sk-container\" hidden><div class=\"sk-item\"><div class=\"sk-estimator sk-toggleable\"><input class=\"sk-toggleable__control sk-hidden--visually\" id=\"sk-estimator-id-1\" type=\"checkbox\" checked><label for=\"sk-estimator-id-1\" class=\"sk-toggleable__label sk-toggleable__label-arrow\">LogisticRegression</label><div class=\"sk-toggleable__content\"><pre>LogisticRegression(random_state=42)</pre></div></div></div></div></div>"
      ],
      "text/plain": [
       "LogisticRegression(random_state=42)"
      ]
     },
     "execution_count": 11,
     "metadata": {},
     "output_type": "execute_result"
    }
   ],
   "source": [
    "model = LogisticRegression(random_state=42)\n",
    "model.fit(X_train, y_train)"
   ]
  },
  {
   "cell_type": "markdown",
   "id": "c3582d62",
   "metadata": {
    "papermill": {
     "duration": 0.004309,
     "end_time": "2025-05-03T00:49:07.640558",
     "exception": false,
     "start_time": "2025-05-03T00:49:07.636249",
     "status": "completed"
    },
    "tags": []
   },
   "source": [
    "## Model Evaluation\n",
    "This section evaluates the model’s performance using accuracy, log loss (cost function), and a classification report, focusing on the binary cross-entropy loss."
   ]
  },
  {
   "cell_type": "code",
   "execution_count": 12,
   "id": "55597b0a",
   "metadata": {
    "execution": {
     "iopub.execute_input": "2025-05-03T00:49:07.650209Z",
     "iopub.status.busy": "2025-05-03T00:49:07.649982Z",
     "iopub.status.idle": "2025-05-03T00:49:07.654536Z",
     "shell.execute_reply": "2025-05-03T00:49:07.653993Z"
    },
    "papermill": {
     "duration": 0.010696,
     "end_time": "2025-05-03T00:49:07.655627",
     "exception": false,
     "start_time": "2025-05-03T00:49:07.644931",
     "status": "completed"
    },
    "tags": []
   },
   "outputs": [],
   "source": [
    "y_pred = model.predict(X_test)\n",
    "y_pred_proba = model.predict_proba(X_test)[:, 1]  # Olasılıklar için"
   ]
  },
  {
   "cell_type": "code",
   "execution_count": 13,
   "id": "dd890617",
   "metadata": {
    "execution": {
     "iopub.execute_input": "2025-05-03T00:49:07.665995Z",
     "iopub.status.busy": "2025-05-03T00:49:07.665780Z",
     "iopub.status.idle": "2025-05-03T00:49:07.673822Z",
     "shell.execute_reply": "2025-05-03T00:49:07.673351Z"
    },
    "papermill": {
     "duration": 0.014534,
     "end_time": "2025-05-03T00:49:07.674910",
     "exception": false,
     "start_time": "2025-05-03T00:49:07.660376",
     "status": "completed"
    },
    "tags": []
   },
   "outputs": [],
   "source": [
    "accuracy = accuracy_score(y_test, y_pred)\n",
    "logloss = log_loss(y_test, y_pred_proba)"
   ]
  },
  {
   "cell_type": "code",
   "execution_count": 14,
   "id": "9b0c0049",
   "metadata": {
    "execution": {
     "iopub.execute_input": "2025-05-03T00:49:07.685244Z",
     "iopub.status.busy": "2025-05-03T00:49:07.685023Z",
     "iopub.status.idle": "2025-05-03T00:49:07.690788Z",
     "shell.execute_reply": "2025-05-03T00:49:07.690235Z"
    },
    "papermill": {
     "duration": 0.012542,
     "end_time": "2025-05-03T00:49:07.692431",
     "exception": false,
     "start_time": "2025-05-03T00:49:07.679889",
     "status": "completed"
    },
    "tags": []
   },
   "outputs": [
    {
     "data": {
      "text/plain": [
       "0.9"
      ]
     },
     "execution_count": 14,
     "metadata": {},
     "output_type": "execute_result"
    }
   ],
   "source": [
    "accuracy"
   ]
  },
  {
   "cell_type": "code",
   "execution_count": 15,
   "id": "355f674e",
   "metadata": {
    "execution": {
     "iopub.execute_input": "2025-05-03T00:49:07.705065Z",
     "iopub.status.busy": "2025-05-03T00:49:07.703968Z",
     "iopub.status.idle": "2025-05-03T00:49:07.709918Z",
     "shell.execute_reply": "2025-05-03T00:49:07.709430Z"
    },
    "papermill": {
     "duration": 0.012524,
     "end_time": "2025-05-03T00:49:07.711035",
     "exception": false,
     "start_time": "2025-05-03T00:49:07.698511",
     "status": "completed"
    },
    "tags": []
   },
   "outputs": [
    {
     "data": {
      "text/plain": [
       "0.2957827422442472"
      ]
     },
     "execution_count": 15,
     "metadata": {},
     "output_type": "execute_result"
    }
   ],
   "source": [
    "logloss"
   ]
  },
  {
   "cell_type": "code",
   "execution_count": 16,
   "id": "677d8c86",
   "metadata": {
    "execution": {
     "iopub.execute_input": "2025-05-03T00:49:07.722587Z",
     "iopub.status.busy": "2025-05-03T00:49:07.722078Z",
     "iopub.status.idle": "2025-05-03T00:49:07.734164Z",
     "shell.execute_reply": "2025-05-03T00:49:07.733637Z"
    },
    "papermill": {
     "duration": 0.018846,
     "end_time": "2025-05-03T00:49:07.735358",
     "exception": false,
     "start_time": "2025-05-03T00:49:07.716512",
     "status": "completed"
    },
    "tags": []
   },
   "outputs": [
    {
     "data": {
      "text/plain": [
       "'              precision    recall  f1-score   support\\n\\n           0       0.91      0.91      0.91        35\\n           1       0.88      0.88      0.88        25\\n\\n    accuracy                           0.90        60\\n   macro avg       0.90      0.90      0.90        60\\nweighted avg       0.90      0.90      0.90        60\\n'"
      ]
     },
     "execution_count": 16,
     "metadata": {},
     "output_type": "execute_result"
    }
   ],
   "source": [
    "classification_report(y_test, y_pred)"
   ]
  },
  {
   "cell_type": "markdown",
   "id": "2929454d",
   "metadata": {
    "papermill": {
     "duration": 0.003722,
     "end_time": "2025-05-03T00:49:07.744734",
     "exception": false,
     "start_time": "2025-05-03T00:49:07.741012",
     "status": "completed"
    },
    "tags": []
   },
   "source": [
    "## Visualization\n",
    "We visualize the correlation between features and compare actual vs. predicted heart disease outcomes to assess model accuracy."
   ]
  },
  {
   "cell_type": "code",
   "execution_count": 17,
   "id": "0d69c514",
   "metadata": {
    "execution": {
     "iopub.execute_input": "2025-05-03T00:49:07.753682Z",
     "iopub.status.busy": "2025-05-03T00:49:07.753053Z",
     "iopub.status.idle": "2025-05-03T00:49:08.085996Z",
     "shell.execute_reply": "2025-05-03T00:49:08.085310Z"
    },
    "papermill": {
     "duration": 0.338577,
     "end_time": "2025-05-03T00:49:08.087069",
     "exception": false,
     "start_time": "2025-05-03T00:49:07.748492",
     "status": "completed"
    },
    "tags": []
   },
   "outputs": [
    {
     "data": {
      "image/png": "[encoded data removed]",
      "text/plain": [
       "<Figure size 1000x800 with 2 Axes>"
      ]
     },
     "metadata": {},
     "output_type": "display_data"
    }
   ],
   "source": [
    "plt.figure(figsize=(10, 8))\n",
    "sns.heatmap(pd.DataFrame(X_scaled).corr(), annot=False, cmap='coolwarm')\n",
    "plt.title('Correlation Matrix')\n",
    "plt.show()"
   ]
  },
  {
   "cell_type": "code",
   "execution_count": 18,
   "id": "cc266a06",
   "metadata": {
    "execution": {
     "iopub.execute_input": "2025-05-03T00:49:08.096648Z",
     "iopub.status.busy": "2025-05-03T00:49:08.096380Z",
     "iopub.status.idle": "2025-05-03T00:49:08.270193Z",
     "shell.execute_reply": "2025-05-03T00:49:08.269436Z"
    },
    "papermill": {
     "duration": 0.179632,
     "end_time": "2025-05-03T00:49:08.271342",
     "exception": false,
     "start_time": "2025-05-03T00:49:08.091710",
     "status": "completed"
    },
    "tags": []
   },
   "outputs": [
    {
     "data": {
      "image/png": "[encoded data removed]",
      "text/plain": [
       "<Figure size 800x600 with 1 Axes>"
      ]
     },
     "metadata": {},
     "output_type": "display_data"
    }
   ],
   "source": [
    "plt.figure(figsize=(8, 6))\n",
    "plt.scatter(range(len(y_test)), y_test, color='blue', label='Gerçek', alpha=0.5)\n",
    "plt.scatter(range(len(y_pred)), y_pred, color='red', label='Tahmin', alpha=0.5)\n",
    "plt.title('Gerçek vs Tahmin (Kalp Hastalığı)')\n",
    "plt.xlabel('Örnek')\n",
    "plt.ylabel('Sınıf (0: Yok, 1: Var)')\n",
    "plt.legend()\n",
    "plt.show()"
   ]
  },
  {
   "cell_type": "markdown",
   "id": "3a6ac9a5",
   "metadata": {
    "papermill": {
     "duration": 0.004157,
     "end_time": "2025-05-03T00:49:08.284355",
     "exception": false,
     "start_time": "2025-05-03T00:49:08.280198",
     "status": "completed"
    },
    "tags": []
   },
   "source": [
    "## Project Summary: Heart Disease Prediction\n",
    "This project uses logistic regression to predict heart disease based on the Heart Disease UCI dataset. Key steps included:\n",
    "- **Data Preprocessing**: Cleaned data and prepared features.\n",
    "- **Model Training**: Built a logistic regression model with scikit-learn.\n",
    "- **Evaluation**: Measured performance with accuracy and log loss.\n",
    "- **Findings**: The model effectively predicts heart disease, with log loss indicating good fit."
   ]
  }
 ],
 "metadata": {
  "kaggle": {
   "accelerator": "none",
   "dataSources": [
    {
     "datasetId": 888463,
     "sourceId": 1508992,
     "sourceType": "datasetVersion"
    }
   ],
   "dockerImageVersionId": 31012,
   "isGpuEnabled": false,
   "isInternetEnabled": true,
   "language": "python",
   "sourceType": "notebook"
  },
  "kernelspec": {
   "display_name": "Python 3",
   "language": "python",
   "name": "python3"
  },
  "language_info": {
   "codemirror_mode": {
    "name": "ipython",
    "version": 3
   },
   "file_extension": ".py",
   "mimetype": "text/x-python",
   "name": "python",
   "nbconvert_exporter": "python",
   "pygments_lexer": "ipython3",
   "version": "3.11.11"
  },
  "papermill": {
   "default_parameters": {},
   "duration": 8.505056,
   "end_time": "2025-05-03T00:49:08.906508",
   "environment_variables": {},
   "exception": null,
   "input_path": "__notebook__.ipynb",
   "output_path": "__notebook__.ipynb",
   "parameters": {},
   "start_time": "2025-05-03T00:49:00.401452",
   "version": "2.6.0"
  }
 },
 "nbformat": 4,
 "nbformat_minor": 5
}
