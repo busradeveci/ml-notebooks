{
 "cells": [
  {
   "cell_type": "markdown",
   "id": "8feb908b",
   "metadata": {
    "papermill": {
     "duration": 0.005034,
     "end_time": "2025-04-28T07:04:10.848720",
     "exception": false,
     "start_time": "2025-04-28T07:04:10.843686",
     "status": "completed"
    },
    "tags": []
   },
   "source": [
    "# Netflix Movies and TV Shows Analysis \n",
    "\n",
    "In this project, we will explore the Netflix dataset to understand trends, content distribution, and some interesting patterns.\n",
    "\n",
    "**Main Steps:**\n",
    "- Load and inspect the data\n",
    "- Clean and preprocess the data\n",
    "- Perform exploratory data analysis (EDA)\n",
    "- Visualize insights"
   ]
  },
  {
   "cell_type": "code",
   "execution_count": 1,
   "id": "201746a7",
   "metadata": {
    "execution": {
     "iopub.execute_input": "2025-04-28T07:04:10.859110Z",
     "iopub.status.busy": "2025-04-28T07:04:10.858780Z",
     "iopub.status.idle": "2025-04-28T07:04:12.622316Z",
     "shell.execute_reply": "2025-04-28T07:04:12.621362Z"
    },
    "papermill": {
     "duration": 1.770423,
     "end_time": "2025-04-28T07:04:12.624077",
     "exception": false,
     "start_time": "2025-04-28T07:04:10.853654",
     "status": "completed"
    },
    "tags": []
   },
   "outputs": [],
   "source": [
    "import pandas as pd"
   ]
  },
  {
   "cell_type": "code",
   "execution_count": 2,
   "id": "ead52ecb",
   "metadata": {
    "execution": {
     "iopub.execute_input": "2025-04-28T07:04:12.634758Z",
     "iopub.status.busy": "2025-04-28T07:04:12.633751Z",
     "iopub.status.idle": "2025-04-28T07:04:12.760205Z",
     "shell.execute_reply": "2025-04-28T07:04:12.759477Z"
    },
    "papermill": {
     "duration": 0.133179,
     "end_time": "2025-04-28T07:04:12.761794",
     "exception": false,
     "start_time": "2025-04-28T07:04:12.628615",
     "status": "completed"
    },
    "tags": []
   },
   "outputs": [],
   "source": [
    "df=pd.read_csv('/kaggle/input/netflix-shows/netflix_titles.csv')"
   ]
  },
  {
   "cell_type": "code",
   "execution_count": 3,
   "id": "d5ff03f6",
   "metadata": {
    "execution": {
     "iopub.execute_input": "2025-04-28T07:04:12.771909Z",
     "iopub.status.busy": "2025-04-28T07:04:12.771343Z",
     "iopub.status.idle": "2025-04-28T07:04:12.797488Z",
     "shell.execute_reply": "2025-04-28T07:04:12.796643Z"
    },
    "papermill": {
     "duration": 0.032704,
     "end_time": "2025-04-28T07:04:12.798969",
     "exception": false,
     "start_time": "2025-04-28T07:04:12.766265",
     "status": "completed"
    },
    "tags": []
   },
   "outputs": [
    {
     "data": {
      "text/html": [
       "<div>\n",
       "<style scoped>\n",
       "    .dataframe tbody tr th:only-of-type {\n",
       "        vertical-align: middle;\n",
       "    }\n",
       "\n",
       "    .dataframe tbody tr th {\n",
       "        vertical-align: top;\n",
       "    }\n",
       "\n",
       "    .dataframe thead th {\n",
       "        text-align: right;\n",
       "    }\n",
       "</style>\n",
       "<table border=\"1\" class=\"dataframe\">\n",
       "  <thead>\n",
       "    <tr style=\"text-align: right;\">\n",
       "      <th></th>\n",
       "      <th>show_id</th>\n",
       "      <th>type</th>\n",
       "      <th>title</th>\n",
       "      <th>director</th>\n",
       "      <th>cast</th>\n",
       "      <th>country</th>\n",
       "      <th>date_added</th>\n",
       "      <th>release_year</th>\n",
       "      <th>rating</th>\n",
       "      <th>duration</th>\n",
       "      <th>listed_in</th>\n",
       "      <th>description</th>\n",
       "    </tr>\n",
       "  </thead>\n",
       "  <tbody>\n",
       "    <tr>\n",
       "      <th>0</th>\n",
       "      <td>s1</td>\n",
       "      <td>Movie</td>\n",
       "      <td>Dick Johnson Is Dead</td>\n",
       "      <td>Kirsten Johnson</td>\n",
       "      <td>NaN</td>\n",
       "      <td>United States</td>\n",
       "      <td>September 25, 2021</td>\n",
       "      <td>2020</td>\n",
       "      <td>PG-13</td>\n",
       "      <td>90 min</td>\n",
       "      <td>Documentaries</td>\n",
       "      <td>As her father nears the end of his life, filmm...</td>\n",
       "    </tr>\n",
       "    <tr>\n",
       "      <th>1</th>\n",
       "      <td>s2</td>\n",
       "      <td>TV Show</td>\n",
       "      <td>Blood &amp; Water</td>\n",
       "      <td>NaN</td>\n",
       "      <td>Ama Qamata, Khosi Ngema, Gail Mabalane, Thaban...</td>\n",
       "      <td>South Africa</td>\n",
       "      <td>September 24, 2021</td>\n",
       "      <td>2021</td>\n",
       "      <td>TV-MA</td>\n",
       "      <td>2 Seasons</td>\n",
       "      <td>International TV Shows, TV Dramas, TV Mysteries</td>\n",
       "      <td>After crossing paths at a party, a Cape Town t...</td>\n",
       "    </tr>\n",
       "    <tr>\n",
       "      <th>2</th>\n",
       "      <td>s3</td>\n",
       "      <td>TV Show</td>\n",
       "      <td>Ganglands</td>\n",
       "      <td>Julien Leclercq</td>\n",
       "      <td>Sami Bouajila, Tracy Gotoas, Samuel Jouy, Nabi...</td>\n",
       "      <td>NaN</td>\n",
       "      <td>September 24, 2021</td>\n",
       "      <td>2021</td>\n",
       "      <td>TV-MA</td>\n",
       "      <td>1 Season</td>\n",
       "      <td>Crime TV Shows, International TV Shows, TV Act...</td>\n",
       "      <td>To protect his family from a powerful drug lor...</td>\n",
       "    </tr>\n",
       "    <tr>\n",
       "      <th>3</th>\n",
       "      <td>s4</td>\n",
       "      <td>TV Show</td>\n",
       "      <td>Jailbirds New Orleans</td>\n",
       "      <td>NaN</td>\n",
       "      <td>NaN</td>\n",
       "      <td>NaN</td>\n",
       "      <td>September 24, 2021</td>\n",
       "      <td>2021</td>\n",
       "      <td>TV-MA</td>\n",
       "      <td>1 Season</td>\n",
       "      <td>Docuseries, Reality TV</td>\n",
       "      <td>Feuds, flirtations and toilet talk go down amo...</td>\n",
       "    </tr>\n",
       "    <tr>\n",
       "      <th>4</th>\n",
       "      <td>s5</td>\n",
       "      <td>TV Show</td>\n",
       "      <td>Kota Factory</td>\n",
       "      <td>NaN</td>\n",
       "      <td>Mayur More, Jitendra Kumar, Ranjan Raj, Alam K...</td>\n",
       "      <td>India</td>\n",
       "      <td>September 24, 2021</td>\n",
       "      <td>2021</td>\n",
       "      <td>TV-MA</td>\n",
       "      <td>2 Seasons</td>\n",
       "      <td>International TV Shows, Romantic TV Shows, TV ...</td>\n",
       "      <td>In a city of coaching centers known to train I...</td>\n",
       "    </tr>\n",
       "  </tbody>\n",
       "</table>\n",
       "</div>"
      ],
      "text/plain": [
       "  show_id     type                  title         director  \\\n",
       "0      s1    Movie   Dick Johnson Is Dead  Kirsten Johnson   \n",
       "1      s2  TV Show          Blood & Water              NaN   \n",
       "2      s3  TV Show              Ganglands  Julien Leclercq   \n",
       "3      s4  TV Show  Jailbirds New Orleans              NaN   \n",
       "4      s5  TV Show           Kota Factory              NaN   \n",
       "\n",
       "                                                cast        country  \\\n",
       "0                                                NaN  United States   \n",
       "1  Ama Qamata, Khosi Ngema, Gail Mabalane, Thaban...   South Africa   \n",
       "2  Sami Bouajila, Tracy Gotoas, Samuel Jouy, Nabi...            NaN   \n",
       "3                                                NaN            NaN   \n",
       "4  Mayur More, Jitendra Kumar, Ranjan Raj, Alam K...          India   \n",
       "\n",
       "           date_added  release_year rating   duration  \\\n",
       "0  September 25, 2021          2020  PG-13     90 min   \n",
       "1  September 24, 2021          2021  TV-MA  2 Seasons   \n",
       "2  September 24, 2021          2021  TV-MA   1 Season   \n",
       "3  September 24, 2021          2021  TV-MA   1 Season   \n",
       "4  September 24, 2021          2021  TV-MA  2 Seasons   \n",
       "\n",
       "                                           listed_in  \\\n",
       "0                                      Documentaries   \n",
       "1    International TV Shows, TV Dramas, TV Mysteries   \n",
       "2  Crime TV Shows, International TV Shows, TV Act...   \n",
       "3                             Docuseries, Reality TV   \n",
       "4  International TV Shows, Romantic TV Shows, TV ...   \n",
       "\n",
       "                                         description  \n",
       "0  As her father nears the end of his life, filmm...  \n",
       "1  After crossing paths at a party, a Cape Town t...  \n",
       "2  To protect his family from a powerful drug lor...  \n",
       "3  Feuds, flirtations and toilet talk go down amo...  \n",
       "4  In a city of coaching centers known to train I...  "
      ]
     },
     "execution_count": 3,
     "metadata": {},
     "output_type": "execute_result"
    }
   ],
   "source": [
    "df.head()"
   ]
  },
  {
   "cell_type": "markdown",
   "id": "9660d620",
   "metadata": {
    "papermill": {
     "duration": 0.004133,
     "end_time": "2025-04-28T07:04:12.807878",
     "exception": false,
     "start_time": "2025-04-28T07:04:12.803745",
     "status": "completed"
    },
    "tags": []
   },
   "source": [
    "# 1. Dataset Overview\n",
    "\n",
    "Let's inspect the general information about the dataset:\n",
    "- Number of rows and columns\n",
    "- Data types\n",
    "- Missing values"
   ]
  },
  {
   "cell_type": "code",
   "execution_count": 4,
   "id": "201187b6",
   "metadata": {
    "execution": {
     "iopub.execute_input": "2025-04-28T07:04:12.818009Z",
     "iopub.status.busy": "2025-04-28T07:04:12.817444Z",
     "iopub.status.idle": "2025-04-28T07:04:12.822918Z",
     "shell.execute_reply": "2025-04-28T07:04:12.822136Z"
    },
    "papermill": {
     "duration": 0.012244,
     "end_time": "2025-04-28T07:04:12.824383",
     "exception": false,
     "start_time": "2025-04-28T07:04:12.812139",
     "status": "completed"
    },
    "tags": []
   },
   "outputs": [
    {
     "data": {
      "text/plain": [
       "(8807, 12)"
      ]
     },
     "execution_count": 4,
     "metadata": {},
     "output_type": "execute_result"
    }
   ],
   "source": [
    "df.shape"
   ]
  },
  {
   "cell_type": "code",
   "execution_count": 5,
   "id": "657635c4",
   "metadata": {
    "execution": {
     "iopub.execute_input": "2025-04-28T07:04:12.834866Z",
     "iopub.status.busy": "2025-04-28T07:04:12.834579Z",
     "iopub.status.idle": "2025-04-28T07:04:12.867088Z",
     "shell.execute_reply": "2025-04-28T07:04:12.865969Z"
    },
    "papermill": {
     "duration": 0.039484,
     "end_time": "2025-04-28T07:04:12.868560",
     "exception": false,
     "start_time": "2025-04-28T07:04:12.829076",
     "status": "completed"
    },
    "tags": []
   },
   "outputs": [
    {
     "name": "stdout",
     "output_type": "stream",
     "text": [
      "<class 'pandas.core.frame.DataFrame'>\n",
      "RangeIndex: 8807 entries, 0 to 8806\n",
      "Data columns (total 12 columns):\n",
      " #   Column        Non-Null Count  Dtype \n",
      "---  ------        --------------  ----- \n",
      " 0   show_id       8807 non-null   object\n",
      " 1   type          8807 non-null   object\n",
      " 2   title         8807 non-null   object\n",
      " 3   director      6173 non-null   object\n",
      " 4   cast          7982 non-null   object\n",
      " 5   country       7976 non-null   object\n",
      " 6   date_added    8797 non-null   object\n",
      " 7   release_year  8807 non-null   int64 \n",
      " 8   rating        8803 non-null   object\n",
      " 9   duration      8804 non-null   object\n",
      " 10  listed_in     8807 non-null   object\n",
      " 11  description   8807 non-null   object\n",
      "dtypes: int64(1), object(11)\n",
      "memory usage: 825.8+ KB\n"
     ]
    }
   ],
   "source": [
    "df.info()"
   ]
  },
  {
   "cell_type": "code",
   "execution_count": 6,
   "id": "e47b4051",
   "metadata": {
    "execution": {
     "iopub.execute_input": "2025-04-28T07:04:12.879050Z",
     "iopub.status.busy": "2025-04-28T07:04:12.878760Z",
     "iopub.status.idle": "2025-04-28T07:04:12.891234Z",
     "shell.execute_reply": "2025-04-28T07:04:12.890515Z"
    },
    "papermill": {
     "duration": 0.019223,
     "end_time": "2025-04-28T07:04:12.892521",
     "exception": false,
     "start_time": "2025-04-28T07:04:12.873298",
     "status": "completed"
    },
    "tags": []
   },
   "outputs": [
    {
     "data": {
      "text/plain": [
       "show_id            0\n",
       "type               0\n",
       "title              0\n",
       "director        2634\n",
       "cast             825\n",
       "country          831\n",
       "date_added        10\n",
       "release_year       0\n",
       "rating             4\n",
       "duration           3\n",
       "listed_in          0\n",
       "description        0\n",
       "dtype: int64"
      ]
     },
     "execution_count": 6,
     "metadata": {},
     "output_type": "execute_result"
    }
   ],
   "source": [
    "df.isnull().sum()"
   ]
  },
  {
   "cell_type": "markdown",
   "id": "363c087a",
   "metadata": {
    "papermill": {
     "duration": 0.004616,
     "end_time": "2025-04-28T07:04:12.901983",
     "exception": false,
     "start_time": "2025-04-28T07:04:12.897367",
     "status": "completed"
    },
    "tags": []
   },
   "source": [
    "# 2. Data Cleaning\n",
    "\n",
    "We will handle missing values:\n",
    "- 'director' and 'cast' columns will be kept as is.\n",
    "- 'country' missing values will be filled with 'Unknown'.\n",
    "- 'date_added' missing values will be filled with 'Unknown'.\n",
    "- Rows with missing 'rating' or 'duration' will be dropped.\n"
   ]
  },
  {
   "cell_type": "code",
   "execution_count": 7,
   "id": "270c439f",
   "metadata": {
    "execution": {
     "iopub.execute_input": "2025-04-28T07:04:12.912891Z",
     "iopub.status.busy": "2025-04-28T07:04:12.912138Z",
     "iopub.status.idle": "2025-04-28T07:04:12.934581Z",
     "shell.execute_reply": "2025-04-28T07:04:12.933618Z"
    },
    "papermill": {
     "duration": 0.029337,
     "end_time": "2025-04-28T07:04:12.935919",
     "exception": false,
     "start_time": "2025-04-28T07:04:12.906582",
     "status": "completed"
    },
    "tags": []
   },
   "outputs": [
    {
     "name": "stderr",
     "output_type": "stream",
     "text": [
      "/tmp/ipykernel_13/3650035059.py:1: FutureWarning: A value is trying to be set on a copy of a DataFrame or Series through chained assignment using an inplace method.\n",
      "The behavior will change in pandas 3.0. This inplace method will never work because the intermediate object on which we are setting values always behaves as a copy.\n",
      "\n",
      "For example, when doing 'df[col].method(value, inplace=True)', try using 'df.method({col: value}, inplace=True)' or df[col] = df[col].method(value) instead, to perform the operation inplace on the original object.\n",
      "\n",
      "\n",
      "  df['country'].fillna('Unknown', inplace=True)\n",
      "/tmp/ipykernel_13/3650035059.py:2: FutureWarning: A value is trying to be set on a copy of a DataFrame or Series through chained assignment using an inplace method.\n",
      "The behavior will change in pandas 3.0. This inplace method will never work because the intermediate object on which we are setting values always behaves as a copy.\n",
      "\n",
      "For example, when doing 'df[col].method(value, inplace=True)', try using 'df.method({col: value}, inplace=True)' or df[col] = df[col].method(value) instead, to perform the operation inplace on the original object.\n",
      "\n",
      "\n",
      "  df['date_added'].fillna('Unknown', inplace=True)\n"
     ]
    },
    {
     "data": {
      "text/plain": [
       "show_id            0\n",
       "type               0\n",
       "title              0\n",
       "director        2631\n",
       "cast             825\n",
       "country            0\n",
       "date_added         0\n",
       "release_year       0\n",
       "rating             0\n",
       "duration           0\n",
       "listed_in          0\n",
       "description        0\n",
       "dtype: int64"
      ]
     },
     "execution_count": 7,
     "metadata": {},
     "output_type": "execute_result"
    }
   ],
   "source": [
    "df['country'].fillna('Unknown', inplace=True)\n",
    "df['date_added'].fillna('Unknown', inplace=True)\n",
    "df.dropna(subset=['rating', 'duration'], inplace=True)\n",
    "df.isnull().sum()"
   ]
  },
  {
   "cell_type": "markdown",
   "id": "7431979f",
   "metadata": {
    "papermill": {
     "duration": 0.004564,
     "end_time": "2025-04-28T07:04:12.945350",
     "exception": false,
     "start_time": "2025-04-28T07:04:12.940786",
     "status": "completed"
    },
    "tags": []
   },
   "source": [
    "# 3. Data Formatting\n",
    "\n",
    "- Converted 'date_added' column to datetime format\n",
    "- Separated Movies and TV Shows for better analysis\n",
    "- Extracted duration in minutes for Movies\n",
    "- Extracted number of seasons for TV Shows"
   ]
  },
  {
   "cell_type": "code",
   "execution_count": 8,
   "id": "7bc8a6c3",
   "metadata": {
    "execution": {
     "iopub.execute_input": "2025-04-28T07:04:12.955758Z",
     "iopub.status.busy": "2025-04-28T07:04:12.955475Z",
     "iopub.status.idle": "2025-04-28T07:04:12.970955Z",
     "shell.execute_reply": "2025-04-28T07:04:12.970296Z"
    },
    "papermill": {
     "duration": 0.022379,
     "end_time": "2025-04-28T07:04:12.972330",
     "exception": false,
     "start_time": "2025-04-28T07:04:12.949951",
     "status": "completed"
    },
    "tags": []
   },
   "outputs": [],
   "source": [
    "df['date_added']=pd.to_datetime(df['date_added'], errors='coerce')"
   ]
  },
  {
   "cell_type": "code",
   "execution_count": 9,
   "id": "1ca23e47",
   "metadata": {
    "execution": {
     "iopub.execute_input": "2025-04-28T07:04:12.983732Z",
     "iopub.status.busy": "2025-04-28T07:04:12.983143Z",
     "iopub.status.idle": "2025-04-28T07:04:12.994437Z",
     "shell.execute_reply": "2025-04-28T07:04:12.993763Z"
    },
    "papermill": {
     "duration": 0.018524,
     "end_time": "2025-04-28T07:04:12.995792",
     "exception": false,
     "start_time": "2025-04-28T07:04:12.977268",
     "status": "completed"
    },
    "tags": []
   },
   "outputs": [],
   "source": [
    "movies=df[df['type']=='Movie'].copy()\n",
    "tv_shows=df[df['type']=='TV Show'].copy()"
   ]
  },
  {
   "cell_type": "code",
   "execution_count": 10,
   "id": "cb87393c",
   "metadata": {
    "execution": {
     "iopub.execute_input": "2025-04-28T07:04:13.006810Z",
     "iopub.status.busy": "2025-04-28T07:04:13.006105Z",
     "iopub.status.idle": "2025-04-28T07:04:13.020293Z",
     "shell.execute_reply": "2025-04-28T07:04:13.019578Z"
    },
    "papermill": {
     "duration": 0.020888,
     "end_time": "2025-04-28T07:04:13.021527",
     "exception": false,
     "start_time": "2025-04-28T07:04:13.000639",
     "status": "completed"
    },
    "tags": []
   },
   "outputs": [],
   "source": [
    "movies['duration_minutes'] = movies['duration'].str.extract('(\\d+)').astype(float)"
   ]
  },
  {
   "cell_type": "code",
   "execution_count": 11,
   "id": "c2af50e3",
   "metadata": {
    "execution": {
     "iopub.execute_input": "2025-04-28T07:04:13.033120Z",
     "iopub.status.busy": "2025-04-28T07:04:13.032241Z",
     "iopub.status.idle": "2025-04-28T07:04:13.106815Z",
     "shell.execute_reply": "2025-04-28T07:04:13.106095Z"
    },
    "papermill": {
     "duration": 0.081764,
     "end_time": "2025-04-28T07:04:13.108180",
     "exception": false,
     "start_time": "2025-04-28T07:04:13.026416",
     "status": "completed"
    },
    "tags": []
   },
   "outputs": [],
   "source": [
    "tv_shows['duration_seasons'] = tv_shows['duration'].str.extract('(\\d+)').astype(float)"
   ]
  },
  {
   "cell_type": "code",
   "execution_count": 12,
   "id": "e0458727",
   "metadata": {
    "execution": {
     "iopub.execute_input": "2025-04-28T07:04:13.118948Z",
     "iopub.status.busy": "2025-04-28T07:04:13.118690Z",
     "iopub.status.idle": "2025-04-28T07:04:13.132299Z",
     "shell.execute_reply": "2025-04-28T07:04:13.131584Z"
    },
    "papermill": {
     "duration": 0.020521,
     "end_time": "2025-04-28T07:04:13.133609",
     "exception": false,
     "start_time": "2025-04-28T07:04:13.113088",
     "status": "completed"
    },
    "tags": []
   },
   "outputs": [
    {
     "data": {
      "text/plain": [
       "(   show_id   type                             title  \\\n",
       " 0       s1  Movie              Dick Johnson Is Dead   \n",
       " 6       s7  Movie  My Little Pony: A New Generation   \n",
       " 7       s8  Movie                           Sankofa   \n",
       " 9      s10  Movie                      The Starling   \n",
       " 12     s13  Movie                      Je Suis Karl   \n",
       " \n",
       "                          director  \\\n",
       " 0                 Kirsten Johnson   \n",
       " 6   Robert Cullen, José Luis Ucha   \n",
       " 7                    Haile Gerima   \n",
       " 9                  Theodore Melfi   \n",
       " 12            Christian Schwochow   \n",
       " \n",
       "                                                  cast  \\\n",
       " 0                                                 NaN   \n",
       " 6   Vanessa Hudgens, Kimiko Glenn, James Marsden, ...   \n",
       " 7   Kofi Ghanaba, Oyafunmike Ogunlano, Alexandra D...   \n",
       " 9   Melissa McCarthy, Chris O'Dowd, Kevin Kline, T...   \n",
       " 12  Luna Wedler, Jannis Niewöhner, Milan Peschel, ...   \n",
       " \n",
       "                                               country date_added  \\\n",
       " 0                                       United States 2021-09-25   \n",
       " 6                                             Unknown 2021-09-24   \n",
       " 7   United States, Ghana, Burkina Faso, United Kin... 2021-09-24   \n",
       " 9                                       United States 2021-09-24   \n",
       " 12                            Germany, Czech Republic 2021-09-23   \n",
       " \n",
       "     release_year rating duration  \\\n",
       " 0           2020  PG-13   90 min   \n",
       " 6           2021     PG   91 min   \n",
       " 7           1993  TV-MA  125 min   \n",
       " 9           2021  PG-13  104 min   \n",
       " 12          2021  TV-MA  127 min   \n",
       " \n",
       "                                            listed_in  \\\n",
       " 0                                      Documentaries   \n",
       " 6                           Children & Family Movies   \n",
       " 7   Dramas, Independent Movies, International Movies   \n",
       " 9                                   Comedies, Dramas   \n",
       " 12                      Dramas, International Movies   \n",
       " \n",
       "                                           description  duration_minutes  \n",
       " 0   As her father nears the end of his life, filmm...              90.0  \n",
       " 6   Equestria's divided. But a bright-eyed hero be...              91.0  \n",
       " 7   On a photo shoot in Ghana, an American model s...             125.0  \n",
       " 9   A woman adjusting to life after a loss contend...             104.0  \n",
       " 12  After most of her family is murdered in a terr...             127.0  ,\n",
       "   show_id     type                  title         director  \\\n",
       " 1      s2  TV Show          Blood & Water              NaN   \n",
       " 2      s3  TV Show              Ganglands  Julien Leclercq   \n",
       " 3      s4  TV Show  Jailbirds New Orleans              NaN   \n",
       " 4      s5  TV Show           Kota Factory              NaN   \n",
       " 5      s6  TV Show          Midnight Mass    Mike Flanagan   \n",
       " \n",
       "                                                 cast       country date_added  \\\n",
       " 1  Ama Qamata, Khosi Ngema, Gail Mabalane, Thaban...  South Africa 2021-09-24   \n",
       " 2  Sami Bouajila, Tracy Gotoas, Samuel Jouy, Nabi...       Unknown 2021-09-24   \n",
       " 3                                                NaN       Unknown 2021-09-24   \n",
       " 4  Mayur More, Jitendra Kumar, Ranjan Raj, Alam K...         India 2021-09-24   \n",
       " 5  Kate Siegel, Zach Gilford, Hamish Linklater, H...       Unknown 2021-09-24   \n",
       " \n",
       "    release_year rating   duration  \\\n",
       " 1          2021  TV-MA  2 Seasons   \n",
       " 2          2021  TV-MA   1 Season   \n",
       " 3          2021  TV-MA   1 Season   \n",
       " 4          2021  TV-MA  2 Seasons   \n",
       " 5          2021  TV-MA   1 Season   \n",
       " \n",
       "                                            listed_in  \\\n",
       " 1    International TV Shows, TV Dramas, TV Mysteries   \n",
       " 2  Crime TV Shows, International TV Shows, TV Act...   \n",
       " 3                             Docuseries, Reality TV   \n",
       " 4  International TV Shows, Romantic TV Shows, TV ...   \n",
       " 5                 TV Dramas, TV Horror, TV Mysteries   \n",
       " \n",
       "                                          description  duration_seasons  \n",
       " 1  After crossing paths at a party, a Cape Town t...               2.0  \n",
       " 2  To protect his family from a powerful drug lor...               1.0  \n",
       " 3  Feuds, flirtations and toilet talk go down amo...               1.0  \n",
       " 4  In a city of coaching centers known to train I...               2.0  \n",
       " 5  The arrival of a charismatic young priest brin...               1.0  )"
      ]
     },
     "execution_count": 12,
     "metadata": {},
     "output_type": "execute_result"
    }
   ],
   "source": [
    "movies.head(), tv_shows.head()"
   ]
  },
  {
   "cell_type": "markdown",
   "id": "543fcf76",
   "metadata": {
    "papermill": {
     "duration": 0.004904,
     "end_time": "2025-04-28T07:04:13.143730",
     "exception": false,
     "start_time": "2025-04-28T07:04:13.138826",
     "status": "completed"
    },
    "tags": []
   },
   "source": [
    "# 4. EDA - Exploratory Data Analysis\n",
    "\n",
    "- Number of Movies vs TV Shows\n",
    "- Top 10 Countries by Content Production\n",
    "- Content added over the Years\n",
    "- Rating Distribution"
   ]
  },
  {
   "cell_type": "code",
   "execution_count": 13,
   "id": "8c44c6c4",
   "metadata": {
    "execution": {
     "iopub.execute_input": "2025-04-28T07:04:13.155105Z",
     "iopub.status.busy": "2025-04-28T07:04:13.154766Z",
     "iopub.status.idle": "2025-04-28T07:04:14.963924Z",
     "shell.execute_reply": "2025-04-28T07:04:14.963063Z"
    },
    "papermill": {
     "duration": 1.816804,
     "end_time": "2025-04-28T07:04:14.965593",
     "exception": false,
     "start_time": "2025-04-28T07:04:13.148789",
     "status": "completed"
    },
    "tags": []
   },
   "outputs": [],
   "source": [
    "import matplotlib.pyplot as plt\n",
    "import seaborn as sns"
   ]
  },
  {
   "cell_type": "code",
   "execution_count": 14,
   "id": "af0eeaaf",
   "metadata": {
    "execution": {
     "iopub.execute_input": "2025-04-28T07:04:14.977254Z",
     "iopub.status.busy": "2025-04-28T07:04:14.976820Z",
     "iopub.status.idle": "2025-04-28T07:04:15.001315Z",
     "shell.execute_reply": "2025-04-28T07:04:15.000468Z"
    },
    "papermill": {
     "duration": 0.032367,
     "end_time": "2025-04-28T07:04:15.003185",
     "exception": false,
     "start_time": "2025-04-28T07:04:14.970818",
     "status": "completed"
    },
    "tags": []
   },
   "outputs": [
    {
     "data": {
      "text/plain": [
       "<Figure size 1200x600 with 0 Axes>"
      ]
     },
     "execution_count": 14,
     "metadata": {},
     "output_type": "execute_result"
    },
    {
     "data": {
      "text/plain": [
       "<Figure size 1200x600 with 0 Axes>"
      ]
     },
     "metadata": {},
     "output_type": "display_data"
    }
   ],
   "source": [
    "sns.set(style=\"whitegrid\")\n",
    "plt.figure(figsize=(12,6))"
   ]
  },
  {
   "cell_type": "code",
   "execution_count": 15,
   "id": "fce8d1a6",
   "metadata": {
    "execution": {
     "iopub.execute_input": "2025-04-28T07:04:15.014708Z",
     "iopub.status.busy": "2025-04-28T07:04:15.014424Z",
     "iopub.status.idle": "2025-04-28T07:04:15.237739Z",
     "shell.execute_reply": "2025-04-28T07:04:15.236901Z"
    },
    "papermill": {
     "duration": 0.230712,
     "end_time": "2025-04-28T07:04:15.239177",
     "exception": false,
     "start_time": "2025-04-28T07:04:15.008465",
     "status": "completed"
    },
    "tags": []
   },
   "outputs": [
    {
     "data": {
      "image/png": "[encoded data removed]",
      "text/plain": [
       "<Figure size 640x480 with 1 Axes>"
      ]
     },
     "metadata": {},
     "output_type": "display_data"
    }
   ],
   "source": [
    "sns.countplot(data=df, x='type',palette=['#FF6347', '#4682B4'])\n",
    "plt.title('Number of Movies vs TV Shows', fontsize=16)\n",
    "plt.xlabel('Type')\n",
    "plt.ylabel('Count')\n",
    "plt.show()"
   ]
  },
  {
   "cell_type": "markdown",
   "id": "0c6d3274",
   "metadata": {
    "papermill": {
     "duration": 0.005437,
     "end_time": "2025-04-28T07:04:15.250513",
     "exception": false,
     "start_time": "2025-04-28T07:04:15.245076",
     "status": "completed"
    },
    "tags": []
   },
   "source": [
    "**Type distribution**"
   ]
  },
  {
   "cell_type": "code",
   "execution_count": 16,
   "id": "b0be7191",
   "metadata": {
    "execution": {
     "iopub.execute_input": "2025-04-28T07:04:15.263355Z",
     "iopub.status.busy": "2025-04-28T07:04:15.262593Z",
     "iopub.status.idle": "2025-04-28T07:04:15.572770Z",
     "shell.execute_reply": "2025-04-28T07:04:15.571911Z"
    },
    "papermill": {
     "duration": 0.31829,
     "end_time": "2025-04-28T07:04:15.574413",
     "exception": false,
     "start_time": "2025-04-28T07:04:15.256123",
     "status": "completed"
    },
    "tags": []
   },
   "outputs": [
    {
     "data": {
      "image/png": "[encoded data removed]",
      "text/plain": [
       "<Figure size 1200x600 with 1 Axes>"
      ]
     },
     "metadata": {},
     "output_type": "display_data"
    }
   ],
   "source": [
    "plt.figure(figsize=(12,6))\n",
    "df['country'].value_counts().head(10).plot(kind='barh', color='pink')\n",
    "plt.title('Top 10 Countries by Content Production', fontsize=16)\n",
    "plt.xlabel('Count')\n",
    "plt.ylabel('Country')\n",
    "plt.show()"
   ]
  },
  {
   "cell_type": "markdown",
   "id": "b7f4d47c",
   "metadata": {
    "papermill": {
     "duration": 0.006054,
     "end_time": "2025-04-28T07:04:15.587205",
     "exception": false,
     "start_time": "2025-04-28T07:04:15.581151",
     "status": "completed"
    },
    "tags": []
   },
   "source": [
    "**Top content creators by country**"
   ]
  },
  {
   "cell_type": "code",
   "execution_count": 17,
   "id": "117a80d6",
   "metadata": {
    "execution": {
     "iopub.execute_input": "2025-04-28T07:04:15.601465Z",
     "iopub.status.busy": "2025-04-28T07:04:15.600672Z",
     "iopub.status.idle": "2025-04-28T07:04:15.869279Z",
     "shell.execute_reply": "2025-04-28T07:04:15.868451Z"
    },
    "papermill": {
     "duration": 0.277754,
     "end_time": "2025-04-28T07:04:15.871295",
     "exception": false,
     "start_time": "2025-04-28T07:04:15.593541",
     "status": "completed"
    },
    "tags": []
   },
   "outputs": [
    {
     "data": {
      "image/png": "[encoded data removed]",
      "text/plain": [
       "<Figure size 1400x700 with 1 Axes>"
      ]
     },
     "metadata": {},
     "output_type": "display_data"
    }
   ],
   "source": [
    "plt.figure(figsize=(14,7))\n",
    "df['release_year'].value_counts().sort_index().plot(kind='line', marker='o', color='black')\n",
    "plt.title('Content Release Over the Years', fontsize=16)\n",
    "plt.xlabel('Release Year')\n",
    "plt.ylabel('Number of Contents')\n",
    "plt.grid(True)\n",
    "plt.show()"
   ]
  },
  {
   "cell_type": "markdown",
   "id": "15c06a3c",
   "metadata": {
    "papermill": {
     "duration": 0.006922,
     "end_time": "2025-04-28T07:04:15.885706",
     "exception": false,
     "start_time": "2025-04-28T07:04:15.878784",
     "status": "completed"
    },
    "tags": []
   },
   "source": [
    "**Distribution of content by year**"
   ]
  },
  {
   "cell_type": "code",
   "execution_count": 18,
   "id": "fcab712b",
   "metadata": {
    "execution": {
     "iopub.execute_input": "2025-04-28T07:04:15.901402Z",
     "iopub.status.busy": "2025-04-28T07:04:15.900759Z",
     "iopub.status.idle": "2025-04-28T07:04:16.145800Z",
     "shell.execute_reply": "2025-04-28T07:04:16.144974Z"
    },
    "papermill": {
     "duration": 0.254198,
     "end_time": "2025-04-28T07:04:16.147135",
     "exception": false,
     "start_time": "2025-04-28T07:04:15.892937",
     "status": "completed"
    },
    "tags": []
   },
   "outputs": [
    {
     "data": {
      "image/png": "[encoded data removed]",
      "text/plain": [
       "<Figure size 1200x600 with 1 Axes>"
      ]
     },
     "metadata": {},
     "output_type": "display_data"
    }
   ],
   "source": [
    "plt.figure(figsize=(12,6))\n",
    "df['rating'].value_counts().head(10).plot(kind='bar', color='lightgreen')\n",
    "plt.title('Top Ratings Distribution', fontsize=16)\n",
    "plt.xlabel('Rating')\n",
    "plt.ylabel('Count')\n",
    "plt.xticks(rotation=45)\n",
    "plt.show()"
   ]
  },
  {
   "cell_type": "markdown",
   "id": "0e73b8ba",
   "metadata": {
    "papermill": {
     "duration": 0.007539,
     "end_time": "2025-04-28T07:04:16.162546",
     "exception": false,
     "start_time": "2025-04-28T07:04:16.155007",
     "status": "completed"
    },
    "tags": []
   },
   "source": [
    "**Rating distribution**"
   ]
  },
  {
   "cell_type": "markdown",
   "id": "a528887a",
   "metadata": {
    "papermill": {
     "duration": 0.007513,
     "end_time": "2025-04-28T07:04:16.177637",
     "exception": false,
     "start_time": "2025-04-28T07:04:16.170124",
     "status": "completed"
    },
    "tags": []
   },
   "source": [
    "<p style=\"font-size:18px;\">Conclusion\n",
    "In this project, we have explored and analyzed the Netflix dataset using various data cleaning and visualization techniques. We successfully handled missing data, transformed columns, and created new features to improve the dataset's usability. By visualizing the distribution of movies and TV shows, we gained valuable insights into the content available on Netflix.\n",
    "With our cleaned and transformed dataset, we can now proceed to more advanced analysis or build predictive models, such as movie recommendations or content popularity prediction. The possibilities are endless!</p>"
   ]
  }
 ],
 "metadata": {
  "kaggle": {
   "accelerator": "none",
   "dataSources": [
    {
     "datasetId": 434238,
     "sourceId": 2654038,
     "sourceType": "datasetVersion"
    }
   ],
   "dockerImageVersionId": 31012,
   "isGpuEnabled": false,
   "isInternetEnabled": true,
   "language": "python",
   "sourceType": "notebook"
  },
  "kernelspec": {
   "display_name": "Python 3",
   "language": "python",
   "name": "python3"
  },
  "language_info": {
   "codemirror_mode": {
    "name": "ipython",
    "version": 3
   },
   "file_extension": ".py",
   "mimetype": "text/x-python",
   "name": "python",
   "nbconvert_exporter": "python",
   "pygments_lexer": "ipython3",
   "version": "3.11.11"
  },
  "papermill": {
   "default_parameters": {},
   "duration": 10.542222,
   "end_time": "2025-04-28T07:04:16.804924",
   "environment_variables": {},
   "exception": null,
   "input_path": "__notebook__.ipynb",
   "output_path": "__notebook__.ipynb",
   "parameters": {},
   "start_time": "2025-04-28T07:04:06.262702",
   "version": "2.6.0"
  }
 },
 "nbformat": 4,
 "nbformat_minor": 5
}
