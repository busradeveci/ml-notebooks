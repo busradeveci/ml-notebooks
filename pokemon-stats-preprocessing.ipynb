{
 "cells": [
  {
   "cell_type": "code",
   "execution_count": 1,
   "id": "89931811",
   "metadata": {
    "execution": {
     "iopub.execute_input": "2025-06-06T20:06:11.689021Z",
     "iopub.status.busy": "2025-06-06T20:06:11.688545Z",
     "iopub.status.idle": "2025-06-06T20:06:15.697572Z",
     "shell.execute_reply": "2025-06-06T20:06:15.696409Z"
    },
    "papermill": {
     "duration": 4.019559,
     "end_time": "2025-06-06T20:06:15.699583",
     "exception": false,
     "start_time": "2025-06-06T20:06:11.680024",
     "status": "completed"
    },
    "tags": []
   },
   "outputs": [],
   "source": [
    "import pandas as pd\n",
    "import numpy as np\n",
    "from sklearn.preprocessing import LabelEncoder, StandardScaler"
   ]
  },
  {
   "cell_type": "code",
   "execution_count": 2,
   "id": "5fcf395a",
   "metadata": {
    "execution": {
     "iopub.execute_input": "2025-06-06T20:06:15.715527Z",
     "iopub.status.busy": "2025-06-06T20:06:15.714654Z",
     "iopub.status.idle": "2025-06-06T20:06:15.745423Z",
     "shell.execute_reply": "2025-06-06T20:06:15.744328Z"
    },
    "papermill": {
     "duration": 0.040842,
     "end_time": "2025-06-06T20:06:15.747367",
     "exception": false,
     "start_time": "2025-06-06T20:06:15.706525",
     "status": "completed"
    },
    "tags": []
   },
   "outputs": [],
   "source": [
    "# Veri setini yükleme\n",
    "df = pd.read_csv('/kaggle/input/pokmon-base-stats-dataset/pokemon_combined.csv')"
   ]
  },
  {
   "cell_type": "code",
   "execution_count": 3,
   "id": "395bdeb7",
   "metadata": {
    "execution": {
     "iopub.execute_input": "2025-06-06T20:06:15.760591Z",
     "iopub.status.busy": "2025-06-06T20:06:15.760186Z",
     "iopub.status.idle": "2025-06-06T20:06:15.799475Z",
     "shell.execute_reply": "2025-06-06T20:06:15.798111Z"
    },
    "papermill": {
     "duration": 0.048093,
     "end_time": "2025-06-06T20:06:15.801455",
     "exception": false,
     "start_time": "2025-06-06T20:06:15.753362",
     "status": "completed"
    },
    "tags": []
   },
   "outputs": [
    {
     "name": "stdout",
     "output_type": "stream",
     "text": [
      "Veri seti bilgisi:\n",
      "<class 'pandas.core.frame.DataFrame'>\n",
      "RangeIndex: 1014 entries, 0 to 1013\n",
      "Data columns (total 17 columns):\n",
      " #   Column           Non-Null Count  Dtype  \n",
      "---  ------           --------------  -----  \n",
      " 0   Name             1014 non-null   object \n",
      " 1   Type             1014 non-null   object \n",
      " 2   Species          1014 non-null   object \n",
      " 3   Height           1014 non-null   float64\n",
      " 4   Weight           1014 non-null   float64\n",
      " 5   Abilities        1014 non-null   object \n",
      " 6   Catch rate       1014 non-null   int64  \n",
      " 7   Base Friendship  1014 non-null   int64  \n",
      " 8   Base Exp.        1014 non-null   int64  \n",
      " 9   Growth Rate      1014 non-null   object \n",
      " 10  Gender           1014 non-null   object \n",
      " 11  HP               1014 non-null   int64  \n",
      " 12  Attack           1014 non-null   int64  \n",
      " 13  Defense          1014 non-null   int64  \n",
      " 14  Sp. Atk          1014 non-null   int64  \n",
      " 15  Sp. Def          1014 non-null   int64  \n",
      " 16  Speed            1014 non-null   int64  \n",
      "dtypes: float64(2), int64(9), object(6)\n",
      "memory usage: 134.8+ KB\n",
      "None\n",
      "\n",
      "Eksik veriler:\n",
      "Name               0\n",
      "Type               0\n",
      "Species            0\n",
      "Height             0\n",
      "Weight             0\n",
      "Abilities          0\n",
      "Catch rate         0\n",
      "Base Friendship    0\n",
      "Base Exp.          0\n",
      "Growth Rate        0\n",
      "Gender             0\n",
      "HP                 0\n",
      "Attack             0\n",
      "Defense            0\n",
      "Sp. Atk            0\n",
      "Sp. Def            0\n",
      "Speed              0\n",
      "dtype: int64\n"
     ]
    }
   ],
   "source": [
    "#veri setine genel bakış\n",
    "print(\"Veri seti bilgisi:\")\n",
    "print(df.info())\n",
    "print(\"\\nEksik veriler:\")\n",
    "print(df.isnull().sum())"
   ]
  },
  {
   "cell_type": "code",
   "execution_count": 4,
   "id": "5a3ebe0b",
   "metadata": {
    "execution": {
     "iopub.execute_input": "2025-06-06T20:06:15.815034Z",
     "iopub.status.busy": "2025-06-06T20:06:15.814685Z",
     "iopub.status.idle": "2025-06-06T20:06:15.844503Z",
     "shell.execute_reply": "2025-06-06T20:06:15.843529Z"
    },
    "papermill": {
     "duration": 0.038668,
     "end_time": "2025-06-06T20:06:15.846155",
     "exception": false,
     "start_time": "2025-06-06T20:06:15.807487",
     "status": "completed"
    },
    "tags": []
   },
   "outputs": [
    {
     "data": {
      "text/html": [
       "<div>\n",
       "<style scoped>\n",
       "    .dataframe tbody tr th:only-of-type {\n",
       "        vertical-align: middle;\n",
       "    }\n",
       "\n",
       "    .dataframe tbody tr th {\n",
       "        vertical-align: top;\n",
       "    }\n",
       "\n",
       "    .dataframe thead th {\n",
       "        text-align: right;\n",
       "    }\n",
       "</style>\n",
       "<table border=\"1\" class=\"dataframe\">\n",
       "  <thead>\n",
       "    <tr style=\"text-align: right;\">\n",
       "      <th></th>\n",
       "      <th>Name</th>\n",
       "      <th>Type</th>\n",
       "      <th>Species</th>\n",
       "      <th>Height</th>\n",
       "      <th>Weight</th>\n",
       "      <th>Abilities</th>\n",
       "      <th>Catch rate</th>\n",
       "      <th>Base Friendship</th>\n",
       "      <th>Base Exp.</th>\n",
       "      <th>Growth Rate</th>\n",
       "      <th>Gender</th>\n",
       "      <th>HP</th>\n",
       "      <th>Attack</th>\n",
       "      <th>Defense</th>\n",
       "      <th>Sp. Atk</th>\n",
       "      <th>Sp. Def</th>\n",
       "      <th>Speed</th>\n",
       "    </tr>\n",
       "  </thead>\n",
       "  <tbody>\n",
       "    <tr>\n",
       "      <th>0</th>\n",
       "      <td>Bulbasaur</td>\n",
       "      <td>Grass Poison</td>\n",
       "      <td>Seed Pokémon</td>\n",
       "      <td>0.7</td>\n",
       "      <td>6.9</td>\n",
       "      <td>1. OvergrowChlorophyll (hidden ability)</td>\n",
       "      <td>45</td>\n",
       "      <td>50</td>\n",
       "      <td>64</td>\n",
       "      <td>Medium Slow</td>\n",
       "      <td>87.5% male, 12.5% female</td>\n",
       "      <td>45</td>\n",
       "      <td>49</td>\n",
       "      <td>49</td>\n",
       "      <td>65</td>\n",
       "      <td>65</td>\n",
       "      <td>45</td>\n",
       "    </tr>\n",
       "    <tr>\n",
       "      <th>1</th>\n",
       "      <td>Ivysaur</td>\n",
       "      <td>Grass Poison</td>\n",
       "      <td>Seed Pokémon</td>\n",
       "      <td>1.0</td>\n",
       "      <td>13.0</td>\n",
       "      <td>1. OvergrowChlorophyll (hidden ability)</td>\n",
       "      <td>45</td>\n",
       "      <td>50</td>\n",
       "      <td>142</td>\n",
       "      <td>Medium Slow</td>\n",
       "      <td>87.5% male, 12.5% female</td>\n",
       "      <td>60</td>\n",
       "      <td>62</td>\n",
       "      <td>63</td>\n",
       "      <td>80</td>\n",
       "      <td>80</td>\n",
       "      <td>60</td>\n",
       "    </tr>\n",
       "    <tr>\n",
       "      <th>2</th>\n",
       "      <td>Venusaur</td>\n",
       "      <td>Grass Poison</td>\n",
       "      <td>Seed Pokémon</td>\n",
       "      <td>2.4</td>\n",
       "      <td>155.5</td>\n",
       "      <td>Thick Fat</td>\n",
       "      <td>45</td>\n",
       "      <td>50</td>\n",
       "      <td>281</td>\n",
       "      <td>Medium Slow</td>\n",
       "      <td>87.5% male, 12.5% female</td>\n",
       "      <td>80</td>\n",
       "      <td>100</td>\n",
       "      <td>123</td>\n",
       "      <td>122</td>\n",
       "      <td>120</td>\n",
       "      <td>80</td>\n",
       "    </tr>\n",
       "    <tr>\n",
       "      <th>3</th>\n",
       "      <td>Charmander</td>\n",
       "      <td>Fire</td>\n",
       "      <td>Lizard Pokémon</td>\n",
       "      <td>0.6</td>\n",
       "      <td>8.5</td>\n",
       "      <td>1. BlazeSolar Power (hidden ability)</td>\n",
       "      <td>45</td>\n",
       "      <td>50</td>\n",
       "      <td>62</td>\n",
       "      <td>Medium Slow</td>\n",
       "      <td>87.5% male, 12.5% female</td>\n",
       "      <td>39</td>\n",
       "      <td>52</td>\n",
       "      <td>43</td>\n",
       "      <td>60</td>\n",
       "      <td>50</td>\n",
       "      <td>65</td>\n",
       "    </tr>\n",
       "    <tr>\n",
       "      <th>4</th>\n",
       "      <td>Charmeleon</td>\n",
       "      <td>Fire</td>\n",
       "      <td>Flame Pokémon</td>\n",
       "      <td>1.1</td>\n",
       "      <td>19.0</td>\n",
       "      <td>1. BlazeSolar Power (hidden ability)</td>\n",
       "      <td>45</td>\n",
       "      <td>50</td>\n",
       "      <td>142</td>\n",
       "      <td>Medium Slow</td>\n",
       "      <td>87.5% male, 12.5% female</td>\n",
       "      <td>58</td>\n",
       "      <td>64</td>\n",
       "      <td>58</td>\n",
       "      <td>80</td>\n",
       "      <td>65</td>\n",
       "      <td>80</td>\n",
       "    </tr>\n",
       "  </tbody>\n",
       "</table>\n",
       "</div>"
      ],
      "text/plain": [
       "         Name          Type         Species  Height  Weight  \\\n",
       "0   Bulbasaur  Grass Poison    Seed Pokémon     0.7     6.9   \n",
       "1     Ivysaur  Grass Poison    Seed Pokémon     1.0    13.0   \n",
       "2    Venusaur  Grass Poison    Seed Pokémon     2.4   155.5   \n",
       "3  Charmander          Fire  Lizard Pokémon     0.6     8.5   \n",
       "4  Charmeleon          Fire   Flame Pokémon     1.1    19.0   \n",
       "\n",
       "                                 Abilities  Catch rate  Base Friendship  \\\n",
       "0  1. OvergrowChlorophyll (hidden ability)          45               50   \n",
       "1  1. OvergrowChlorophyll (hidden ability)          45               50   \n",
       "2                                Thick Fat          45               50   \n",
       "3     1. BlazeSolar Power (hidden ability)          45               50   \n",
       "4     1. BlazeSolar Power (hidden ability)          45               50   \n",
       "\n",
       "   Base Exp.  Growth Rate                    Gender  HP  Attack  Defense  \\\n",
       "0         64  Medium Slow  87.5% male, 12.5% female  45      49       49   \n",
       "1        142  Medium Slow  87.5% male, 12.5% female  60      62       63   \n",
       "2        281  Medium Slow  87.5% male, 12.5% female  80     100      123   \n",
       "3         62  Medium Slow  87.5% male, 12.5% female  39      52       43   \n",
       "4        142  Medium Slow  87.5% male, 12.5% female  58      64       58   \n",
       "\n",
       "   Sp. Atk  Sp. Def  Speed  \n",
       "0       65       65     45  \n",
       "1       80       80     60  \n",
       "2      122      120     80  \n",
       "3       60       50     65  \n",
       "4       80       65     80  "
      ]
     },
     "execution_count": 4,
     "metadata": {},
     "output_type": "execute_result"
    }
   ],
   "source": [
    "df.head()"
   ]
  },
  {
   "cell_type": "code",
   "execution_count": 5,
   "id": "b43a364e",
   "metadata": {
    "execution": {
     "iopub.execute_input": "2025-06-06T20:06:15.860061Z",
     "iopub.status.busy": "2025-06-06T20:06:15.859673Z",
     "iopub.status.idle": "2025-06-06T20:06:15.871692Z",
     "shell.execute_reply": "2025-06-06T20:06:15.870482Z"
    },
    "papermill": {
     "duration": 0.020981,
     "end_time": "2025-06-06T20:06:15.873369",
     "exception": false,
     "start_time": "2025-06-06T20:06:15.852388",
     "status": "completed"
    },
    "tags": []
   },
   "outputs": [],
   "source": [
    "#kategorik sütunları sayısallaştırma\n",
    "le=LabelEncoder()\n",
    "kategorik = ['Type', 'Species', 'Abilities', 'Growth Rate', 'Gender']\n",
    "for col in kategorik:\n",
    "    df[col]= le.fit_transform(df[col])"
   ]
  },
  {
   "cell_type": "code",
   "execution_count": 6,
   "id": "cecc0e9b",
   "metadata": {
    "execution": {
     "iopub.execute_input": "2025-06-06T20:06:15.887789Z",
     "iopub.status.busy": "2025-06-06T20:06:15.887470Z",
     "iopub.status.idle": "2025-06-06T20:06:15.899586Z",
     "shell.execute_reply": "2025-06-06T20:06:15.898424Z"
    },
    "papermill": {
     "duration": 0.021044,
     "end_time": "2025-06-06T20:06:15.901348",
     "exception": false,
     "start_time": "2025-06-06T20:06:15.880304",
     "status": "completed"
    },
    "tags": []
   },
   "outputs": [
    {
     "name": "stdout",
     "output_type": "stream",
     "text": [
      "\n",
      "Kategorik sütunlar kodlandıktan sonra ilk 5 satır:\n",
      "   Type  Species  Abilities  Growth Rate  Gender\n",
      "0   111      544        261            4       6\n",
      "1   111      544        261            4       6\n",
      "2   111      544        642            4       6\n",
      "3    71      363         26            4       6\n",
      "4    71      227         26            4       6\n"
     ]
    }
   ],
   "source": [
    "#veriyi kontrol etme\n",
    "print(\"\\nKategorik sütunlar kodlandıktan sonra ilk 5 satır:\")\n",
    "print(df[kategorik].head())"
   ]
  },
  {
   "cell_type": "code",
   "execution_count": 7,
   "id": "e6572bc7",
   "metadata": {
    "execution": {
     "iopub.execute_input": "2025-06-06T20:06:15.914961Z",
     "iopub.status.busy": "2025-06-06T20:06:15.914609Z",
     "iopub.status.idle": "2025-06-06T20:06:15.933422Z",
     "shell.execute_reply": "2025-06-06T20:06:15.932257Z"
    },
    "papermill": {
     "duration": 0.0275,
     "end_time": "2025-06-06T20:06:15.935130",
     "exception": false,
     "start_time": "2025-06-06T20:06:15.907630",
     "status": "completed"
    },
    "tags": []
   },
   "outputs": [
    {
     "name": "stdout",
     "output_type": "stream",
     "text": [
      "\n",
      "Kodlanmış veri 'encoded_pokemon_data.csv' olarak kaydedildi.\n"
     ]
    }
   ],
   "source": [
    "# Veriyi kaydetme\n",
    "df.to_csv('encoded_pokemon_data.csv', index=False)\n",
    "print(\"\\nKodlanmış veri 'encoded_pokemon_data.csv' olarak kaydedildi.\")"
   ]
  },
  {
   "cell_type": "code",
   "execution_count": 8,
   "id": "91367ca7",
   "metadata": {
    "execution": {
     "iopub.execute_input": "2025-06-06T20:06:15.949024Z",
     "iopub.status.busy": "2025-06-06T20:06:15.948634Z",
     "iopub.status.idle": "2025-06-06T20:06:15.957675Z",
     "shell.execute_reply": "2025-06-06T20:06:15.956617Z"
    },
    "papermill": {
     "duration": 0.01802,
     "end_time": "2025-06-06T20:06:15.959473",
     "exception": false,
     "start_time": "2025-06-06T20:06:15.941453",
     "status": "completed"
    },
    "tags": []
   },
   "outputs": [],
   "source": [
    "# Kodlanmış veri setini yükleme\n",
    "df = pd.read_csv('encoded_pokemon_data.csv')"
   ]
  },
  {
   "cell_type": "code",
   "execution_count": 9,
   "id": "da70fe69",
   "metadata": {
    "execution": {
     "iopub.execute_input": "2025-06-06T20:06:15.973290Z",
     "iopub.status.busy": "2025-06-06T20:06:15.972924Z",
     "iopub.status.idle": "2025-06-06T20:06:15.989377Z",
     "shell.execute_reply": "2025-06-06T20:06:15.988242Z"
    },
    "papermill": {
     "duration": 0.025379,
     "end_time": "2025-06-06T20:06:15.991092",
     "exception": false,
     "start_time": "2025-06-06T20:06:15.965713",
     "status": "completed"
    },
    "tags": []
   },
   "outputs": [],
   "source": [
    "#aykırı değer kontrolü\n",
    "q1= df['Attack'].quantile(0.25)\n",
    "q3= df['Attack'].quantile(0.75)\n",
    "iqr = q3 - q1\n",
    "lower_bound= q1 - 1.5 * iqr\n",
    "upper_bound= q3 + 1.5 * iqr\n",
    "df = df[(df['Attack'] >= lower_bound) & (df['Attack'] <= upper_bound)]\n"
   ]
  },
  {
   "cell_type": "code",
   "execution_count": 10,
   "id": "a5af6c44",
   "metadata": {
    "execution": {
     "iopub.execute_input": "2025-06-06T20:06:16.005047Z",
     "iopub.status.busy": "2025-06-06T20:06:16.004680Z",
     "iopub.status.idle": "2025-06-06T20:06:16.009886Z",
     "shell.execute_reply": "2025-06-06T20:06:16.008774Z"
    },
    "papermill": {
     "duration": 0.014087,
     "end_time": "2025-06-06T20:06:16.011437",
     "exception": false,
     "start_time": "2025-06-06T20:06:15.997350",
     "status": "completed"
    },
    "tags": []
   },
   "outputs": [
    {
     "name": "stdout",
     "output_type": "stream",
     "text": [
      "\n",
      "Aykırı değerler temizlendikten sonra veri seti boyutu: (1008, 17)\n"
     ]
    }
   ],
   "source": [
    "#temizlenmiş veri seti boyutu\n",
    "print(\"\\nAykırı değerler temizlendikten sonra veri seti boyutu:\", df.shape)"
   ]
  },
  {
   "cell_type": "code",
   "execution_count": 11,
   "id": "e7853c19",
   "metadata": {
    "execution": {
     "iopub.execute_input": "2025-06-06T20:06:16.026607Z",
     "iopub.status.busy": "2025-06-06T20:06:16.026237Z",
     "iopub.status.idle": "2025-06-06T20:06:16.040248Z",
     "shell.execute_reply": "2025-06-06T20:06:16.038787Z"
    },
    "papermill": {
     "duration": 0.023649,
     "end_time": "2025-06-06T20:06:16.042052",
     "exception": false,
     "start_time": "2025-06-06T20:06:16.018403",
     "status": "completed"
    },
    "tags": []
   },
   "outputs": [
    {
     "name": "stdout",
     "output_type": "stream",
     "text": [
      "\n",
      "Aykırı değerler temizlenmiş veri 'outlier_cleaned_pokemon_data.csv' olarak kaydedildi.\n"
     ]
    }
   ],
   "source": [
    "#veriyi kaydetme\n",
    "df.to_csv(\"outlier_cleaned_pokemon_data.csv\", index=False)\n",
    "print(\"\\nAykırı değerler temizlenmiş veri 'outlier_cleaned_pokemon_data.csv' olarak kaydedildi.\")"
   ]
  },
  {
   "cell_type": "code",
   "execution_count": 12,
   "id": "a1851f93",
   "metadata": {
    "execution": {
     "iopub.execute_input": "2025-06-06T20:06:16.056834Z",
     "iopub.status.busy": "2025-06-06T20:06:16.056532Z",
     "iopub.status.idle": "2025-06-06T20:06:16.066227Z",
     "shell.execute_reply": "2025-06-06T20:06:16.064998Z"
    },
    "papermill": {
     "duration": 0.019381,
     "end_time": "2025-06-06T20:06:16.067996",
     "exception": false,
     "start_time": "2025-06-06T20:06:16.048615",
     "status": "completed"
    },
    "tags": []
   },
   "outputs": [],
   "source": [
    "# Aykırı değerleri temizlenmiş veri setini yükleme\n",
    "df = pd.read_csv('outlier_cleaned_pokemon_data.csv')"
   ]
  },
  {
   "cell_type": "code",
   "execution_count": 13,
   "id": "ec0df99e",
   "metadata": {
    "execution": {
     "iopub.execute_input": "2025-06-06T20:06:16.081985Z",
     "iopub.status.busy": "2025-06-06T20:06:16.081615Z",
     "iopub.status.idle": "2025-06-06T20:06:16.086210Z",
     "shell.execute_reply": "2025-06-06T20:06:16.085289Z"
    },
    "papermill": {
     "duration": 0.013441,
     "end_time": "2025-06-06T20:06:16.087835",
     "exception": false,
     "start_time": "2025-06-06T20:06:16.074394",
     "status": "completed"
    },
    "tags": []
   },
   "outputs": [],
   "source": [
    "# Sayısal sütunları seçme\n",
    "numeric_cols = ['HP', 'Attack', 'Defense', 'Sp. Atk', 'Sp. Def', 'Speed', 'Height', 'Weight']"
   ]
  },
  {
   "cell_type": "code",
   "execution_count": 14,
   "id": "387c81b9",
   "metadata": {
    "execution": {
     "iopub.execute_input": "2025-06-06T20:06:16.102360Z",
     "iopub.status.busy": "2025-06-06T20:06:16.101787Z",
     "iopub.status.idle": "2025-06-06T20:06:16.125653Z",
     "shell.execute_reply": "2025-06-06T20:06:16.124367Z"
    },
    "papermill": {
     "duration": 0.033132,
     "end_time": "2025-06-06T20:06:16.127604",
     "exception": false,
     "start_time": "2025-06-06T20:06:16.094472",
     "status": "completed"
    },
    "tags": []
   },
   "outputs": [],
   "source": [
    "#ölçeklendirme\n",
    "scaler= StandardScaler()\n",
    "df[numeric_cols]= scaler.fit_transform(df[numeric_cols])"
   ]
  },
  {
   "cell_type": "code",
   "execution_count": 15,
   "id": "46af6d1e",
   "metadata": {
    "execution": {
     "iopub.execute_input": "2025-06-06T20:06:16.142443Z",
     "iopub.status.busy": "2025-06-06T20:06:16.142108Z",
     "iopub.status.idle": "2025-06-06T20:06:16.152128Z",
     "shell.execute_reply": "2025-06-06T20:06:16.151195Z"
    },
    "papermill": {
     "duration": 0.019531,
     "end_time": "2025-06-06T20:06:16.153787",
     "exception": false,
     "start_time": "2025-06-06T20:06:16.134256",
     "status": "completed"
    },
    "tags": []
   },
   "outputs": [
    {
     "name": "stdout",
     "output_type": "stream",
     "text": [
      "\n",
      "Ölçeklenmiş sayısal sütunlar:\n",
      "         HP    Attack   Defense   Sp. Atk   Sp. Def     Speed    Height  \\\n",
      "0 -0.922166 -0.959530 -0.802372 -0.203257 -0.215512 -0.759392 -0.191705   \n",
      "1 -0.378870 -0.544077 -0.346072  0.267305  0.323892 -0.263130 -0.102118   \n",
      "2  0.345525  0.670323  1.609497  1.584879  1.762303  0.398552  0.315953   \n",
      "3 -1.139485 -0.863656 -0.997929 -0.360111 -0.754916 -0.097710 -0.221567   \n",
      "4 -0.451310 -0.480161 -0.509036  0.267305 -0.215512  0.398552 -0.072256   \n",
      "\n",
      "     Weight  \n",
      "0 -0.492980  \n",
      "1 -0.445548  \n",
      "2  0.662495  \n",
      "3 -0.480539  \n",
      "4 -0.398894  \n"
     ]
    }
   ],
   "source": [
    "#ölçeklenmiş veriyi kontrol etme\n",
    "print(\"\\nÖlçeklenmiş sayısal sütunlar:\")\n",
    "print(df[numeric_cols].head())"
   ]
  },
  {
   "cell_type": "code",
   "execution_count": 16,
   "id": "3b8a9969",
   "metadata": {
    "execution": {
     "iopub.execute_input": "2025-06-06T20:06:16.169152Z",
     "iopub.status.busy": "2025-06-06T20:06:16.168678Z",
     "iopub.status.idle": "2025-06-06T20:06:16.193912Z",
     "shell.execute_reply": "2025-06-06T20:06:16.192956Z"
    },
    "papermill": {
     "duration": 0.035281,
     "end_time": "2025-06-06T20:06:16.195546",
     "exception": false,
     "start_time": "2025-06-06T20:06:16.160265",
     "status": "completed"
    },
    "tags": []
   },
   "outputs": [
    {
     "name": "stdout",
     "output_type": "stream",
     "text": [
      "\n",
      "Ölçeklenmiş veri 'scaled_pokemon_data.csv' olarak kaydedildi.\n"
     ]
    }
   ],
   "source": [
    "# Veriyi kaydetme\n",
    "df.to_csv('scaled_pokemon_data.csv', index=False)\n",
    "print(\"\\nÖlçeklenmiş veri 'scaled_pokemon_data.csv' olarak kaydedildi.\")"
   ]
  },
  {
   "cell_type": "code",
   "execution_count": 17,
   "id": "90c16cbc",
   "metadata": {
    "execution": {
     "iopub.execute_input": "2025-06-06T20:06:16.210109Z",
     "iopub.status.busy": "2025-06-06T20:06:16.209736Z",
     "iopub.status.idle": "2025-06-06T20:06:16.220698Z",
     "shell.execute_reply": "2025-06-06T20:06:16.219499Z"
    },
    "papermill": {
     "duration": 0.02009,
     "end_time": "2025-06-06T20:06:16.222542",
     "exception": false,
     "start_time": "2025-06-06T20:06:16.202452",
     "status": "completed"
    },
    "tags": []
   },
   "outputs": [],
   "source": [
    "# Ölçeklenmiş veri setini yükleme\n",
    "df = pd.read_csv('scaled_pokemon_data.csv')"
   ]
  },
  {
   "cell_type": "code",
   "execution_count": 18,
   "id": "73af319c",
   "metadata": {
    "execution": {
     "iopub.execute_input": "2025-06-06T20:06:16.236964Z",
     "iopub.status.busy": "2025-06-06T20:06:16.236619Z",
     "iopub.status.idle": "2025-06-06T20:06:16.245006Z",
     "shell.execute_reply": "2025-06-06T20:06:16.244046Z"
    },
    "papermill": {
     "duration": 0.017484,
     "end_time": "2025-06-06T20:06:16.246538",
     "exception": false,
     "start_time": "2025-06-06T20:06:16.229054",
     "status": "completed"
    },
    "tags": []
   },
   "outputs": [],
   "source": [
    "# Yeni özellik: Toplam güç (ölçeklenmiş savaş istatistiklerinin toplamı)\n",
    "df['Total_Power'] = df[['HP', 'Attack', 'Defense', 'Sp. Atk', 'Sp. Def', 'Speed']].sum(axis=1)"
   ]
  },
  {
   "cell_type": "code",
   "execution_count": 19,
   "id": "92f57ebc",
   "metadata": {
    "execution": {
     "iopub.execute_input": "2025-06-06T20:06:16.260773Z",
     "iopub.status.busy": "2025-06-06T20:06:16.260215Z",
     "iopub.status.idle": "2025-06-06T20:06:16.268723Z",
     "shell.execute_reply": "2025-06-06T20:06:16.267555Z"
    },
    "papermill": {
     "duration": 0.017495,
     "end_time": "2025-06-06T20:06:16.270424",
     "exception": false,
     "start_time": "2025-06-06T20:06:16.252929",
     "status": "completed"
    },
    "tags": []
   },
   "outputs": [
    {
     "name": "stdout",
     "output_type": "stream",
     "text": [
      "\n",
      "Toplam Güç Sütunu (İlk 5 Satır):\n",
      "         Name  Total_Power\n",
      "0   Bulbasaur    -3.862229\n",
      "1     Ivysaur    -0.940952\n",
      "2    Venusaur     6.371080\n",
      "3  Charmander    -4.213806\n",
      "4  Charmeleon    -0.990162\n"
     ]
    }
   ],
   "source": [
    "# Yeni özelliği kontrol etme\n",
    "print(\"\\nToplam Güç Sütunu (İlk 5 Satır):\")\n",
    "print(df[['Name', 'Total_Power']].head())"
   ]
  },
  {
   "cell_type": "code",
   "execution_count": 20,
   "id": "e4844c2c",
   "metadata": {
    "execution": {
     "iopub.execute_input": "2025-06-06T20:06:16.284988Z",
     "iopub.status.busy": "2025-06-06T20:06:16.284523Z",
     "iopub.status.idle": "2025-06-06T20:06:16.312783Z",
     "shell.execute_reply": "2025-06-06T20:06:16.311776Z"
    },
    "papermill": {
     "duration": 0.037473,
     "end_time": "2025-06-06T20:06:16.314580",
     "exception": false,
     "start_time": "2025-06-06T20:06:16.277107",
     "status": "completed"
    },
    "tags": []
   },
   "outputs": [
    {
     "name": "stdout",
     "output_type": "stream",
     "text": [
      "\n",
      "Yeni özellik eklenmiş veri 'feature_engineered_pokemon_data.csv' olarak kaydedildi.\n"
     ]
    }
   ],
   "source": [
    "# Veriyi kaydetme\n",
    "df.to_csv('feature_engineered_pokemon_data.csv', index=False)\n",
    "print(\"\\nYeni özellik eklenmiş veri 'feature_engineered_pokemon_data.csv' olarak kaydedildi.\")"
   ]
  },
  {
   "cell_type": "code",
   "execution_count": 21,
   "id": "f384d660",
   "metadata": {
    "execution": {
     "iopub.execute_input": "2025-06-06T20:06:16.329587Z",
     "iopub.status.busy": "2025-06-06T20:06:16.329247Z",
     "iopub.status.idle": "2025-06-06T20:06:17.062382Z",
     "shell.execute_reply": "2025-06-06T20:06:17.061423Z"
    },
    "papermill": {
     "duration": 0.743239,
     "end_time": "2025-06-06T20:06:17.064381",
     "exception": false,
     "start_time": "2025-06-06T20:06:16.321142",
     "status": "completed"
    },
    "tags": []
   },
   "outputs": [],
   "source": [
    "import pandas as pd\n",
    "import seaborn as sns\n",
    "import matplotlib.pyplot as plt"
   ]
  },
  {
   "cell_type": "code",
   "execution_count": 22,
   "id": "8b4aed82",
   "metadata": {
    "execution": {
     "iopub.execute_input": "2025-06-06T20:06:17.079593Z",
     "iopub.status.busy": "2025-06-06T20:06:17.079138Z",
     "iopub.status.idle": "2025-06-06T20:06:17.093759Z",
     "shell.execute_reply": "2025-06-06T20:06:17.092835Z"
    },
    "papermill": {
     "duration": 0.024658,
     "end_time": "2025-06-06T20:06:17.095579",
     "exception": false,
     "start_time": "2025-06-06T20:06:17.070921",
     "status": "completed"
    },
    "tags": []
   },
   "outputs": [],
   "source": [
    "df=pd.read_csv('feature_engineered_pokemon_data.csv')"
   ]
  },
  {
   "cell_type": "code",
   "execution_count": 23,
   "id": "ae4afbd7",
   "metadata": {
    "execution": {
     "iopub.execute_input": "2025-06-06T20:06:17.109965Z",
     "iopub.status.busy": "2025-06-06T20:06:17.109590Z",
     "iopub.status.idle": "2025-06-06T20:06:17.776924Z",
     "shell.execute_reply": "2025-06-06T20:06:17.775782Z"
    },
    "papermill": {
     "duration": 0.676395,
     "end_time": "2025-06-06T20:06:17.778639",
     "exception": false,
     "start_time": "2025-06-06T20:06:17.102244",
     "status": "completed"
    },
    "tags": []
   },
   "outputs": [
    {
     "name": "stderr",
     "output_type": "stream",
     "text": [
      "/usr/local/lib/python3.11/dist-packages/seaborn/_oldcore.py:1119: FutureWarning: use_inf_as_na option is deprecated and will be removed in a future version. Convert inf values to NaN before operating instead.\n",
      "  with pd.option_context('mode.use_inf_as_na', True):\n"
     ]
    },
    {
     "data": {
      "image/png": "[encoded data removed]",
      "text/plain": [
       "<Figure size 1000x600 with 1 Axes>"
      ]
     },
     "metadata": {},
     "output_type": "display_data"
    },
    {
     "data": {
      "text/plain": [
       "(None,)"
      ]
     },
     "execution_count": 23,
     "metadata": {},
     "output_type": "execute_result"
    }
   ],
   "source": [
    "#toplam güç dağılımı\n",
    "plt.figure(figsize=(10,6))\n",
    "sns.histplot(df['Total_Power'], bins=30, kde=True, color='orange')\n",
    "plt.title('Toplam Güç Dağılımı')\n",
    "plt.xlabel('Total Power')\n",
    "plt.ylabel('Frekans')\n",
    "plt.savefig('total_power_distribution.png')\n",
    "plt.show(),"
   ]
  },
  {
   "cell_type": "code",
   "execution_count": 24,
   "id": "e0c928eb",
   "metadata": {
    "execution": {
     "iopub.execute_input": "2025-06-06T20:06:17.795348Z",
     "iopub.status.busy": "2025-06-06T20:06:17.794981Z",
     "iopub.status.idle": "2025-06-06T20:06:21.250178Z",
     "shell.execute_reply": "2025-06-06T20:06:21.249104Z"
    },
    "papermill": {
     "duration": 3.465399,
     "end_time": "2025-06-06T20:06:21.251713",
     "exception": false,
     "start_time": "2025-06-06T20:06:17.786314",
     "status": "completed"
    },
    "tags": []
   },
   "outputs": [
    {
     "data": {
      "image/png": "[encoded data removed]",
      "text/plain": [
       "<Figure size 1200x600 with 1 Axes>"
      ]
     },
     "metadata": {},
     "output_type": "display_data"
    },
    {
     "data": {
      "text/plain": [
       "(None,)"
      ]
     },
     "execution_count": 24,
     "metadata": {},
     "output_type": "execute_result"
    }
   ],
   "source": [
    "# Tür bazlı toplam güç \n",
    "plt.figure(figsize=(12, 6))\n",
    "sns.boxplot(x='Type', y='Total_Power', data=df)\n",
    "plt.title('Türlere Göre Toplam Güç Dağılımı')\n",
    "plt.xlabel('Pokémon Türü')\n",
    "plt.ylabel('Total Power')\n",
    "plt.xticks(rotation=45)\n",
    "plt.savefig('type_total_power_boxplot.png')\n",
    "plt.show(),"
   ]
  },
  {
   "cell_type": "code",
   "execution_count": 25,
   "id": "42fec692",
   "metadata": {
    "execution": {
     "iopub.execute_input": "2025-06-06T20:06:21.272632Z",
     "iopub.status.busy": "2025-06-06T20:06:21.271826Z",
     "iopub.status.idle": "2025-06-06T20:06:21.624516Z",
     "shell.execute_reply": "2025-06-06T20:06:21.623225Z"
    },
    "papermill": {
     "duration": 0.364808,
     "end_time": "2025-06-06T20:06:21.626305",
     "exception": false,
     "start_time": "2025-06-06T20:06:21.261497",
     "status": "completed"
    },
    "tags": []
   },
   "outputs": [
    {
     "data": {
      "image/png": "[encoded data removed]",
      "text/plain": [
       "<Figure size 1200x600 with 1 Axes>"
      ]
     },
     "metadata": {},
     "output_type": "display_data"
    },
    {
     "data": {
      "text/plain": [
       "(None,)"
      ]
     },
     "execution_count": 25,
     "metadata": {},
     "output_type": "execute_result"
    }
   ],
   "source": [
    "# En güçlü 10 Pokémon \n",
    "top_pokemon = df[['Name', 'Total_Power']].sort_values(by='Total_Power', ascending=False).head(10)\n",
    "plt.figure(figsize=(12, 6))\n",
    "sns.barplot(x='Total_Power', y='Name', data=top_pokemon, palette='viridis')\n",
    "plt.title('En Güçlü 10 Pokémon')\n",
    "plt.xlabel('Total Power')\n",
    "plt.ylabel('Pokémon Adı')\n",
    "plt.savefig('top_10_pokemon.png')\n",
    "plt.show(),"
   ]
  },
  {
   "cell_type": "code",
   "execution_count": 26,
   "id": "69ab40d7",
   "metadata": {
    "execution": {
     "iopub.execute_input": "2025-06-06T20:06:21.647671Z",
     "iopub.status.busy": "2025-06-06T20:06:21.647345Z",
     "iopub.status.idle": "2025-06-06T20:06:22.157723Z",
     "shell.execute_reply": "2025-06-06T20:06:22.156777Z"
    },
    "papermill": {
     "duration": 0.523519,
     "end_time": "2025-06-06T20:06:22.159807",
     "exception": false,
     "start_time": "2025-06-06T20:06:21.636288",
     "status": "completed"
    },
    "tags": []
   },
   "outputs": [],
   "source": [
    "import pandas as pd\n",
    "from sklearn.model_selection import train_test_split\n",
    "from sklearn.linear_model import LinearRegression\n",
    "from sklearn.metrics import mean_squared_error, r2_score"
   ]
  },
  {
   "cell_type": "code",
   "execution_count": 27,
   "id": "867ccfb3",
   "metadata": {
    "execution": {
     "iopub.execute_input": "2025-06-06T20:06:22.181310Z",
     "iopub.status.busy": "2025-06-06T20:06:22.180943Z",
     "iopub.status.idle": "2025-06-06T20:06:22.196501Z",
     "shell.execute_reply": "2025-06-06T20:06:22.194642Z"
    },
    "papermill": {
     "duration": 0.02844,
     "end_time": "2025-06-06T20:06:22.198535",
     "exception": false,
     "start_time": "2025-06-06T20:06:22.170095",
     "status": "completed"
    },
    "tags": []
   },
   "outputs": [],
   "source": [
    "# Veri setini yükleme\n",
    "df = pd.read_csv('feature_engineered_pokemon_data.csv')"
   ]
  },
  {
   "cell_type": "code",
   "execution_count": 28,
   "id": "27edd5fe",
   "metadata": {
    "execution": {
     "iopub.execute_input": "2025-06-06T20:06:22.220778Z",
     "iopub.status.busy": "2025-06-06T20:06:22.220432Z",
     "iopub.status.idle": "2025-06-06T20:06:22.228572Z",
     "shell.execute_reply": "2025-06-06T20:06:22.227198Z"
    },
    "papermill": {
     "duration": 0.022312,
     "end_time": "2025-06-06T20:06:22.230419",
     "exception": false,
     "start_time": "2025-06-06T20:06:22.208107",
     "status": "completed"
    },
    "tags": []
   },
   "outputs": [],
   "source": [
    "# Özellikler ve hedef değişken\n",
    "X = df[['HP', 'Attack', 'Defense', 'Sp. Atk', 'Sp. Def', 'Speed', 'Height', 'Weight', 'Type']]\n",
    "y = df['Total_Power']"
   ]
  },
  {
   "cell_type": "code",
   "execution_count": 29,
   "id": "d77f1a73",
   "metadata": {
    "execution": {
     "iopub.execute_input": "2025-06-06T20:06:22.253944Z",
     "iopub.status.busy": "2025-06-06T20:06:22.253604Z",
     "iopub.status.idle": "2025-06-06T20:06:22.261732Z",
     "shell.execute_reply": "2025-06-06T20:06:22.260389Z"
    },
    "papermill": {
     "duration": 0.021899,
     "end_time": "2025-06-06T20:06:22.263968",
     "exception": false,
     "start_time": "2025-06-06T20:06:22.242069",
     "status": "completed"
    },
    "tags": []
   },
   "outputs": [],
   "source": [
    "# Eğitim ve test seti\n",
    "X_train, X_test, y_train, y_test = train_test_split(X, y, test_size=0.2, random_state=42)"
   ]
  },
  {
   "cell_type": "code",
   "execution_count": 30,
   "id": "9adcd2e6",
   "metadata": {
    "execution": {
     "iopub.execute_input": "2025-06-06T20:06:22.286351Z",
     "iopub.status.busy": "2025-06-06T20:06:22.285975Z",
     "iopub.status.idle": "2025-06-06T20:06:22.329681Z",
     "shell.execute_reply": "2025-06-06T20:06:22.328299Z"
    },
    "papermill": {
     "duration": 0.057945,
     "end_time": "2025-06-06T20:06:22.331777",
     "exception": false,
     "start_time": "2025-06-06T20:06:22.273832",
     "status": "completed"
    },
    "tags": []
   },
   "outputs": [
    {
     "data": {
      "text/html": [
       "<style>#sk-container-id-1 {color: black;background-color: white;}#sk-container-id-1 pre{padding: 0;}#sk-container-id-1 div.sk-toggleable {background-color: white;}#sk-container-id-1 label.sk-toggleable__label {cursor: pointer;display: block;width: 100%;margin-bottom: 0;padding: 0.3em;box-sizing: border-box;text-align: center;}#sk-container-id-1 label.sk-toggleable__label-arrow:before {content: \"▸\";float: left;margin-right: 0.25em;color: #696969;}#sk-container-id-1 label.sk-toggleable__label-arrow:hover:before {color: black;}#sk-container-id-1 div.sk-estimator:hover label.sk-toggleable__label-arrow:before {color: black;}#sk-container-id-1 div.sk-toggleable__content {max-height: 0;max-width: 0;overflow: hidden;text-align: left;background-color: #f0f8ff;}#sk-container-id-1 div.sk-toggleable__content pre {margin: 0.2em;color: black;border-radius: 0.25em;background-color: #f0f8ff;}#sk-container-id-1 input.sk-toggleable__control:checked~div.sk-toggleable__content {max-height: 200px;max-width: 100%;overflow: auto;}#sk-container-id-1 input.sk-toggleable__control:checked~label.sk-toggleable__label-arrow:before {content: \"▾\";}#sk-container-id-1 div.sk-estimator input.sk-toggleable__control:checked~label.sk-toggleable__label {background-color: #d4ebff;}#sk-container-id-1 div.sk-label input.sk-toggleable__control:checked~label.sk-toggleable__label {background-color: #d4ebff;}#sk-container-id-1 input.sk-hidden--visually {border: 0;clip: rect(1px 1px 1px 1px);clip: rect(1px, 1px, 1px, 1px);height: 1px;margin: -1px;overflow: hidden;padding: 0;position: absolute;width: 1px;}#sk-container-id-1 div.sk-estimator {font-family: monospace;background-color: #f0f8ff;border: 1px dotted black;border-radius: 0.25em;box-sizing: border-box;margin-bottom: 0.5em;}#sk-container-id-1 div.sk-estimator:hover {background-color: #d4ebff;}#sk-container-id-1 div.sk-parallel-item::after {content: \"\";width: 100%;border-bottom: 1px solid gray;flex-grow: 1;}#sk-container-id-1 div.sk-label:hover label.sk-toggleable__label {background-color: #d4ebff;}#sk-container-id-1 div.sk-serial::before {content: \"\";position: absolute;border-left: 1px solid gray;box-sizing: border-box;top: 0;bottom: 0;left: 50%;z-index: 0;}#sk-container-id-1 div.sk-serial {display: flex;flex-direction: column;align-items: center;background-color: white;padding-right: 0.2em;padding-left: 0.2em;position: relative;}#sk-container-id-1 div.sk-item {position: relative;z-index: 1;}#sk-container-id-1 div.sk-parallel {display: flex;align-items: stretch;justify-content: center;background-color: white;position: relative;}#sk-container-id-1 div.sk-item::before, #sk-container-id-1 div.sk-parallel-item::before {content: \"\";position: absolute;border-left: 1px solid gray;box-sizing: border-box;top: 0;bottom: 0;left: 50%;z-index: -1;}#sk-container-id-1 div.sk-parallel-item {display: flex;flex-direction: column;z-index: 1;position: relative;background-color: white;}#sk-container-id-1 div.sk-parallel-item:first-child::after {align-self: flex-end;width: 50%;}#sk-container-id-1 div.sk-parallel-item:last-child::after {align-self: flex-start;width: 50%;}#sk-container-id-1 div.sk-parallel-item:only-child::after {width: 0;}#sk-container-id-1 div.sk-dashed-wrapped {border: 1px dashed gray;margin: 0 0.4em 0.5em 0.4em;box-sizing: border-box;padding-bottom: 0.4em;background-color: white;}#sk-container-id-1 div.sk-label label {font-family: monospace;font-weight: bold;display: inline-block;line-height: 1.2em;}#sk-container-id-1 div.sk-label-container {text-align: center;}#sk-container-id-1 div.sk-container {/* jupyter's `normalize.less` sets `[hidden] { display: none; }` but bootstrap.min.css set `[hidden] { display: none !important; }` so we also need the `!important` here to be able to override the default hidden behavior on the sphinx rendered scikit-learn.org. See: https://github.com/scikit-learn/scikit-learn/issues/21755 */display: inline-block !important;position: relative;}#sk-container-id-1 div.sk-text-repr-fallback {display: none;}</style><div id=\"sk-container-id-1\" class=\"sk-top-container\"><div class=\"sk-text-repr-fallback\"><pre>LinearRegression()</pre><b>In a Jupyter environment, please rerun this cell to show the HTML representation or trust the notebook. <br />On GitHub, the HTML representation is unable to render, please try loading this page with nbviewer.org.</b></div><div class=\"sk-container\" hidden><div class=\"sk-item\"><div class=\"sk-estimator sk-toggleable\"><input class=\"sk-toggleable__control sk-hidden--visually\" id=\"sk-estimator-id-1\" type=\"checkbox\" checked><label for=\"sk-estimator-id-1\" class=\"sk-toggleable__label sk-toggleable__label-arrow\">LinearRegression</label><div class=\"sk-toggleable__content\"><pre>LinearRegression()</pre></div></div></div></div></div>"
      ],
      "text/plain": [
       "LinearRegression()"
      ]
     },
     "execution_count": 30,
     "metadata": {},
     "output_type": "execute_result"
    }
   ],
   "source": [
    "# Model eğitimi\n",
    "model = LinearRegression()\n",
    "model.fit(X_train, y_train)"
   ]
  },
  {
   "cell_type": "code",
   "execution_count": 31,
   "id": "b164854f",
   "metadata": {
    "execution": {
     "iopub.execute_input": "2025-06-06T20:06:22.354173Z",
     "iopub.status.busy": "2025-06-06T20:06:22.353782Z",
     "iopub.status.idle": "2025-06-06T20:06:22.364126Z",
     "shell.execute_reply": "2025-06-06T20:06:22.363104Z"
    },
    "papermill": {
     "duration": 0.024156,
     "end_time": "2025-06-06T20:06:22.365944",
     "exception": false,
     "start_time": "2025-06-06T20:06:22.341788",
     "status": "completed"
    },
    "tags": []
   },
   "outputs": [
    {
     "name": "stdout",
     "output_type": "stream",
     "text": [
      "\n",
      "Ortalama Kare Hata (MSE): 2.5040480868269052e-28\n",
      "R² Skoru: 1.0\n"
     ]
    }
   ],
   "source": [
    "# Tahmin ve değerlendirme\n",
    "y_pred = model.predict(X_test)\n",
    "mse = mean_squared_error(y_test, y_pred)\n",
    "r2 = r2_score(y_test, y_pred)\n",
    "\n",
    "print(\"\\nOrtalama Kare Hata (MSE):\", mse)\n",
    "print(\"R² Skoru:\", r2)"
   ]
  },
  {
   "cell_type": "markdown",
   "id": "b338f755",
   "metadata": {
    "papermill": {
     "duration": 0.009292,
     "end_time": "2025-06-06T20:06:22.385247",
     "exception": false,
     "start_time": "2025-06-06T20:06:22.375955",
     "status": "completed"
    },
    "tags": []
   },
   "source": [
    "# Pokémon Base Stats: Comprehensive Data Preprocessing and Analysis\n",
    "\n",
    "## Introduction\n",
    "This notebook demonstrates a comprehensive data preprocessing pipeline using the Pokémon Base Stats Dataset. The dataset contains 1014 Pokémon with 17 features, including categorical (e.g., Type, Species) and numerical (e.g., HP, Attack) columns. The goal is to preprocess the data, perform exploratory analysis, and build a simple machine learning model to predict Pokémon strength.\n",
    "\n",
    "## Dataset Overview\n",
    "\n",
    "- **Size**: 1014 rows, 17 columns  \n",
    "- **Categorical Columns**: Name, Type, Species, Abilities, Growth Rate, Gender  \n",
    "- **Numerical Columns**: Height, Weight, Catch rate, Base Friendship, Base Exp., HP, Attack, Defense, Sp. Atk, Sp. Def, Speed  \n",
    "- **Missing Values**: None, as confirmed by initial exploration.\n",
    "\n",
    "## Preprocessing Steps\n",
    "\n",
    "### 1. Categorical Data Encoding\n",
    "Categorical columns (Type, Species, Abilities, Growth Rate, Gender) were encoded using LabelEncoder to convert text data into numerical values for machine learning compatibility.\n",
    "\n",
    "**Sample Output (First 5 Rows):**\n",
    "\n",
    "```\n",
    "\n",
    "Type  Species  Abilities  Growth Rate  Gender\n",
    "0   111      544        261            4       6\n",
    "1   111      544        261            4       6\n",
    "2   111      544        642            4       6\n",
    "3    71      363         26            4       6\n",
    "4    71      227         26            4       6\n",
    "\n",
    "```\n",
    "\n",
    "**Output File**: `encoded_pokemon_data.csv`\n",
    "\n",
    "### 2. Outlier Detection and Cleaning\n",
    "Outliers in the Attack column were removed using the Interquartile Range (IQR) method. After cleaning, the dataset size reduced from 1014 to 1008 rows.\n",
    "\n",
    "**Output:**\n",
    "\n",
    "```\n",
    "\n",
    "Dataset size after outlier removal: (1008, 17)\n",
    "\n",
    "```\n",
    "\n",
    "**Output File**: `outlier_cleaned_pokemon_data.csv`\n",
    "\n",
    "### 3. Feature Scaling\n",
    "Numerical columns (HP, Attack, Defense, Sp. Atk, Sp. Def, Speed, Height, Weight) were standardized using StandardScaler to have a mean of 0 and a standard deviation of 1.\n",
    "\n",
    "**Sample Output (First 5 Rows):**\n",
    "\n",
    "```\n",
    "\n",
    "```\n",
    "     HP    Attack   Defense   Sp. Atk   Sp. Def     Speed    Height    Weight\n",
    "```\n",
    "\n",
    "0 -0.922166 -0.959530 -0.802372 -0.203257 -0.215512 -0.759392 -0.191705 -0.492980\n",
    "1 -0.378870 -0.544077 -0.346072  0.267305  0.323892 -0.263130 -0.102118 -0.445548\n",
    "2  0.345525  0.670323  1.609497  1.584879  1.762303  0.398552  0.315953  0.662495\n",
    "3 -1.139485 -0.863656 -0.997929 -0.360111 -0.754916 -0.097710 -0.221567 -0.480539\n",
    "4 -0.451310 -0.480161 -0.509036  0.267305 -0.215512  0.398552 -0.072256 -0.398894\n",
    "\n",
    "```\n",
    "\n",
    "**Output File**: `scaled_pokemon_data.csv`\n",
    "\n",
    "### 4. Feature Engineering\n",
    "A new feature, Total_Power, was created by summing the scaled battle stats (HP, Attack, Defense, Sp. Atk, Sp. Def, Speed).\n",
    "\n",
    "**Sample Output (First 5 Rows):**\n",
    "\n",
    "```\n",
    "\n",
    "```\n",
    "     Name  Total_Power\n",
    "```\n",
    "\n",
    "0   Bulbasaur    -3.862229\n",
    "1     Ivysaur    -0.940952\n",
    "2    Venusaur     6.371080\n",
    "3  Charmander    -4.213806\n",
    "4  Charmeleon    -0.990162\n",
    "\n",
    "```\n",
    "\n",
    "**Output File**: `feature_engineered_pokemon_data.csv`\n",
    "\n",
    "### 5. Data Visualization\n",
    "Three visualizations were created to explore the data:\n",
    "\n",
    "- Histogram of Total Power: Shows the distribution of Total_Power.\n",
    "- Box Plot of Total Power by Type: Compares Total_Power across Pokémon types.\n",
    "- Bar Plot of Top 10 Pokémon: Lists the top 10 Pokémon by Total_Power (Eternatus was the strongest).\n",
    "\n",
    "**Output Files:**\n",
    "\n",
    "- `total_power_distribution.png`\n",
    "- `type_total_power_boxplot.png`\n",
    "- `top_10_pokemon.png`\n",
    "\n",
    "### 6. Machine Learning: Linear Regression\n",
    "A linear regression model was trained to predict Total_Power using features HP, Attack, Defense, Sp. Atk, Sp. Def, Speed, Height, Weight, and Type. The dataset was split into 80% training and 20% testing.\n",
    "\n",
    "**Results:**\n",
    "\n",
    "- Mean Squared Error (MSE): 2.504e-28 (near zero, indicating perfect predictions)  \n",
    "- R² Score: 1.0 (perfect fit, as Total_Power is a direct sum of battle stats)\n",
    "\n",
    "This perfect performance is expected since Total_Power is a linear combination of the input features.\n",
    "\n",
    "## Conclusion\n",
    "This notebook covered a comprehensive data preprocessing pipeline, including categorical encoding, outlier removal, feature scaling, feature engineering, visualization, and a simple machine learning model. The results demonstrate a clean and well-prepared dataset, with Eternatus identified as the strongest Pokémon based on Total_Power.\n",
    "\n",
    "**Future work could include:**\n",
    "\n",
    "- Predicting other features (e.g., Type classification).  \n",
    "- Using One-Hot Encoding for categorical variables.  \n",
    "- Exploring additional visualizations (e.g., Height vs. Weight scatter plot).\n",
    "```"
   ]
  },
  {
   "cell_type": "code",
   "execution_count": null,
   "id": "bdf3905a",
   "metadata": {
    "papermill": {
     "duration": 0.009368,
     "end_time": "2025-06-06T20:06:22.404309",
     "exception": false,
     "start_time": "2025-06-06T20:06:22.394941",
     "status": "completed"
    },
    "tags": []
   },
   "outputs": [],
   "source": []
  }
 ],
 "metadata": {
  "kaggle": {
   "accelerator": "none",
   "dataSources": [
    {
     "datasetId": 5559678,
     "sourceId": 9247429,
     "sourceType": "datasetVersion"
    }
   ],
   "dockerImageVersionId": 31040,
   "isGpuEnabled": false,
   "isInternetEnabled": true,
   "language": "python",
   "sourceType": "notebook"
  },
  "kernelspec": {
   "display_name": "Python 3",
   "language": "python",
   "name": "python3"
  },
  "language_info": {
   "codemirror_mode": {
    "name": "ipython",
    "version": 3
   },
   "file_extension": ".py",
   "mimetype": "text/x-python",
   "name": "python",
   "nbconvert_exporter": "python",
   "pygments_lexer": "ipython3",
   "version": "3.11.11"
  },
  "papermill": {
   "default_parameters": {},
   "duration": 18.607573,
   "end_time": "2025-06-06T20:06:23.236373",
   "environment_variables": {},
   "exception": null,
   "input_path": "__notebook__.ipynb",
   "output_path": "__notebook__.ipynb",
   "parameters": {},
   "start_time": "2025-06-06T20:06:04.628800",
   "version": "2.6.0"
  }
 },
 "nbformat": 4,
 "nbformat_minor": 5
}
