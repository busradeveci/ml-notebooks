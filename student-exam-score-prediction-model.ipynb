{
 "cells": [
  {
   "cell_type": "code",
   "execution_count": 1,
   "id": "c20dd815",
   "metadata": {
    "_cell_guid": "b1076dfc-b9ad-4769-8c92-a6c4dae69d19",
    "_uuid": "8f2839f25d086af736a60e9eeb907d3b93b6e0e5",
    "execution": {
     "iopub.execute_input": "2025-04-23T23:50:09.421898Z",
     "iopub.status.busy": "2025-04-23T23:50:09.421016Z",
     "iopub.status.idle": "2025-04-23T23:50:11.402961Z",
     "shell.execute_reply": "2025-04-23T23:50:11.401850Z"
    },
    "papermill": {
     "duration": 1.989981,
     "end_time": "2025-04-23T23:50:11.404740",
     "exception": false,
     "start_time": "2025-04-23T23:50:09.414759",
     "status": "completed"
    },
    "tags": []
   },
   "outputs": [
    {
     "name": "stdout",
     "output_type": "stream",
     "text": [
      "/kaggle/input/student-performance-factors/StudentPerformanceFactors.csv\n"
     ]
    }
   ],
   "source": [
    "# This Python 3 environment comes with many helpful analytics libraries installed\n",
    "# It is defined by the kaggle/python Docker image: https://github.com/kaggle/docker-python\n",
    "# For example, here's several helpful packages to load\n",
    "\n",
    "import numpy as np # linear algebra\n",
    "import pandas as pd # data processing, CSV file I/O (e.g. pd.read_csv)\n",
    "\n",
    "# Input data files are available in the read-only \"../input/\" directory\n",
    "# For example, running this (by clicking run or pressing Shift+Enter) will list all files under the input directory\n",
    "\n",
    "import os\n",
    "for dirname, _, filenames in os.walk('/kaggle/input'):\n",
    "    for filename in filenames:\n",
    "        print(os.path.join(dirname, filename))\n",
    "\n",
    "# You can write up to 20GB to the current directory (/kaggle/working/) that gets preserved as output when you create a version using \"Save & Run All\" \n",
    "# You can also write temporary files to /kaggle/temp/, but they won't be saved outside of the current session"
   ]
  },
  {
   "cell_type": "code",
   "execution_count": 2,
   "id": "46c4657c",
   "metadata": {
    "execution": {
     "iopub.execute_input": "2025-04-23T23:50:11.414752Z",
     "iopub.status.busy": "2025-04-23T23:50:11.413928Z",
     "iopub.status.idle": "2025-04-23T23:50:13.369984Z",
     "shell.execute_reply": "2025-04-23T23:50:13.368756Z"
    },
    "papermill": {
     "duration": 1.963095,
     "end_time": "2025-04-23T23:50:13.372158",
     "exception": false,
     "start_time": "2025-04-23T23:50:11.409063",
     "status": "completed"
    },
    "tags": []
   },
   "outputs": [],
   "source": [
    "import pandas as pd\n",
    "from sklearn.linear_model import LinearRegression\n",
    "from sklearn.model_selection import train_test_split\n",
    "from sklearn.metrics import mean_squared_error"
   ]
  },
  {
   "cell_type": "code",
   "execution_count": 3,
   "id": "896a40d8",
   "metadata": {
    "execution": {
     "iopub.execute_input": "2025-04-23T23:50:13.383027Z",
     "iopub.status.busy": "2025-04-23T23:50:13.381409Z",
     "iopub.status.idle": "2025-04-23T23:50:13.448627Z",
     "shell.execute_reply": "2025-04-23T23:50:13.447101Z"
    },
    "papermill": {
     "duration": 0.074141,
     "end_time": "2025-04-23T23:50:13.450502",
     "exception": false,
     "start_time": "2025-04-23T23:50:13.376361",
     "status": "completed"
    },
    "tags": []
   },
   "outputs": [],
   "source": [
    "df = pd.read_csv('/kaggle/input/student-performance-factors/StudentPerformanceFactors.csv')"
   ]
  },
  {
   "cell_type": "code",
   "execution_count": 4,
   "id": "0f05f6b4",
   "metadata": {
    "execution": {
     "iopub.execute_input": "2025-04-23T23:50:13.460036Z",
     "iopub.status.busy": "2025-04-23T23:50:13.459630Z",
     "iopub.status.idle": "2025-04-23T23:50:13.492533Z",
     "shell.execute_reply": "2025-04-23T23:50:13.491554Z"
    },
    "papermill": {
     "duration": 0.039981,
     "end_time": "2025-04-23T23:50:13.494402",
     "exception": false,
     "start_time": "2025-04-23T23:50:13.454421",
     "status": "completed"
    },
    "tags": []
   },
   "outputs": [
    {
     "data": {
      "text/html": [
       "<div>\n",
       "<style scoped>\n",
       "    .dataframe tbody tr th:only-of-type {\n",
       "        vertical-align: middle;\n",
       "    }\n",
       "\n",
       "    .dataframe tbody tr th {\n",
       "        vertical-align: top;\n",
       "    }\n",
       "\n",
       "    .dataframe thead th {\n",
       "        text-align: right;\n",
       "    }\n",
       "</style>\n",
       "<table border=\"1\" class=\"dataframe\">\n",
       "  <thead>\n",
       "    <tr style=\"text-align: right;\">\n",
       "      <th></th>\n",
       "      <th>Hours_Studied</th>\n",
       "      <th>Attendance</th>\n",
       "      <th>Parental_Involvement</th>\n",
       "      <th>Access_to_Resources</th>\n",
       "      <th>Extracurricular_Activities</th>\n",
       "      <th>Sleep_Hours</th>\n",
       "      <th>Previous_Scores</th>\n",
       "      <th>Motivation_Level</th>\n",
       "      <th>Internet_Access</th>\n",
       "      <th>Tutoring_Sessions</th>\n",
       "      <th>Family_Income</th>\n",
       "      <th>Teacher_Quality</th>\n",
       "      <th>School_Type</th>\n",
       "      <th>Peer_Influence</th>\n",
       "      <th>Physical_Activity</th>\n",
       "      <th>Learning_Disabilities</th>\n",
       "      <th>Parental_Education_Level</th>\n",
       "      <th>Distance_from_Home</th>\n",
       "      <th>Gender</th>\n",
       "      <th>Exam_Score</th>\n",
       "    </tr>\n",
       "  </thead>\n",
       "  <tbody>\n",
       "    <tr>\n",
       "      <th>0</th>\n",
       "      <td>23</td>\n",
       "      <td>84</td>\n",
       "      <td>Low</td>\n",
       "      <td>High</td>\n",
       "      <td>No</td>\n",
       "      <td>7</td>\n",
       "      <td>73</td>\n",
       "      <td>Low</td>\n",
       "      <td>Yes</td>\n",
       "      <td>0</td>\n",
       "      <td>Low</td>\n",
       "      <td>Medium</td>\n",
       "      <td>Public</td>\n",
       "      <td>Positive</td>\n",
       "      <td>3</td>\n",
       "      <td>No</td>\n",
       "      <td>High School</td>\n",
       "      <td>Near</td>\n",
       "      <td>Male</td>\n",
       "      <td>67</td>\n",
       "    </tr>\n",
       "    <tr>\n",
       "      <th>1</th>\n",
       "      <td>19</td>\n",
       "      <td>64</td>\n",
       "      <td>Low</td>\n",
       "      <td>Medium</td>\n",
       "      <td>No</td>\n",
       "      <td>8</td>\n",
       "      <td>59</td>\n",
       "      <td>Low</td>\n",
       "      <td>Yes</td>\n",
       "      <td>2</td>\n",
       "      <td>Medium</td>\n",
       "      <td>Medium</td>\n",
       "      <td>Public</td>\n",
       "      <td>Negative</td>\n",
       "      <td>4</td>\n",
       "      <td>No</td>\n",
       "      <td>College</td>\n",
       "      <td>Moderate</td>\n",
       "      <td>Female</td>\n",
       "      <td>61</td>\n",
       "    </tr>\n",
       "    <tr>\n",
       "      <th>2</th>\n",
       "      <td>24</td>\n",
       "      <td>98</td>\n",
       "      <td>Medium</td>\n",
       "      <td>Medium</td>\n",
       "      <td>Yes</td>\n",
       "      <td>7</td>\n",
       "      <td>91</td>\n",
       "      <td>Medium</td>\n",
       "      <td>Yes</td>\n",
       "      <td>2</td>\n",
       "      <td>Medium</td>\n",
       "      <td>Medium</td>\n",
       "      <td>Public</td>\n",
       "      <td>Neutral</td>\n",
       "      <td>4</td>\n",
       "      <td>No</td>\n",
       "      <td>Postgraduate</td>\n",
       "      <td>Near</td>\n",
       "      <td>Male</td>\n",
       "      <td>74</td>\n",
       "    </tr>\n",
       "    <tr>\n",
       "      <th>3</th>\n",
       "      <td>29</td>\n",
       "      <td>89</td>\n",
       "      <td>Low</td>\n",
       "      <td>Medium</td>\n",
       "      <td>Yes</td>\n",
       "      <td>8</td>\n",
       "      <td>98</td>\n",
       "      <td>Medium</td>\n",
       "      <td>Yes</td>\n",
       "      <td>1</td>\n",
       "      <td>Medium</td>\n",
       "      <td>Medium</td>\n",
       "      <td>Public</td>\n",
       "      <td>Negative</td>\n",
       "      <td>4</td>\n",
       "      <td>No</td>\n",
       "      <td>High School</td>\n",
       "      <td>Moderate</td>\n",
       "      <td>Male</td>\n",
       "      <td>71</td>\n",
       "    </tr>\n",
       "    <tr>\n",
       "      <th>4</th>\n",
       "      <td>19</td>\n",
       "      <td>92</td>\n",
       "      <td>Medium</td>\n",
       "      <td>Medium</td>\n",
       "      <td>Yes</td>\n",
       "      <td>6</td>\n",
       "      <td>65</td>\n",
       "      <td>Medium</td>\n",
       "      <td>Yes</td>\n",
       "      <td>3</td>\n",
       "      <td>Medium</td>\n",
       "      <td>High</td>\n",
       "      <td>Public</td>\n",
       "      <td>Neutral</td>\n",
       "      <td>4</td>\n",
       "      <td>No</td>\n",
       "      <td>College</td>\n",
       "      <td>Near</td>\n",
       "      <td>Female</td>\n",
       "      <td>70</td>\n",
       "    </tr>\n",
       "  </tbody>\n",
       "</table>\n",
       "</div>"
      ],
      "text/plain": [
       "   Hours_Studied  Attendance Parental_Involvement Access_to_Resources  \\\n",
       "0             23          84                  Low                High   \n",
       "1             19          64                  Low              Medium   \n",
       "2             24          98               Medium              Medium   \n",
       "3             29          89                  Low              Medium   \n",
       "4             19          92               Medium              Medium   \n",
       "\n",
       "  Extracurricular_Activities  Sleep_Hours  Previous_Scores Motivation_Level  \\\n",
       "0                         No            7               73              Low   \n",
       "1                         No            8               59              Low   \n",
       "2                        Yes            7               91           Medium   \n",
       "3                        Yes            8               98           Medium   \n",
       "4                        Yes            6               65           Medium   \n",
       "\n",
       "  Internet_Access  Tutoring_Sessions Family_Income Teacher_Quality  \\\n",
       "0             Yes                  0           Low          Medium   \n",
       "1             Yes                  2        Medium          Medium   \n",
       "2             Yes                  2        Medium          Medium   \n",
       "3             Yes                  1        Medium          Medium   \n",
       "4             Yes                  3        Medium            High   \n",
       "\n",
       "  School_Type Peer_Influence  Physical_Activity Learning_Disabilities  \\\n",
       "0      Public       Positive                  3                    No   \n",
       "1      Public       Negative                  4                    No   \n",
       "2      Public        Neutral                  4                    No   \n",
       "3      Public       Negative                  4                    No   \n",
       "4      Public        Neutral                  4                    No   \n",
       "\n",
       "  Parental_Education_Level Distance_from_Home  Gender  Exam_Score  \n",
       "0              High School               Near    Male          67  \n",
       "1                  College           Moderate  Female          61  \n",
       "2             Postgraduate               Near    Male          74  \n",
       "3              High School           Moderate    Male          71  \n",
       "4                  College               Near  Female          70  "
      ]
     },
     "execution_count": 4,
     "metadata": {},
     "output_type": "execute_result"
    }
   ],
   "source": [
    "df.head()"
   ]
  },
  {
   "cell_type": "code",
   "execution_count": 5,
   "id": "3cb827aa",
   "metadata": {
    "execution": {
     "iopub.execute_input": "2025-04-23T23:50:13.504958Z",
     "iopub.status.busy": "2025-04-23T23:50:13.504620Z",
     "iopub.status.idle": "2025-04-23T23:50:13.512935Z",
     "shell.execute_reply": "2025-04-23T23:50:13.511991Z"
    },
    "papermill": {
     "duration": 0.015368,
     "end_time": "2025-04-23T23:50:13.514484",
     "exception": false,
     "start_time": "2025-04-23T23:50:13.499116",
     "status": "completed"
    },
    "tags": []
   },
   "outputs": [
    {
     "data": {
      "text/plain": [
       "Hours_Studied                  int64\n",
       "Attendance                     int64\n",
       "Parental_Involvement          object\n",
       "Access_to_Resources           object\n",
       "Extracurricular_Activities    object\n",
       "Sleep_Hours                    int64\n",
       "Previous_Scores                int64\n",
       "Motivation_Level              object\n",
       "Internet_Access               object\n",
       "Tutoring_Sessions              int64\n",
       "Family_Income                 object\n",
       "Teacher_Quality               object\n",
       "School_Type                   object\n",
       "Peer_Influence                object\n",
       "Physical_Activity              int64\n",
       "Learning_Disabilities         object\n",
       "Parental_Education_Level      object\n",
       "Distance_from_Home            object\n",
       "Gender                        object\n",
       "Exam_Score                     int64\n",
       "dtype: object"
      ]
     },
     "execution_count": 5,
     "metadata": {},
     "output_type": "execute_result"
    }
   ],
   "source": [
    "df.dtypes"
   ]
  },
  {
   "cell_type": "code",
   "execution_count": 6,
   "id": "87434799",
   "metadata": {
    "execution": {
     "iopub.execute_input": "2025-04-23T23:50:13.525042Z",
     "iopub.status.busy": "2025-04-23T23:50:13.524709Z",
     "iopub.status.idle": "2025-04-23T23:50:13.531553Z",
     "shell.execute_reply": "2025-04-23T23:50:13.530389Z"
    },
    "papermill": {
     "duration": 0.014059,
     "end_time": "2025-04-23T23:50:13.533258",
     "exception": false,
     "start_time": "2025-04-23T23:50:13.519199",
     "status": "completed"
    },
    "tags": []
   },
   "outputs": [],
   "source": [
    "categorical_columns = df.select_dtypes(include=['object']).columns"
   ]
  },
  {
   "cell_type": "code",
   "execution_count": 7,
   "id": "290d120e",
   "metadata": {
    "execution": {
     "iopub.execute_input": "2025-04-23T23:50:13.543863Z",
     "iopub.status.busy": "2025-04-23T23:50:13.543484Z",
     "iopub.status.idle": "2025-04-23T23:50:13.579391Z",
     "shell.execute_reply": "2025-04-23T23:50:13.578364Z"
    },
    "papermill": {
     "duration": 0.043453,
     "end_time": "2025-04-23T23:50:13.581277",
     "exception": false,
     "start_time": "2025-04-23T23:50:13.537824",
     "status": "completed"
    },
    "tags": []
   },
   "outputs": [],
   "source": [
    "df_encoded = pd.get_dummies(df, columns=categorical_columns)"
   ]
  },
  {
   "cell_type": "code",
   "execution_count": 8,
   "id": "49d8db46",
   "metadata": {
    "execution": {
     "iopub.execute_input": "2025-04-23T23:50:13.592102Z",
     "iopub.status.busy": "2025-04-23T23:50:13.590984Z",
     "iopub.status.idle": "2025-04-23T23:50:13.614704Z",
     "shell.execute_reply": "2025-04-23T23:50:13.613653Z"
    },
    "papermill": {
     "duration": 0.030724,
     "end_time": "2025-04-23T23:50:13.616210",
     "exception": false,
     "start_time": "2025-04-23T23:50:13.585486",
     "status": "completed"
    },
    "tags": []
   },
   "outputs": [
    {
     "data": {
      "text/html": [
       "<div>\n",
       "<style scoped>\n",
       "    .dataframe tbody tr th:only-of-type {\n",
       "        vertical-align: middle;\n",
       "    }\n",
       "\n",
       "    .dataframe tbody tr th {\n",
       "        vertical-align: top;\n",
       "    }\n",
       "\n",
       "    .dataframe thead th {\n",
       "        text-align: right;\n",
       "    }\n",
       "</style>\n",
       "<table border=\"1\" class=\"dataframe\">\n",
       "  <thead>\n",
       "    <tr style=\"text-align: right;\">\n",
       "      <th></th>\n",
       "      <th>Hours_Studied</th>\n",
       "      <th>Attendance</th>\n",
       "      <th>Sleep_Hours</th>\n",
       "      <th>Previous_Scores</th>\n",
       "      <th>Tutoring_Sessions</th>\n",
       "      <th>Physical_Activity</th>\n",
       "      <th>Exam_Score</th>\n",
       "      <th>Parental_Involvement_High</th>\n",
       "      <th>Parental_Involvement_Low</th>\n",
       "      <th>Parental_Involvement_Medium</th>\n",
       "      <th>...</th>\n",
       "      <th>Learning_Disabilities_No</th>\n",
       "      <th>Learning_Disabilities_Yes</th>\n",
       "      <th>Parental_Education_Level_College</th>\n",
       "      <th>Parental_Education_Level_High School</th>\n",
       "      <th>Parental_Education_Level_Postgraduate</th>\n",
       "      <th>Distance_from_Home_Far</th>\n",
       "      <th>Distance_from_Home_Moderate</th>\n",
       "      <th>Distance_from_Home_Near</th>\n",
       "      <th>Gender_Female</th>\n",
       "      <th>Gender_Male</th>\n",
       "    </tr>\n",
       "  </thead>\n",
       "  <tbody>\n",
       "    <tr>\n",
       "      <th>0</th>\n",
       "      <td>23</td>\n",
       "      <td>84</td>\n",
       "      <td>7</td>\n",
       "      <td>73</td>\n",
       "      <td>0</td>\n",
       "      <td>3</td>\n",
       "      <td>67</td>\n",
       "      <td>False</td>\n",
       "      <td>True</td>\n",
       "      <td>False</td>\n",
       "      <td>...</td>\n",
       "      <td>True</td>\n",
       "      <td>False</td>\n",
       "      <td>False</td>\n",
       "      <td>True</td>\n",
       "      <td>False</td>\n",
       "      <td>False</td>\n",
       "      <td>False</td>\n",
       "      <td>True</td>\n",
       "      <td>False</td>\n",
       "      <td>True</td>\n",
       "    </tr>\n",
       "    <tr>\n",
       "      <th>1</th>\n",
       "      <td>19</td>\n",
       "      <td>64</td>\n",
       "      <td>8</td>\n",
       "      <td>59</td>\n",
       "      <td>2</td>\n",
       "      <td>4</td>\n",
       "      <td>61</td>\n",
       "      <td>False</td>\n",
       "      <td>True</td>\n",
       "      <td>False</td>\n",
       "      <td>...</td>\n",
       "      <td>True</td>\n",
       "      <td>False</td>\n",
       "      <td>True</td>\n",
       "      <td>False</td>\n",
       "      <td>False</td>\n",
       "      <td>False</td>\n",
       "      <td>True</td>\n",
       "      <td>False</td>\n",
       "      <td>True</td>\n",
       "      <td>False</td>\n",
       "    </tr>\n",
       "    <tr>\n",
       "      <th>2</th>\n",
       "      <td>24</td>\n",
       "      <td>98</td>\n",
       "      <td>7</td>\n",
       "      <td>91</td>\n",
       "      <td>2</td>\n",
       "      <td>4</td>\n",
       "      <td>74</td>\n",
       "      <td>False</td>\n",
       "      <td>False</td>\n",
       "      <td>True</td>\n",
       "      <td>...</td>\n",
       "      <td>True</td>\n",
       "      <td>False</td>\n",
       "      <td>False</td>\n",
       "      <td>False</td>\n",
       "      <td>True</td>\n",
       "      <td>False</td>\n",
       "      <td>False</td>\n",
       "      <td>True</td>\n",
       "      <td>False</td>\n",
       "      <td>True</td>\n",
       "    </tr>\n",
       "    <tr>\n",
       "      <th>3</th>\n",
       "      <td>29</td>\n",
       "      <td>89</td>\n",
       "      <td>8</td>\n",
       "      <td>98</td>\n",
       "      <td>1</td>\n",
       "      <td>4</td>\n",
       "      <td>71</td>\n",
       "      <td>False</td>\n",
       "      <td>True</td>\n",
       "      <td>False</td>\n",
       "      <td>...</td>\n",
       "      <td>True</td>\n",
       "      <td>False</td>\n",
       "      <td>False</td>\n",
       "      <td>True</td>\n",
       "      <td>False</td>\n",
       "      <td>False</td>\n",
       "      <td>True</td>\n",
       "      <td>False</td>\n",
       "      <td>False</td>\n",
       "      <td>True</td>\n",
       "    </tr>\n",
       "    <tr>\n",
       "      <th>4</th>\n",
       "      <td>19</td>\n",
       "      <td>92</td>\n",
       "      <td>6</td>\n",
       "      <td>65</td>\n",
       "      <td>3</td>\n",
       "      <td>4</td>\n",
       "      <td>70</td>\n",
       "      <td>False</td>\n",
       "      <td>False</td>\n",
       "      <td>True</td>\n",
       "      <td>...</td>\n",
       "      <td>True</td>\n",
       "      <td>False</td>\n",
       "      <td>True</td>\n",
       "      <td>False</td>\n",
       "      <td>False</td>\n",
       "      <td>False</td>\n",
       "      <td>False</td>\n",
       "      <td>True</td>\n",
       "      <td>True</td>\n",
       "      <td>False</td>\n",
       "    </tr>\n",
       "  </tbody>\n",
       "</table>\n",
       "<p>5 rows × 41 columns</p>\n",
       "</div>"
      ],
      "text/plain": [
       "   Hours_Studied  Attendance  Sleep_Hours  Previous_Scores  Tutoring_Sessions  \\\n",
       "0             23          84            7               73                  0   \n",
       "1             19          64            8               59                  2   \n",
       "2             24          98            7               91                  2   \n",
       "3             29          89            8               98                  1   \n",
       "4             19          92            6               65                  3   \n",
       "\n",
       "   Physical_Activity  Exam_Score  Parental_Involvement_High  \\\n",
       "0                  3          67                      False   \n",
       "1                  4          61                      False   \n",
       "2                  4          74                      False   \n",
       "3                  4          71                      False   \n",
       "4                  4          70                      False   \n",
       "\n",
       "   Parental_Involvement_Low  Parental_Involvement_Medium  ...  \\\n",
       "0                      True                        False  ...   \n",
       "1                      True                        False  ...   \n",
       "2                     False                         True  ...   \n",
       "3                      True                        False  ...   \n",
       "4                     False                         True  ...   \n",
       "\n",
       "   Learning_Disabilities_No  Learning_Disabilities_Yes  \\\n",
       "0                      True                      False   \n",
       "1                      True                      False   \n",
       "2                      True                      False   \n",
       "3                      True                      False   \n",
       "4                      True                      False   \n",
       "\n",
       "   Parental_Education_Level_College  Parental_Education_Level_High School  \\\n",
       "0                             False                                  True   \n",
       "1                              True                                 False   \n",
       "2                             False                                 False   \n",
       "3                             False                                  True   \n",
       "4                              True                                 False   \n",
       "\n",
       "   Parental_Education_Level_Postgraduate  Distance_from_Home_Far  \\\n",
       "0                                  False                   False   \n",
       "1                                  False                   False   \n",
       "2                                   True                   False   \n",
       "3                                  False                   False   \n",
       "4                                  False                   False   \n",
       "\n",
       "   Distance_from_Home_Moderate  Distance_from_Home_Near  Gender_Female  \\\n",
       "0                        False                     True          False   \n",
       "1                         True                    False           True   \n",
       "2                        False                     True          False   \n",
       "3                         True                    False          False   \n",
       "4                        False                     True           True   \n",
       "\n",
       "   Gender_Male  \n",
       "0         True  \n",
       "1        False  \n",
       "2         True  \n",
       "3         True  \n",
       "4        False  \n",
       "\n",
       "[5 rows x 41 columns]"
      ]
     },
     "execution_count": 8,
     "metadata": {},
     "output_type": "execute_result"
    }
   ],
   "source": [
    "df_encoded.head()"
   ]
  },
  {
   "cell_type": "code",
   "execution_count": 9,
   "id": "adb56851",
   "metadata": {
    "execution": {
     "iopub.execute_input": "2025-04-23T23:50:13.627051Z",
     "iopub.status.busy": "2025-04-23T23:50:13.626693Z",
     "iopub.status.idle": "2025-04-23T23:50:13.658596Z",
     "shell.execute_reply": "2025-04-23T23:50:13.657394Z"
    },
    "papermill": {
     "duration": 0.039637,
     "end_time": "2025-04-23T23:50:13.660558",
     "exception": false,
     "start_time": "2025-04-23T23:50:13.620921",
     "status": "completed"
    },
    "tags": []
   },
   "outputs": [],
   "source": [
    "df_encoded = df_encoded.apply(lambda col: col.map({True: 1, False: 0}) if col.dtype == 'bool' else col)"
   ]
  },
  {
   "cell_type": "code",
   "execution_count": 10,
   "id": "637f7f94",
   "metadata": {
    "execution": {
     "iopub.execute_input": "2025-04-23T23:50:13.671729Z",
     "iopub.status.busy": "2025-04-23T23:50:13.671251Z",
     "iopub.status.idle": "2025-04-23T23:50:13.688704Z",
     "shell.execute_reply": "2025-04-23T23:50:13.687533Z"
    },
    "papermill": {
     "duration": 0.025581,
     "end_time": "2025-04-23T23:50:13.690808",
     "exception": false,
     "start_time": "2025-04-23T23:50:13.665227",
     "status": "completed"
    },
    "tags": []
   },
   "outputs": [
    {
     "data": {
      "text/html": [
       "<div>\n",
       "<style scoped>\n",
       "    .dataframe tbody tr th:only-of-type {\n",
       "        vertical-align: middle;\n",
       "    }\n",
       "\n",
       "    .dataframe tbody tr th {\n",
       "        vertical-align: top;\n",
       "    }\n",
       "\n",
       "    .dataframe thead th {\n",
       "        text-align: right;\n",
       "    }\n",
       "</style>\n",
       "<table border=\"1\" class=\"dataframe\">\n",
       "  <thead>\n",
       "    <tr style=\"text-align: right;\">\n",
       "      <th></th>\n",
       "      <th>Hours_Studied</th>\n",
       "      <th>Attendance</th>\n",
       "      <th>Sleep_Hours</th>\n",
       "      <th>Previous_Scores</th>\n",
       "      <th>Tutoring_Sessions</th>\n",
       "      <th>Physical_Activity</th>\n",
       "      <th>Exam_Score</th>\n",
       "      <th>Parental_Involvement_High</th>\n",
       "      <th>Parental_Involvement_Low</th>\n",
       "      <th>Parental_Involvement_Medium</th>\n",
       "      <th>...</th>\n",
       "      <th>Learning_Disabilities_No</th>\n",
       "      <th>Learning_Disabilities_Yes</th>\n",
       "      <th>Parental_Education_Level_College</th>\n",
       "      <th>Parental_Education_Level_High School</th>\n",
       "      <th>Parental_Education_Level_Postgraduate</th>\n",
       "      <th>Distance_from_Home_Far</th>\n",
       "      <th>Distance_from_Home_Moderate</th>\n",
       "      <th>Distance_from_Home_Near</th>\n",
       "      <th>Gender_Female</th>\n",
       "      <th>Gender_Male</th>\n",
       "    </tr>\n",
       "  </thead>\n",
       "  <tbody>\n",
       "    <tr>\n",
       "      <th>0</th>\n",
       "      <td>23</td>\n",
       "      <td>84</td>\n",
       "      <td>7</td>\n",
       "      <td>73</td>\n",
       "      <td>0</td>\n",
       "      <td>3</td>\n",
       "      <td>67</td>\n",
       "      <td>0</td>\n",
       "      <td>1</td>\n",
       "      <td>0</td>\n",
       "      <td>...</td>\n",
       "      <td>1</td>\n",
       "      <td>0</td>\n",
       "      <td>0</td>\n",
       "      <td>1</td>\n",
       "      <td>0</td>\n",
       "      <td>0</td>\n",
       "      <td>0</td>\n",
       "      <td>1</td>\n",
       "      <td>0</td>\n",
       "      <td>1</td>\n",
       "    </tr>\n",
       "    <tr>\n",
       "      <th>1</th>\n",
       "      <td>19</td>\n",
       "      <td>64</td>\n",
       "      <td>8</td>\n",
       "      <td>59</td>\n",
       "      <td>2</td>\n",
       "      <td>4</td>\n",
       "      <td>61</td>\n",
       "      <td>0</td>\n",
       "      <td>1</td>\n",
       "      <td>0</td>\n",
       "      <td>...</td>\n",
       "      <td>1</td>\n",
       "      <td>0</td>\n",
       "      <td>1</td>\n",
       "      <td>0</td>\n",
       "      <td>0</td>\n",
       "      <td>0</td>\n",
       "      <td>1</td>\n",
       "      <td>0</td>\n",
       "      <td>1</td>\n",
       "      <td>0</td>\n",
       "    </tr>\n",
       "    <tr>\n",
       "      <th>2</th>\n",
       "      <td>24</td>\n",
       "      <td>98</td>\n",
       "      <td>7</td>\n",
       "      <td>91</td>\n",
       "      <td>2</td>\n",
       "      <td>4</td>\n",
       "      <td>74</td>\n",
       "      <td>0</td>\n",
       "      <td>0</td>\n",
       "      <td>1</td>\n",
       "      <td>...</td>\n",
       "      <td>1</td>\n",
       "      <td>0</td>\n",
       "      <td>0</td>\n",
       "      <td>0</td>\n",
       "      <td>1</td>\n",
       "      <td>0</td>\n",
       "      <td>0</td>\n",
       "      <td>1</td>\n",
       "      <td>0</td>\n",
       "      <td>1</td>\n",
       "    </tr>\n",
       "    <tr>\n",
       "      <th>3</th>\n",
       "      <td>29</td>\n",
       "      <td>89</td>\n",
       "      <td>8</td>\n",
       "      <td>98</td>\n",
       "      <td>1</td>\n",
       "      <td>4</td>\n",
       "      <td>71</td>\n",
       "      <td>0</td>\n",
       "      <td>1</td>\n",
       "      <td>0</td>\n",
       "      <td>...</td>\n",
       "      <td>1</td>\n",
       "      <td>0</td>\n",
       "      <td>0</td>\n",
       "      <td>1</td>\n",
       "      <td>0</td>\n",
       "      <td>0</td>\n",
       "      <td>1</td>\n",
       "      <td>0</td>\n",
       "      <td>0</td>\n",
       "      <td>1</td>\n",
       "    </tr>\n",
       "    <tr>\n",
       "      <th>4</th>\n",
       "      <td>19</td>\n",
       "      <td>92</td>\n",
       "      <td>6</td>\n",
       "      <td>65</td>\n",
       "      <td>3</td>\n",
       "      <td>4</td>\n",
       "      <td>70</td>\n",
       "      <td>0</td>\n",
       "      <td>0</td>\n",
       "      <td>1</td>\n",
       "      <td>...</td>\n",
       "      <td>1</td>\n",
       "      <td>0</td>\n",
       "      <td>1</td>\n",
       "      <td>0</td>\n",
       "      <td>0</td>\n",
       "      <td>0</td>\n",
       "      <td>0</td>\n",
       "      <td>1</td>\n",
       "      <td>1</td>\n",
       "      <td>0</td>\n",
       "    </tr>\n",
       "  </tbody>\n",
       "</table>\n",
       "<p>5 rows × 41 columns</p>\n",
       "</div>"
      ],
      "text/plain": [
       "   Hours_Studied  Attendance  Sleep_Hours  Previous_Scores  Tutoring_Sessions  \\\n",
       "0             23          84            7               73                  0   \n",
       "1             19          64            8               59                  2   \n",
       "2             24          98            7               91                  2   \n",
       "3             29          89            8               98                  1   \n",
       "4             19          92            6               65                  3   \n",
       "\n",
       "   Physical_Activity  Exam_Score  Parental_Involvement_High  \\\n",
       "0                  3          67                          0   \n",
       "1                  4          61                          0   \n",
       "2                  4          74                          0   \n",
       "3                  4          71                          0   \n",
       "4                  4          70                          0   \n",
       "\n",
       "   Parental_Involvement_Low  Parental_Involvement_Medium  ...  \\\n",
       "0                         1                            0  ...   \n",
       "1                         1                            0  ...   \n",
       "2                         0                            1  ...   \n",
       "3                         1                            0  ...   \n",
       "4                         0                            1  ...   \n",
       "\n",
       "   Learning_Disabilities_No  Learning_Disabilities_Yes  \\\n",
       "0                         1                          0   \n",
       "1                         1                          0   \n",
       "2                         1                          0   \n",
       "3                         1                          0   \n",
       "4                         1                          0   \n",
       "\n",
       "   Parental_Education_Level_College  Parental_Education_Level_High School  \\\n",
       "0                                 0                                     1   \n",
       "1                                 1                                     0   \n",
       "2                                 0                                     0   \n",
       "3                                 0                                     1   \n",
       "4                                 1                                     0   \n",
       "\n",
       "   Parental_Education_Level_Postgraduate  Distance_from_Home_Far  \\\n",
       "0                                      0                       0   \n",
       "1                                      0                       0   \n",
       "2                                      1                       0   \n",
       "3                                      0                       0   \n",
       "4                                      0                       0   \n",
       "\n",
       "   Distance_from_Home_Moderate  Distance_from_Home_Near  Gender_Female  \\\n",
       "0                            0                        1              0   \n",
       "1                            1                        0              1   \n",
       "2                            0                        1              0   \n",
       "3                            1                        0              0   \n",
       "4                            0                        1              1   \n",
       "\n",
       "   Gender_Male  \n",
       "0            1  \n",
       "1            0  \n",
       "2            1  \n",
       "3            1  \n",
       "4            0  \n",
       "\n",
       "[5 rows x 41 columns]"
      ]
     },
     "execution_count": 10,
     "metadata": {},
     "output_type": "execute_result"
    }
   ],
   "source": [
    "df_encoded.head()"
   ]
  },
  {
   "cell_type": "code",
   "execution_count": 11,
   "id": "4a97950b",
   "metadata": {
    "execution": {
     "iopub.execute_input": "2025-04-23T23:50:13.704434Z",
     "iopub.status.busy": "2025-04-23T23:50:13.704071Z",
     "iopub.status.idle": "2025-04-23T23:50:13.713034Z",
     "shell.execute_reply": "2025-04-23T23:50:13.711881Z"
    },
    "papermill": {
     "duration": 0.017488,
     "end_time": "2025-04-23T23:50:13.714833",
     "exception": false,
     "start_time": "2025-04-23T23:50:13.697345",
     "status": "completed"
    },
    "tags": []
   },
   "outputs": [
    {
     "data": {
      "text/plain": [
       "Hours_Studied                            int64\n",
       "Attendance                               int64\n",
       "Sleep_Hours                              int64\n",
       "Previous_Scores                          int64\n",
       "Tutoring_Sessions                        int64\n",
       "Physical_Activity                        int64\n",
       "Exam_Score                               int64\n",
       "Parental_Involvement_High                int64\n",
       "Parental_Involvement_Low                 int64\n",
       "Parental_Involvement_Medium              int64\n",
       "Access_to_Resources_High                 int64\n",
       "Access_to_Resources_Low                  int64\n",
       "Access_to_Resources_Medium               int64\n",
       "Extracurricular_Activities_No            int64\n",
       "Extracurricular_Activities_Yes           int64\n",
       "Motivation_Level_High                    int64\n",
       "Motivation_Level_Low                     int64\n",
       "Motivation_Level_Medium                  int64\n",
       "Internet_Access_No                       int64\n",
       "Internet_Access_Yes                      int64\n",
       "Family_Income_High                       int64\n",
       "Family_Income_Low                        int64\n",
       "Family_Income_Medium                     int64\n",
       "Teacher_Quality_High                     int64\n",
       "Teacher_Quality_Low                      int64\n",
       "Teacher_Quality_Medium                   int64\n",
       "School_Type_Private                      int64\n",
       "School_Type_Public                       int64\n",
       "Peer_Influence_Negative                  int64\n",
       "Peer_Influence_Neutral                   int64\n",
       "Peer_Influence_Positive                  int64\n",
       "Learning_Disabilities_No                 int64\n",
       "Learning_Disabilities_Yes                int64\n",
       "Parental_Education_Level_College         int64\n",
       "Parental_Education_Level_High School     int64\n",
       "Parental_Education_Level_Postgraduate    int64\n",
       "Distance_from_Home_Far                   int64\n",
       "Distance_from_Home_Moderate              int64\n",
       "Distance_from_Home_Near                  int64\n",
       "Gender_Female                            int64\n",
       "Gender_Male                              int64\n",
       "dtype: object"
      ]
     },
     "execution_count": 11,
     "metadata": {},
     "output_type": "execute_result"
    }
   ],
   "source": [
    "df_encoded.dtypes"
   ]
  },
  {
   "cell_type": "code",
   "execution_count": 12,
   "id": "fffac376",
   "metadata": {
    "execution": {
     "iopub.execute_input": "2025-04-23T23:50:13.726454Z",
     "iopub.status.busy": "2025-04-23T23:50:13.726039Z",
     "iopub.status.idle": "2025-04-23T23:50:13.735318Z",
     "shell.execute_reply": "2025-04-23T23:50:13.734299Z"
    },
    "papermill": {
     "duration": 0.017401,
     "end_time": "2025-04-23T23:50:13.737309",
     "exception": false,
     "start_time": "2025-04-23T23:50:13.719908",
     "status": "completed"
    },
    "tags": []
   },
   "outputs": [],
   "source": [
    "X = df_encoded.drop('Exam_Score', axis=1)\n",
    "y = df_encoded['Exam_Score'] "
   ]
  },
  {
   "cell_type": "code",
   "execution_count": 13,
   "id": "5c17036a",
   "metadata": {
    "execution": {
     "iopub.execute_input": "2025-04-23T23:50:13.749644Z",
     "iopub.status.busy": "2025-04-23T23:50:13.749241Z",
     "iopub.status.idle": "2025-04-23T23:50:13.763214Z",
     "shell.execute_reply": "2025-04-23T23:50:13.762162Z"
    },
    "papermill": {
     "duration": 0.02218,
     "end_time": "2025-04-23T23:50:13.765154",
     "exception": false,
     "start_time": "2025-04-23T23:50:13.742974",
     "status": "completed"
    },
    "tags": []
   },
   "outputs": [],
   "source": [
    "X_train, X_test, y_train, y_test = train_test_split(X, y, test_size=0.2, random_state=42)"
   ]
  },
  {
   "cell_type": "code",
   "execution_count": 14,
   "id": "a202ba90",
   "metadata": {
    "execution": {
     "iopub.execute_input": "2025-04-23T23:50:13.777250Z",
     "iopub.status.busy": "2025-04-23T23:50:13.776857Z",
     "iopub.status.idle": "2025-04-23T23:50:13.782214Z",
     "shell.execute_reply": "2025-04-23T23:50:13.780982Z"
    },
    "papermill": {
     "duration": 0.013785,
     "end_time": "2025-04-23T23:50:13.784246",
     "exception": false,
     "start_time": "2025-04-23T23:50:13.770461",
     "status": "completed"
    },
    "tags": []
   },
   "outputs": [],
   "source": [
    "model = LinearRegression()"
   ]
  },
  {
   "cell_type": "code",
   "execution_count": 15,
   "id": "09809a75",
   "metadata": {
    "execution": {
     "iopub.execute_input": "2025-04-23T23:50:13.796419Z",
     "iopub.status.busy": "2025-04-23T23:50:13.796067Z",
     "iopub.status.idle": "2025-04-23T23:50:13.875865Z",
     "shell.execute_reply": "2025-04-23T23:50:13.875023Z"
    },
    "papermill": {
     "duration": 0.08801,
     "end_time": "2025-04-23T23:50:13.877819",
     "exception": false,
     "start_time": "2025-04-23T23:50:13.789809",
     "status": "completed"
    },
    "tags": []
   },
   "outputs": [
    {
     "data": {
      "text/html": [
       "<style>#sk-container-id-1 {color: black;background-color: white;}#sk-container-id-1 pre{padding: 0;}#sk-container-id-1 div.sk-toggleable {background-color: white;}#sk-container-id-1 label.sk-toggleable__label {cursor: pointer;display: block;width: 100%;margin-bottom: 0;padding: 0.3em;box-sizing: border-box;text-align: center;}#sk-container-id-1 label.sk-toggleable__label-arrow:before {content: \"▸\";float: left;margin-right: 0.25em;color: #696969;}#sk-container-id-1 label.sk-toggleable__label-arrow:hover:before {color: black;}#sk-container-id-1 div.sk-estimator:hover label.sk-toggleable__label-arrow:before {color: black;}#sk-container-id-1 div.sk-toggleable__content {max-height: 0;max-width: 0;overflow: hidden;text-align: left;background-color: #f0f8ff;}#sk-container-id-1 div.sk-toggleable__content pre {margin: 0.2em;color: black;border-radius: 0.25em;background-color: #f0f8ff;}#sk-container-id-1 input.sk-toggleable__control:checked~div.sk-toggleable__content {max-height: 200px;max-width: 100%;overflow: auto;}#sk-container-id-1 input.sk-toggleable__control:checked~label.sk-toggleable__label-arrow:before {content: \"▾\";}#sk-container-id-1 div.sk-estimator input.sk-toggleable__control:checked~label.sk-toggleable__label {background-color: #d4ebff;}#sk-container-id-1 div.sk-label input.sk-toggleable__control:checked~label.sk-toggleable__label {background-color: #d4ebff;}#sk-container-id-1 input.sk-hidden--visually {border: 0;clip: rect(1px 1px 1px 1px);clip: rect(1px, 1px, 1px, 1px);height: 1px;margin: -1px;overflow: hidden;padding: 0;position: absolute;width: 1px;}#sk-container-id-1 div.sk-estimator {font-family: monospace;background-color: #f0f8ff;border: 1px dotted black;border-radius: 0.25em;box-sizing: border-box;margin-bottom: 0.5em;}#sk-container-id-1 div.sk-estimator:hover {background-color: #d4ebff;}#sk-container-id-1 div.sk-parallel-item::after {content: \"\";width: 100%;border-bottom: 1px solid gray;flex-grow: 1;}#sk-container-id-1 div.sk-label:hover label.sk-toggleable__label {background-color: #d4ebff;}#sk-container-id-1 div.sk-serial::before {content: \"\";position: absolute;border-left: 1px solid gray;box-sizing: border-box;top: 0;bottom: 0;left: 50%;z-index: 0;}#sk-container-id-1 div.sk-serial {display: flex;flex-direction: column;align-items: center;background-color: white;padding-right: 0.2em;padding-left: 0.2em;position: relative;}#sk-container-id-1 div.sk-item {position: relative;z-index: 1;}#sk-container-id-1 div.sk-parallel {display: flex;align-items: stretch;justify-content: center;background-color: white;position: relative;}#sk-container-id-1 div.sk-item::before, #sk-container-id-1 div.sk-parallel-item::before {content: \"\";position: absolute;border-left: 1px solid gray;box-sizing: border-box;top: 0;bottom: 0;left: 50%;z-index: -1;}#sk-container-id-1 div.sk-parallel-item {display: flex;flex-direction: column;z-index: 1;position: relative;background-color: white;}#sk-container-id-1 div.sk-parallel-item:first-child::after {align-self: flex-end;width: 50%;}#sk-container-id-1 div.sk-parallel-item:last-child::after {align-self: flex-start;width: 50%;}#sk-container-id-1 div.sk-parallel-item:only-child::after {width: 0;}#sk-container-id-1 div.sk-dashed-wrapped {border: 1px dashed gray;margin: 0 0.4em 0.5em 0.4em;box-sizing: border-box;padding-bottom: 0.4em;background-color: white;}#sk-container-id-1 div.sk-label label {font-family: monospace;font-weight: bold;display: inline-block;line-height: 1.2em;}#sk-container-id-1 div.sk-label-container {text-align: center;}#sk-container-id-1 div.sk-container {/* jupyter's `normalize.less` sets `[hidden] { display: none; }` but bootstrap.min.css set `[hidden] { display: none !important; }` so we also need the `!important` here to be able to override the default hidden behavior on the sphinx rendered scikit-learn.org. See: https://github.com/scikit-learn/scikit-learn/issues/21755 */display: inline-block !important;position: relative;}#sk-container-id-1 div.sk-text-repr-fallback {display: none;}</style><div id=\"sk-container-id-1\" class=\"sk-top-container\"><div class=\"sk-text-repr-fallback\"><pre>LinearRegression()</pre><b>In a Jupyter environment, please rerun this cell to show the HTML representation or trust the notebook. <br />On GitHub, the HTML representation is unable to render, please try loading this page with nbviewer.org.</b></div><div class=\"sk-container\" hidden><div class=\"sk-item\"><div class=\"sk-estimator sk-toggleable\"><input class=\"sk-toggleable__control sk-hidden--visually\" id=\"sk-estimator-id-1\" type=\"checkbox\" checked><label for=\"sk-estimator-id-1\" class=\"sk-toggleable__label sk-toggleable__label-arrow\">LinearRegression</label><div class=\"sk-toggleable__content\"><pre>LinearRegression()</pre></div></div></div></div></div>"
      ],
      "text/plain": [
       "LinearRegression()"
      ]
     },
     "execution_count": 15,
     "metadata": {},
     "output_type": "execute_result"
    }
   ],
   "source": [
    "model.fit(X_train, y_train)"
   ]
  },
  {
   "cell_type": "code",
   "execution_count": 16,
   "id": "70ece12e",
   "metadata": {
    "execution": {
     "iopub.execute_input": "2025-04-23T23:50:13.896006Z",
     "iopub.status.busy": "2025-04-23T23:50:13.895660Z",
     "iopub.status.idle": "2025-04-23T23:50:13.915229Z",
     "shell.execute_reply": "2025-04-23T23:50:13.914479Z"
    },
    "papermill": {
     "duration": 0.031154,
     "end_time": "2025-04-23T23:50:13.917374",
     "exception": false,
     "start_time": "2025-04-23T23:50:13.886220",
     "status": "completed"
    },
    "tags": []
   },
   "outputs": [],
   "source": [
    "y_pred = model.predict(X_test)"
   ]
  },
  {
   "cell_type": "code",
   "execution_count": 17,
   "id": "75019c3b",
   "metadata": {
    "execution": {
     "iopub.execute_input": "2025-04-23T23:50:13.950388Z",
     "iopub.status.busy": "2025-04-23T23:50:13.950036Z",
     "iopub.status.idle": "2025-04-23T23:50:13.956051Z",
     "shell.execute_reply": "2025-04-23T23:50:13.955279Z"
    },
    "papermill": {
     "duration": 0.021238,
     "end_time": "2025-04-23T23:50:13.957925",
     "exception": false,
     "start_time": "2025-04-23T23:50:13.936687",
     "status": "completed"
    },
    "tags": []
   },
   "outputs": [],
   "source": [
    "from sklearn.metrics import mean_absolute_error, mean_squared_error, r2_score"
   ]
  },
  {
   "cell_type": "code",
   "execution_count": 18,
   "id": "d7df0dfc",
   "metadata": {
    "execution": {
     "iopub.execute_input": "2025-04-23T23:50:13.974857Z",
     "iopub.status.busy": "2025-04-23T23:50:13.974588Z",
     "iopub.status.idle": "2025-04-23T23:50:13.982341Z",
     "shell.execute_reply": "2025-04-23T23:50:13.981398Z"
    },
    "papermill": {
     "duration": 0.016964,
     "end_time": "2025-04-23T23:50:13.983962",
     "exception": false,
     "start_time": "2025-04-23T23:50:13.966998",
     "status": "completed"
    },
    "tags": []
   },
   "outputs": [],
   "source": [
    "mae = mean_absolute_error(y_test, y_pred)\n",
    "mse = mean_squared_error(y_test, y_pred)\n",
    "r2 = r2_score(y_test, y_pred)\n"
   ]
  },
  {
   "cell_type": "code",
   "execution_count": 19,
   "id": "fef4b40f",
   "metadata": {
    "execution": {
     "iopub.execute_input": "2025-04-23T23:50:13.995195Z",
     "iopub.status.busy": "2025-04-23T23:50:13.994916Z",
     "iopub.status.idle": "2025-04-23T23:50:14.001184Z",
     "shell.execute_reply": "2025-04-23T23:50:13.999844Z"
    },
    "papermill": {
     "duration": 0.014005,
     "end_time": "2025-04-23T23:50:14.002987",
     "exception": false,
     "start_time": "2025-04-23T23:50:13.988982",
     "status": "completed"
    },
    "tags": []
   },
   "outputs": [
    {
     "name": "stdout",
     "output_type": "stream",
     "text": [
      "Mean Absolute Error: 0.44996086732342094\n",
      "Mean Squared Error: 3.252105389718874\n",
      "R-squared: 0.7699265146381085\n"
     ]
    }
   ],
   "source": [
    "print(f'Mean Absolute Error: {mae}')\n",
    "print(f'Mean Squared Error: {mse}')\n",
    "print(f'R-squared: {r2}')"
   ]
  },
  {
   "cell_type": "markdown",
   "id": "71f8b58b",
   "metadata": {
    "papermill": {
     "duration": 0.004783,
     "end_time": "2025-04-23T23:50:14.013069",
     "exception": false,
     "start_time": "2025-04-23T23:50:14.008286",
     "status": "completed"
    },
    "tags": []
   },
   "source": [
    "## Model Performance\n",
    "\n",
    "The performance of the model was evaluated using several metrics:\n",
    "\n",
    "- **Mean Absolute Error (MAE):** 0.45  \n",
    "    The average absolute difference between the predicted and actual values. A lower value indicates better performance.\n",
    "\n",
    "- **Mean Squared Error (MSE):** 3.25  \n",
    "    The average squared difference between the predicted and actual values. This penalizes larger errors more than MAE.\n",
    "\n",
    "- **R-squared (R²):** 0.77  \n",
    "    The coefficient of determination, indicating how well the model explains the variance in the target variable. An R² value closer to 1 suggests a better fit.\n",
    "\n",
    "These results show that the model performs well, explaining about 77% of the variance in exam scores based on the provided features.\n"
   ]
  }
 ],
 "metadata": {
  "kaggle": {
   "accelerator": "none",
   "dataSources": [
    {
     "datasetId": 5630996,
     "sourceId": 10020238,
     "sourceType": "datasetVersion"
    }
   ],
   "dockerImageVersionId": 31012,
   "isGpuEnabled": false,
   "isInternetEnabled": true,
   "language": "python",
   "sourceType": "notebook"
  },
  "kernelspec": {
   "display_name": "Python 3",
   "language": "python",
   "name": "python3"
  },
  "language_info": {
   "codemirror_mode": {
    "name": "ipython",
    "version": 3
   },
   "file_extension": ".py",
   "mimetype": "text/x-python",
   "name": "python",
   "nbconvert_exporter": "python",
   "pygments_lexer": "ipython3",
   "version": "3.11.11"
  },
  "papermill": {
   "default_parameters": {},
   "duration": 10.581163,
   "end_time": "2025-04-23T23:50:14.738687",
   "environment_variables": {},
   "exception": null,
   "input_path": "__notebook__.ipynb",
   "output_path": "__notebook__.ipynb",
   "parameters": {},
   "start_time": "2025-04-23T23:50:04.157524",
   "version": "2.6.0"
  }
 },
 "nbformat": 4,
 "nbformat_minor": 5
}
