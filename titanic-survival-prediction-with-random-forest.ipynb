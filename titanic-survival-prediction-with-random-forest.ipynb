{
 "cells": [
  {
   "cell_type": "code",
   "execution_count": 1,
   "id": "5ebeb796",
   "metadata": {
    "execution": {
     "iopub.execute_input": "2025-04-25T23:17:53.380405Z",
     "iopub.status.busy": "2025-04-25T23:17:53.379983Z",
     "iopub.status.idle": "2025-04-25T23:17:57.175719Z",
     "shell.execute_reply": "2025-04-25T23:17:57.174529Z"
    },
    "papermill": {
     "duration": 3.80457,
     "end_time": "2025-04-25T23:17:57.177678",
     "exception": false,
     "start_time": "2025-04-25T23:17:53.373108",
     "status": "completed"
    },
    "tags": []
   },
   "outputs": [],
   "source": [
    "import pandas as pd\n",
    "from sklearn.model_selection import train_test_split\n",
    "from sklearn.ensemble import RandomForestClassifier\n",
    "from sklearn.impute import SimpleImputer\n",
    "from sklearn.metrics import accuracy_score"
   ]
  },
  {
   "cell_type": "code",
   "execution_count": 2,
   "id": "cea37dd2",
   "metadata": {
    "execution": {
     "iopub.execute_input": "2025-04-25T23:17:57.189631Z",
     "iopub.status.busy": "2025-04-25T23:17:57.189141Z",
     "iopub.status.idle": "2025-04-25T23:17:57.214570Z",
     "shell.execute_reply": "2025-04-25T23:17:57.213662Z"
    },
    "papermill": {
     "duration": 0.033038,
     "end_time": "2025-04-25T23:17:57.216354",
     "exception": false,
     "start_time": "2025-04-25T23:17:57.183316",
     "status": "completed"
    },
    "tags": []
   },
   "outputs": [],
   "source": [
    "df=pd.read_csv('/kaggle/input/titanic-machine-learning-from-disaster/train.csv')"
   ]
  },
  {
   "cell_type": "markdown",
   "id": "3c911ede",
   "metadata": {
    "papermill": {
     "duration": 0.005236,
     "end_time": "2025-04-25T23:17:57.226784",
     "exception": false,
     "start_time": "2025-04-25T23:17:57.221548",
     "status": "completed"
    },
    "tags": []
   },
   "source": [
    "Upload data"
   ]
  },
  {
   "cell_type": "code",
   "execution_count": 3,
   "id": "688d55b7",
   "metadata": {
    "execution": {
     "iopub.execute_input": "2025-04-25T23:17:57.237291Z",
     "iopub.status.busy": "2025-04-25T23:17:57.236951Z",
     "iopub.status.idle": "2025-04-25T23:17:57.266236Z",
     "shell.execute_reply": "2025-04-25T23:17:57.265175Z"
    },
    "papermill": {
     "duration": 0.036534,
     "end_time": "2025-04-25T23:17:57.267939",
     "exception": false,
     "start_time": "2025-04-25T23:17:57.231405",
     "status": "completed"
    },
    "tags": []
   },
   "outputs": [
    {
     "data": {
      "text/html": [
       "<div>\n",
       "<style scoped>\n",
       "    .dataframe tbody tr th:only-of-type {\n",
       "        vertical-align: middle;\n",
       "    }\n",
       "\n",
       "    .dataframe tbody tr th {\n",
       "        vertical-align: top;\n",
       "    }\n",
       "\n",
       "    .dataframe thead th {\n",
       "        text-align: right;\n",
       "    }\n",
       "</style>\n",
       "<table border=\"1\" class=\"dataframe\">\n",
       "  <thead>\n",
       "    <tr style=\"text-align: right;\">\n",
       "      <th></th>\n",
       "      <th>PassengerId</th>\n",
       "      <th>Survived</th>\n",
       "      <th>Pclass</th>\n",
       "      <th>Name</th>\n",
       "      <th>Sex</th>\n",
       "      <th>Age</th>\n",
       "      <th>SibSp</th>\n",
       "      <th>Parch</th>\n",
       "      <th>Ticket</th>\n",
       "      <th>Fare</th>\n",
       "      <th>Cabin</th>\n",
       "      <th>Embarked</th>\n",
       "    </tr>\n",
       "  </thead>\n",
       "  <tbody>\n",
       "    <tr>\n",
       "      <th>0</th>\n",
       "      <td>1</td>\n",
       "      <td>0</td>\n",
       "      <td>3</td>\n",
       "      <td>Braund, Mr. Owen Harris</td>\n",
       "      <td>male</td>\n",
       "      <td>22.0</td>\n",
       "      <td>1</td>\n",
       "      <td>0</td>\n",
       "      <td>A/5 21171</td>\n",
       "      <td>7.2500</td>\n",
       "      <td>NaN</td>\n",
       "      <td>S</td>\n",
       "    </tr>\n",
       "    <tr>\n",
       "      <th>1</th>\n",
       "      <td>2</td>\n",
       "      <td>1</td>\n",
       "      <td>1</td>\n",
       "      <td>Cumings, Mrs. John Bradley (Florence Briggs Th...</td>\n",
       "      <td>female</td>\n",
       "      <td>38.0</td>\n",
       "      <td>1</td>\n",
       "      <td>0</td>\n",
       "      <td>PC 17599</td>\n",
       "      <td>71.2833</td>\n",
       "      <td>C85</td>\n",
       "      <td>C</td>\n",
       "    </tr>\n",
       "    <tr>\n",
       "      <th>2</th>\n",
       "      <td>3</td>\n",
       "      <td>1</td>\n",
       "      <td>3</td>\n",
       "      <td>Heikkinen, Miss. Laina</td>\n",
       "      <td>female</td>\n",
       "      <td>26.0</td>\n",
       "      <td>0</td>\n",
       "      <td>0</td>\n",
       "      <td>STON/O2. 3101282</td>\n",
       "      <td>7.9250</td>\n",
       "      <td>NaN</td>\n",
       "      <td>S</td>\n",
       "    </tr>\n",
       "    <tr>\n",
       "      <th>3</th>\n",
       "      <td>4</td>\n",
       "      <td>1</td>\n",
       "      <td>1</td>\n",
       "      <td>Futrelle, Mrs. Jacques Heath (Lily May Peel)</td>\n",
       "      <td>female</td>\n",
       "      <td>35.0</td>\n",
       "      <td>1</td>\n",
       "      <td>0</td>\n",
       "      <td>113803</td>\n",
       "      <td>53.1000</td>\n",
       "      <td>C123</td>\n",
       "      <td>S</td>\n",
       "    </tr>\n",
       "    <tr>\n",
       "      <th>4</th>\n",
       "      <td>5</td>\n",
       "      <td>0</td>\n",
       "      <td>3</td>\n",
       "      <td>Allen, Mr. William Henry</td>\n",
       "      <td>male</td>\n",
       "      <td>35.0</td>\n",
       "      <td>0</td>\n",
       "      <td>0</td>\n",
       "      <td>373450</td>\n",
       "      <td>8.0500</td>\n",
       "      <td>NaN</td>\n",
       "      <td>S</td>\n",
       "    </tr>\n",
       "  </tbody>\n",
       "</table>\n",
       "</div>"
      ],
      "text/plain": [
       "   PassengerId  Survived  Pclass  \\\n",
       "0            1         0       3   \n",
       "1            2         1       1   \n",
       "2            3         1       3   \n",
       "3            4         1       1   \n",
       "4            5         0       3   \n",
       "\n",
       "                                                Name     Sex   Age  SibSp  \\\n",
       "0                            Braund, Mr. Owen Harris    male  22.0      1   \n",
       "1  Cumings, Mrs. John Bradley (Florence Briggs Th...  female  38.0      1   \n",
       "2                             Heikkinen, Miss. Laina  female  26.0      0   \n",
       "3       Futrelle, Mrs. Jacques Heath (Lily May Peel)  female  35.0      1   \n",
       "4                           Allen, Mr. William Henry    male  35.0      0   \n",
       "\n",
       "   Parch            Ticket     Fare Cabin Embarked  \n",
       "0      0         A/5 21171   7.2500   NaN        S  \n",
       "1      0          PC 17599  71.2833   C85        C  \n",
       "2      0  STON/O2. 3101282   7.9250   NaN        S  \n",
       "3      0            113803  53.1000  C123        S  \n",
       "4      0            373450   8.0500   NaN        S  "
      ]
     },
     "execution_count": 3,
     "metadata": {},
     "output_type": "execute_result"
    }
   ],
   "source": [
    "df.head()"
   ]
  },
  {
   "cell_type": "code",
   "execution_count": 4,
   "id": "6f172bae",
   "metadata": {
    "execution": {
     "iopub.execute_input": "2025-04-25T23:17:57.279922Z",
     "iopub.status.busy": "2025-04-25T23:17:57.279575Z",
     "iopub.status.idle": "2025-04-25T23:17:57.293337Z",
     "shell.execute_reply": "2025-04-25T23:17:57.292287Z"
    },
    "papermill": {
     "duration": 0.021819,
     "end_time": "2025-04-25T23:17:57.295008",
     "exception": false,
     "start_time": "2025-04-25T23:17:57.273189",
     "status": "completed"
    },
    "tags": []
   },
   "outputs": [],
   "source": [
    "df = df.drop(columns=['PassengerId', 'Name', 'Ticket', 'Cabin'])"
   ]
  },
  {
   "cell_type": "markdown",
   "id": "a29aa46a",
   "metadata": {
    "papermill": {
     "duration": 0.004772,
     "end_time": "2025-04-25T23:17:57.304914",
     "exception": false,
     "start_time": "2025-04-25T23:17:57.300142",
     "status": "completed"
    },
    "tags": []
   },
   "source": [
    " Delete unnecessary columns"
   ]
  },
  {
   "cell_type": "code",
   "execution_count": 5,
   "id": "780707bb",
   "metadata": {
    "execution": {
     "iopub.execute_input": "2025-04-25T23:17:57.316741Z",
     "iopub.status.busy": "2025-04-25T23:17:57.316426Z",
     "iopub.status.idle": "2025-04-25T23:17:57.328599Z",
     "shell.execute_reply": "2025-04-25T23:17:57.327636Z"
    },
    "papermill": {
     "duration": 0.020357,
     "end_time": "2025-04-25T23:17:57.330162",
     "exception": false,
     "start_time": "2025-04-25T23:17:57.309805",
     "status": "completed"
    },
    "tags": []
   },
   "outputs": [
    {
     "data": {
      "text/html": [
       "<div>\n",
       "<style scoped>\n",
       "    .dataframe tbody tr th:only-of-type {\n",
       "        vertical-align: middle;\n",
       "    }\n",
       "\n",
       "    .dataframe tbody tr th {\n",
       "        vertical-align: top;\n",
       "    }\n",
       "\n",
       "    .dataframe thead th {\n",
       "        text-align: right;\n",
       "    }\n",
       "</style>\n",
       "<table border=\"1\" class=\"dataframe\">\n",
       "  <thead>\n",
       "    <tr style=\"text-align: right;\">\n",
       "      <th></th>\n",
       "      <th>Survived</th>\n",
       "      <th>Pclass</th>\n",
       "      <th>Sex</th>\n",
       "      <th>Age</th>\n",
       "      <th>SibSp</th>\n",
       "      <th>Parch</th>\n",
       "      <th>Fare</th>\n",
       "      <th>Embarked</th>\n",
       "    </tr>\n",
       "  </thead>\n",
       "  <tbody>\n",
       "    <tr>\n",
       "      <th>0</th>\n",
       "      <td>0</td>\n",
       "      <td>3</td>\n",
       "      <td>male</td>\n",
       "      <td>22.0</td>\n",
       "      <td>1</td>\n",
       "      <td>0</td>\n",
       "      <td>7.2500</td>\n",
       "      <td>S</td>\n",
       "    </tr>\n",
       "    <tr>\n",
       "      <th>1</th>\n",
       "      <td>1</td>\n",
       "      <td>1</td>\n",
       "      <td>female</td>\n",
       "      <td>38.0</td>\n",
       "      <td>1</td>\n",
       "      <td>0</td>\n",
       "      <td>71.2833</td>\n",
       "      <td>C</td>\n",
       "    </tr>\n",
       "    <tr>\n",
       "      <th>2</th>\n",
       "      <td>1</td>\n",
       "      <td>3</td>\n",
       "      <td>female</td>\n",
       "      <td>26.0</td>\n",
       "      <td>0</td>\n",
       "      <td>0</td>\n",
       "      <td>7.9250</td>\n",
       "      <td>S</td>\n",
       "    </tr>\n",
       "  </tbody>\n",
       "</table>\n",
       "</div>"
      ],
      "text/plain": [
       "   Survived  Pclass     Sex   Age  SibSp  Parch     Fare Embarked\n",
       "0         0       3    male  22.0      1      0   7.2500        S\n",
       "1         1       1  female  38.0      1      0  71.2833        C\n",
       "2         1       3  female  26.0      0      0   7.9250        S"
      ]
     },
     "execution_count": 5,
     "metadata": {},
     "output_type": "execute_result"
    }
   ],
   "source": [
    "df.head(3)"
   ]
  },
  {
   "cell_type": "code",
   "execution_count": 6,
   "id": "c4da4386",
   "metadata": {
    "execution": {
     "iopub.execute_input": "2025-04-25T23:17:57.342632Z",
     "iopub.status.busy": "2025-04-25T23:17:57.342328Z",
     "iopub.status.idle": "2025-04-25T23:17:57.346495Z",
     "shell.execute_reply": "2025-04-25T23:17:57.345744Z"
    },
    "papermill": {
     "duration": 0.011838,
     "end_time": "2025-04-25T23:17:57.347879",
     "exception": false,
     "start_time": "2025-04-25T23:17:57.336041",
     "status": "completed"
    },
    "tags": []
   },
   "outputs": [],
   "source": [
    "imputer = SimpleImputer(strategy='mean')"
   ]
  },
  {
   "cell_type": "code",
   "execution_count": 7,
   "id": "f7a154b9",
   "metadata": {
    "execution": {
     "iopub.execute_input": "2025-04-25T23:17:57.359824Z",
     "iopub.status.busy": "2025-04-25T23:17:57.359466Z",
     "iopub.status.idle": "2025-04-25T23:17:57.369458Z",
     "shell.execute_reply": "2025-04-25T23:17:57.368706Z"
    },
    "papermill": {
     "duration": 0.01771,
     "end_time": "2025-04-25T23:17:57.370781",
     "exception": false,
     "start_time": "2025-04-25T23:17:57.353071",
     "status": "completed"
    },
    "tags": []
   },
   "outputs": [],
   "source": [
    "df['Age'] = imputer.fit_transform(df[['Age']])"
   ]
  },
  {
   "cell_type": "code",
   "execution_count": 8,
   "id": "0f02cee4",
   "metadata": {
    "execution": {
     "iopub.execute_input": "2025-04-25T23:17:57.382532Z",
     "iopub.status.busy": "2025-04-25T23:17:57.382156Z",
     "iopub.status.idle": "2025-04-25T23:17:57.389677Z",
     "shell.execute_reply": "2025-04-25T23:17:57.388955Z"
    },
    "papermill": {
     "duration": 0.01491,
     "end_time": "2025-04-25T23:17:57.391007",
     "exception": false,
     "start_time": "2025-04-25T23:17:57.376097",
     "status": "completed"
    },
    "tags": []
   },
   "outputs": [],
   "source": [
    "df['Embarked'] = df['Embarked'].fillna(df['Embarked'].mode()[0])"
   ]
  },
  {
   "cell_type": "markdown",
   "id": "946223f6",
   "metadata": {
    "papermill": {
     "duration": 0.005311,
     "end_time": "2025-04-25T23:17:57.401378",
     "exception": false,
     "start_time": "2025-04-25T23:17:57.396067",
     "status": "completed"
    },
    "tags": []
   },
   "source": [
    "Fill in missing data"
   ]
  },
  {
   "cell_type": "code",
   "execution_count": 9,
   "id": "cc03409a",
   "metadata": {
    "execution": {
     "iopub.execute_input": "2025-04-25T23:17:57.412767Z",
     "iopub.status.busy": "2025-04-25T23:17:57.412121Z",
     "iopub.status.idle": "2025-04-25T23:17:57.423064Z",
     "shell.execute_reply": "2025-04-25T23:17:57.422244Z"
    },
    "papermill": {
     "duration": 0.018253,
     "end_time": "2025-04-25T23:17:57.424582",
     "exception": false,
     "start_time": "2025-04-25T23:17:57.406329",
     "status": "completed"
    },
    "tags": []
   },
   "outputs": [
    {
     "data": {
      "text/html": [
       "<div>\n",
       "<style scoped>\n",
       "    .dataframe tbody tr th:only-of-type {\n",
       "        vertical-align: middle;\n",
       "    }\n",
       "\n",
       "    .dataframe tbody tr th {\n",
       "        vertical-align: top;\n",
       "    }\n",
       "\n",
       "    .dataframe thead th {\n",
       "        text-align: right;\n",
       "    }\n",
       "</style>\n",
       "<table border=\"1\" class=\"dataframe\">\n",
       "  <thead>\n",
       "    <tr style=\"text-align: right;\">\n",
       "      <th></th>\n",
       "      <th>Survived</th>\n",
       "      <th>Pclass</th>\n",
       "      <th>Sex</th>\n",
       "      <th>Age</th>\n",
       "      <th>SibSp</th>\n",
       "      <th>Parch</th>\n",
       "      <th>Fare</th>\n",
       "      <th>Embarked</th>\n",
       "    </tr>\n",
       "  </thead>\n",
       "  <tbody>\n",
       "    <tr>\n",
       "      <th>0</th>\n",
       "      <td>0</td>\n",
       "      <td>3</td>\n",
       "      <td>male</td>\n",
       "      <td>22.0</td>\n",
       "      <td>1</td>\n",
       "      <td>0</td>\n",
       "      <td>7.2500</td>\n",
       "      <td>S</td>\n",
       "    </tr>\n",
       "    <tr>\n",
       "      <th>1</th>\n",
       "      <td>1</td>\n",
       "      <td>1</td>\n",
       "      <td>female</td>\n",
       "      <td>38.0</td>\n",
       "      <td>1</td>\n",
       "      <td>0</td>\n",
       "      <td>71.2833</td>\n",
       "      <td>C</td>\n",
       "    </tr>\n",
       "    <tr>\n",
       "      <th>2</th>\n",
       "      <td>1</td>\n",
       "      <td>3</td>\n",
       "      <td>female</td>\n",
       "      <td>26.0</td>\n",
       "      <td>0</td>\n",
       "      <td>0</td>\n",
       "      <td>7.9250</td>\n",
       "      <td>S</td>\n",
       "    </tr>\n",
       "    <tr>\n",
       "      <th>3</th>\n",
       "      <td>1</td>\n",
       "      <td>1</td>\n",
       "      <td>female</td>\n",
       "      <td>35.0</td>\n",
       "      <td>1</td>\n",
       "      <td>0</td>\n",
       "      <td>53.1000</td>\n",
       "      <td>S</td>\n",
       "    </tr>\n",
       "    <tr>\n",
       "      <th>4</th>\n",
       "      <td>0</td>\n",
       "      <td>3</td>\n",
       "      <td>male</td>\n",
       "      <td>35.0</td>\n",
       "      <td>0</td>\n",
       "      <td>0</td>\n",
       "      <td>8.0500</td>\n",
       "      <td>S</td>\n",
       "    </tr>\n",
       "  </tbody>\n",
       "</table>\n",
       "</div>"
      ],
      "text/plain": [
       "   Survived  Pclass     Sex   Age  SibSp  Parch     Fare Embarked\n",
       "0         0       3    male  22.0      1      0   7.2500        S\n",
       "1         1       1  female  38.0      1      0  71.2833        C\n",
       "2         1       3  female  26.0      0      0   7.9250        S\n",
       "3         1       1  female  35.0      1      0  53.1000        S\n",
       "4         0       3    male  35.0      0      0   8.0500        S"
      ]
     },
     "execution_count": 9,
     "metadata": {},
     "output_type": "execute_result"
    }
   ],
   "source": [
    "df.head()"
   ]
  },
  {
   "cell_type": "code",
   "execution_count": 10,
   "id": "c3ce217d",
   "metadata": {
    "execution": {
     "iopub.execute_input": "2025-04-25T23:17:57.437050Z",
     "iopub.status.busy": "2025-04-25T23:17:57.436327Z",
     "iopub.status.idle": "2025-04-25T23:17:57.441377Z",
     "shell.execute_reply": "2025-04-25T23:17:57.440570Z"
    },
    "papermill": {
     "duration": 0.012803,
     "end_time": "2025-04-25T23:17:57.442780",
     "exception": false,
     "start_time": "2025-04-25T23:17:57.429977",
     "status": "completed"
    },
    "tags": []
   },
   "outputs": [],
   "source": [
    "df['Fare'] = df['Fare'].fillna(df['Fare'].mean())"
   ]
  },
  {
   "cell_type": "markdown",
   "id": "7b1b786b",
   "metadata": {
    "papermill": {
     "duration": 0.005015,
     "end_time": "2025-04-25T23:17:57.453052",
     "exception": false,
     "start_time": "2025-04-25T23:17:57.448037",
     "status": "completed"
    },
    "tags": []
   },
   "source": [
    "Fill in missing data"
   ]
  },
  {
   "cell_type": "code",
   "execution_count": 11,
   "id": "effe1a7d",
   "metadata": {
    "execution": {
     "iopub.execute_input": "2025-04-25T23:17:57.464656Z",
     "iopub.status.busy": "2025-04-25T23:17:57.464378Z",
     "iopub.status.idle": "2025-04-25T23:17:57.471320Z",
     "shell.execute_reply": "2025-04-25T23:17:57.470300Z"
    },
    "papermill": {
     "duration": 0.014532,
     "end_time": "2025-04-25T23:17:57.472883",
     "exception": false,
     "start_time": "2025-04-25T23:17:57.458351",
     "status": "completed"
    },
    "tags": []
   },
   "outputs": [],
   "source": [
    "df['Sex'] = df['Sex'].map({'male': 0, 'female': 1})\n",
    "df['Embarked'] = df['Embarked'].map({'C': 0, 'Q': 1, 'S': 2})"
   ]
  },
  {
   "cell_type": "markdown",
   "id": "d83e0416",
   "metadata": {
    "papermill": {
     "duration": 0.005029,
     "end_time": "2025-04-25T23:17:57.483409",
     "exception": false,
     "start_time": "2025-04-25T23:17:57.478380",
     "status": "completed"
    },
    "tags": []
   },
   "source": [
    "We digitize categorical data."
   ]
  },
  {
   "cell_type": "code",
   "execution_count": 12,
   "id": "3e3e306a",
   "metadata": {
    "execution": {
     "iopub.execute_input": "2025-04-25T23:17:57.494876Z",
     "iopub.status.busy": "2025-04-25T23:17:57.494597Z",
     "iopub.status.idle": "2025-04-25T23:17:57.505006Z",
     "shell.execute_reply": "2025-04-25T23:17:57.504251Z"
    },
    "papermill": {
     "duration": 0.017792,
     "end_time": "2025-04-25T23:17:57.506339",
     "exception": false,
     "start_time": "2025-04-25T23:17:57.488547",
     "status": "completed"
    },
    "tags": []
   },
   "outputs": [
    {
     "data": {
      "text/html": [
       "<div>\n",
       "<style scoped>\n",
       "    .dataframe tbody tr th:only-of-type {\n",
       "        vertical-align: middle;\n",
       "    }\n",
       "\n",
       "    .dataframe tbody tr th {\n",
       "        vertical-align: top;\n",
       "    }\n",
       "\n",
       "    .dataframe thead th {\n",
       "        text-align: right;\n",
       "    }\n",
       "</style>\n",
       "<table border=\"1\" class=\"dataframe\">\n",
       "  <thead>\n",
       "    <tr style=\"text-align: right;\">\n",
       "      <th></th>\n",
       "      <th>Survived</th>\n",
       "      <th>Pclass</th>\n",
       "      <th>Sex</th>\n",
       "      <th>Age</th>\n",
       "      <th>SibSp</th>\n",
       "      <th>Parch</th>\n",
       "      <th>Fare</th>\n",
       "      <th>Embarked</th>\n",
       "    </tr>\n",
       "  </thead>\n",
       "  <tbody>\n",
       "    <tr>\n",
       "      <th>0</th>\n",
       "      <td>0</td>\n",
       "      <td>3</td>\n",
       "      <td>0</td>\n",
       "      <td>22.0</td>\n",
       "      <td>1</td>\n",
       "      <td>0</td>\n",
       "      <td>7.2500</td>\n",
       "      <td>2</td>\n",
       "    </tr>\n",
       "    <tr>\n",
       "      <th>1</th>\n",
       "      <td>1</td>\n",
       "      <td>1</td>\n",
       "      <td>1</td>\n",
       "      <td>38.0</td>\n",
       "      <td>1</td>\n",
       "      <td>0</td>\n",
       "      <td>71.2833</td>\n",
       "      <td>0</td>\n",
       "    </tr>\n",
       "    <tr>\n",
       "      <th>2</th>\n",
       "      <td>1</td>\n",
       "      <td>3</td>\n",
       "      <td>1</td>\n",
       "      <td>26.0</td>\n",
       "      <td>0</td>\n",
       "      <td>0</td>\n",
       "      <td>7.9250</td>\n",
       "      <td>2</td>\n",
       "    </tr>\n",
       "  </tbody>\n",
       "</table>\n",
       "</div>"
      ],
      "text/plain": [
       "   Survived  Pclass  Sex   Age  SibSp  Parch     Fare  Embarked\n",
       "0         0       3    0  22.0      1      0   7.2500         2\n",
       "1         1       1    1  38.0      1      0  71.2833         0\n",
       "2         1       3    1  26.0      0      0   7.9250         2"
      ]
     },
     "execution_count": 12,
     "metadata": {},
     "output_type": "execute_result"
    }
   ],
   "source": [
    "df.head(3)"
   ]
  },
  {
   "cell_type": "code",
   "execution_count": 13,
   "id": "8e41b6bb",
   "metadata": {
    "execution": {
     "iopub.execute_input": "2025-04-25T23:17:57.519354Z",
     "iopub.status.busy": "2025-04-25T23:17:57.518648Z",
     "iopub.status.idle": "2025-04-25T23:17:57.524223Z",
     "shell.execute_reply": "2025-04-25T23:17:57.523273Z"
    },
    "papermill": {
     "duration": 0.013542,
     "end_time": "2025-04-25T23:17:57.525653",
     "exception": false,
     "start_time": "2025-04-25T23:17:57.512111",
     "status": "completed"
    },
    "tags": []
   },
   "outputs": [],
   "source": [
    "X = df.drop(['Survived'], axis=1)\n",
    "y = df['Survived']"
   ]
  },
  {
   "cell_type": "markdown",
   "id": "128c917f",
   "metadata": {
    "papermill": {
     "duration": 0.005056,
     "end_time": "2025-04-25T23:17:57.536320",
     "exception": false,
     "start_time": "2025-04-25T23:17:57.531264",
     "status": "completed"
    },
    "tags": []
   },
   "source": [
    " Create features (X) and target variable (y)"
   ]
  },
  {
   "cell_type": "code",
   "execution_count": 14,
   "id": "d75f6cb6",
   "metadata": {
    "execution": {
     "iopub.execute_input": "2025-04-25T23:17:57.548089Z",
     "iopub.status.busy": "2025-04-25T23:17:57.547793Z",
     "iopub.status.idle": "2025-04-25T23:17:57.555549Z",
     "shell.execute_reply": "2025-04-25T23:17:57.554605Z"
    },
    "papermill": {
     "duration": 0.015418,
     "end_time": "2025-04-25T23:17:57.557015",
     "exception": false,
     "start_time": "2025-04-25T23:17:57.541597",
     "status": "completed"
    },
    "tags": []
   },
   "outputs": [],
   "source": [
    "X_train, X_test, y_train, y_test = train_test_split(X, y, test_size=0.2, random_state=42)"
   ]
  },
  {
   "cell_type": "markdown",
   "id": "502dd843",
   "metadata": {
    "papermill": {
     "duration": 0.005026,
     "end_time": "2025-04-25T23:17:57.567569",
     "exception": false,
     "start_time": "2025-04-25T23:17:57.562543",
     "status": "completed"
    },
    "tags": []
   },
   "source": [
    "Divide the data into training and test sets"
   ]
  },
  {
   "cell_type": "code",
   "execution_count": 15,
   "id": "457cffbf",
   "metadata": {
    "execution": {
     "iopub.execute_input": "2025-04-25T23:17:57.579869Z",
     "iopub.status.busy": "2025-04-25T23:17:57.579549Z",
     "iopub.status.idle": "2025-04-25T23:17:57.775590Z",
     "shell.execute_reply": "2025-04-25T23:17:57.774654Z"
    },
    "papermill": {
     "duration": 0.203844,
     "end_time": "2025-04-25T23:17:57.777114",
     "exception": false,
     "start_time": "2025-04-25T23:17:57.573270",
     "status": "completed"
    },
    "tags": []
   },
   "outputs": [
    {
     "data": {
      "text/html": [
       "<style>#sk-container-id-1 {color: black;background-color: white;}#sk-container-id-1 pre{padding: 0;}#sk-container-id-1 div.sk-toggleable {background-color: white;}#sk-container-id-1 label.sk-toggleable__label {cursor: pointer;display: block;width: 100%;margin-bottom: 0;padding: 0.3em;box-sizing: border-box;text-align: center;}#sk-container-id-1 label.sk-toggleable__label-arrow:before {content: \"▸\";float: left;margin-right: 0.25em;color: #696969;}#sk-container-id-1 label.sk-toggleable__label-arrow:hover:before {color: black;}#sk-container-id-1 div.sk-estimator:hover label.sk-toggleable__label-arrow:before {color: black;}#sk-container-id-1 div.sk-toggleable__content {max-height: 0;max-width: 0;overflow: hidden;text-align: left;background-color: #f0f8ff;}#sk-container-id-1 div.sk-toggleable__content pre {margin: 0.2em;color: black;border-radius: 0.25em;background-color: #f0f8ff;}#sk-container-id-1 input.sk-toggleable__control:checked~div.sk-toggleable__content {max-height: 200px;max-width: 100%;overflow: auto;}#sk-container-id-1 input.sk-toggleable__control:checked~label.sk-toggleable__label-arrow:before {content: \"▾\";}#sk-container-id-1 div.sk-estimator input.sk-toggleable__control:checked~label.sk-toggleable__label {background-color: #d4ebff;}#sk-container-id-1 div.sk-label input.sk-toggleable__control:checked~label.sk-toggleable__label {background-color: #d4ebff;}#sk-container-id-1 input.sk-hidden--visually {border: 0;clip: rect(1px 1px 1px 1px);clip: rect(1px, 1px, 1px, 1px);height: 1px;margin: -1px;overflow: hidden;padding: 0;position: absolute;width: 1px;}#sk-container-id-1 div.sk-estimator {font-family: monospace;background-color: #f0f8ff;border: 1px dotted black;border-radius: 0.25em;box-sizing: border-box;margin-bottom: 0.5em;}#sk-container-id-1 div.sk-estimator:hover {background-color: #d4ebff;}#sk-container-id-1 div.sk-parallel-item::after {content: \"\";width: 100%;border-bottom: 1px solid gray;flex-grow: 1;}#sk-container-id-1 div.sk-label:hover label.sk-toggleable__label {background-color: #d4ebff;}#sk-container-id-1 div.sk-serial::before {content: \"\";position: absolute;border-left: 1px solid gray;box-sizing: border-box;top: 0;bottom: 0;left: 50%;z-index: 0;}#sk-container-id-1 div.sk-serial {display: flex;flex-direction: column;align-items: center;background-color: white;padding-right: 0.2em;padding-left: 0.2em;position: relative;}#sk-container-id-1 div.sk-item {position: relative;z-index: 1;}#sk-container-id-1 div.sk-parallel {display: flex;align-items: stretch;justify-content: center;background-color: white;position: relative;}#sk-container-id-1 div.sk-item::before, #sk-container-id-1 div.sk-parallel-item::before {content: \"\";position: absolute;border-left: 1px solid gray;box-sizing: border-box;top: 0;bottom: 0;left: 50%;z-index: -1;}#sk-container-id-1 div.sk-parallel-item {display: flex;flex-direction: column;z-index: 1;position: relative;background-color: white;}#sk-container-id-1 div.sk-parallel-item:first-child::after {align-self: flex-end;width: 50%;}#sk-container-id-1 div.sk-parallel-item:last-child::after {align-self: flex-start;width: 50%;}#sk-container-id-1 div.sk-parallel-item:only-child::after {width: 0;}#sk-container-id-1 div.sk-dashed-wrapped {border: 1px dashed gray;margin: 0 0.4em 0.5em 0.4em;box-sizing: border-box;padding-bottom: 0.4em;background-color: white;}#sk-container-id-1 div.sk-label label {font-family: monospace;font-weight: bold;display: inline-block;line-height: 1.2em;}#sk-container-id-1 div.sk-label-container {text-align: center;}#sk-container-id-1 div.sk-container {/* jupyter's `normalize.less` sets `[hidden] { display: none; }` but bootstrap.min.css set `[hidden] { display: none !important; }` so we also need the `!important` here to be able to override the default hidden behavior on the sphinx rendered scikit-learn.org. See: https://github.com/scikit-learn/scikit-learn/issues/21755 */display: inline-block !important;position: relative;}#sk-container-id-1 div.sk-text-repr-fallback {display: none;}</style><div id=\"sk-container-id-1\" class=\"sk-top-container\"><div class=\"sk-text-repr-fallback\"><pre>RandomForestClassifier(random_state=42)</pre><b>In a Jupyter environment, please rerun this cell to show the HTML representation or trust the notebook. <br />On GitHub, the HTML representation is unable to render, please try loading this page with nbviewer.org.</b></div><div class=\"sk-container\" hidden><div class=\"sk-item\"><div class=\"sk-estimator sk-toggleable\"><input class=\"sk-toggleable__control sk-hidden--visually\" id=\"sk-estimator-id-1\" type=\"checkbox\" checked><label for=\"sk-estimator-id-1\" class=\"sk-toggleable__label sk-toggleable__label-arrow\">RandomForestClassifier</label><div class=\"sk-toggleable__content\"><pre>RandomForestClassifier(random_state=42)</pre></div></div></div></div></div>"
      ],
      "text/plain": [
       "RandomForestClassifier(random_state=42)"
      ]
     },
     "execution_count": 15,
     "metadata": {},
     "output_type": "execute_result"
    }
   ],
   "source": [
    "model = RandomForestClassifier(n_estimators=100, random_state=42)\n",
    "model.fit(X_train, y_train)"
   ]
  },
  {
   "cell_type": "markdown",
   "id": "a60426bb",
   "metadata": {
    "papermill": {
     "duration": 0.005351,
     "end_time": "2025-04-25T23:17:57.788509",
     "exception": false,
     "start_time": "2025-04-25T23:17:57.783158",
     "status": "completed"
    },
    "tags": []
   },
   "source": [
    "Let's train the model"
   ]
  },
  {
   "cell_type": "code",
   "execution_count": 16,
   "id": "f5b68f99",
   "metadata": {
    "execution": {
     "iopub.execute_input": "2025-04-25T23:17:57.800931Z",
     "iopub.status.busy": "2025-04-25T23:17:57.800596Z",
     "iopub.status.idle": "2025-04-25T23:17:57.816716Z",
     "shell.execute_reply": "2025-04-25T23:17:57.815631Z"
    },
    "papermill": {
     "duration": 0.024347,
     "end_time": "2025-04-25T23:17:57.818516",
     "exception": false,
     "start_time": "2025-04-25T23:17:57.794169",
     "status": "completed"
    },
    "tags": []
   },
   "outputs": [],
   "source": [
    "y_pred = model.predict(X_test)\n",
    "accuracy = accuracy_score(y_test, y_pred)"
   ]
  },
  {
   "cell_type": "markdown",
   "id": "070a20f0",
   "metadata": {
    "papermill": {
     "duration": 0.005243,
     "end_time": "2025-04-25T23:17:57.829806",
     "exception": false,
     "start_time": "2025-04-25T23:17:57.824563",
     "status": "completed"
    },
    "tags": []
   },
   "source": [
    "Calculate the accuracy of the model"
   ]
  },
  {
   "cell_type": "code",
   "execution_count": 17,
   "id": "4f82b9da",
   "metadata": {
    "execution": {
     "iopub.execute_input": "2025-04-25T23:17:57.842187Z",
     "iopub.status.busy": "2025-04-25T23:17:57.841849Z",
     "iopub.status.idle": "2025-04-25T23:17:57.847754Z",
     "shell.execute_reply": "2025-04-25T23:17:57.846882Z"
    },
    "papermill": {
     "duration": 0.013806,
     "end_time": "2025-04-25T23:17:57.849152",
     "exception": false,
     "start_time": "2025-04-25T23:17:57.835346",
     "status": "completed"
    },
    "tags": []
   },
   "outputs": [
    {
     "data": {
      "text/plain": [
       "0.8100558659217877"
      ]
     },
     "execution_count": 17,
     "metadata": {},
     "output_type": "execute_result"
    }
   ],
   "source": [
    "accuracy"
   ]
  },
  {
   "cell_type": "markdown",
   "id": "376427e5",
   "metadata": {
    "papermill": {
     "duration": 0.005267,
     "end_time": "2025-04-25T23:17:57.860273",
     "exception": false,
     "start_time": "2025-04-25T23:17:57.855006",
     "status": "completed"
    },
    "tags": []
   },
   "source": [
    "Rotating accuracy"
   ]
  },
  {
   "cell_type": "code",
   "execution_count": 18,
   "id": "8a1b547c",
   "metadata": {
    "execution": {
     "iopub.execute_input": "2025-04-25T23:17:57.872427Z",
     "iopub.status.busy": "2025-04-25T23:17:57.872092Z",
     "iopub.status.idle": "2025-04-25T23:17:57.876455Z",
     "shell.execute_reply": "2025-04-25T23:17:57.875513Z"
    },
    "papermill": {
     "duration": 0.012279,
     "end_time": "2025-04-25T23:17:57.878060",
     "exception": false,
     "start_time": "2025-04-25T23:17:57.865781",
     "status": "completed"
    },
    "tags": []
   },
   "outputs": [],
   "source": [
    "import matplotlib.pyplot as plt"
   ]
  },
  {
   "cell_type": "code",
   "execution_count": 19,
   "id": "f4401057",
   "metadata": {
    "execution": {
     "iopub.execute_input": "2025-04-25T23:17:57.890823Z",
     "iopub.status.busy": "2025-04-25T23:17:57.890515Z",
     "iopub.status.idle": "2025-04-25T23:17:57.896529Z",
     "shell.execute_reply": "2025-04-25T23:17:57.895573Z"
    },
    "papermill": {
     "duration": 0.014143,
     "end_time": "2025-04-25T23:17:57.898030",
     "exception": false,
     "start_time": "2025-04-25T23:17:57.883887",
     "status": "completed"
    },
    "tags": []
   },
   "outputs": [],
   "source": [
    "accuracy = accuracy_score(y_test, y_pred)"
   ]
  },
  {
   "cell_type": "code",
   "execution_count": 20,
   "id": "b60d0fec",
   "metadata": {
    "execution": {
     "iopub.execute_input": "2025-04-25T23:17:57.910482Z",
     "iopub.status.busy": "2025-04-25T23:17:57.910130Z",
     "iopub.status.idle": "2025-04-25T23:17:58.113711Z",
     "shell.execute_reply": "2025-04-25T23:17:58.112753Z"
    },
    "papermill": {
     "duration": 0.211278,
     "end_time": "2025-04-25T23:17:58.115034",
     "exception": false,
     "start_time": "2025-04-25T23:17:57.903756",
     "status": "completed"
    },
    "tags": []
   },
   "outputs": [
    {
     "data": {
      "image/png": "[encoded data removed]",
      "text/plain": [
       "<Figure size 640x480 with 1 Axes>"
      ]
     },
     "metadata": {},
     "output_type": "display_data"
    }
   ],
   "source": [
    "plt.bar(['Accuracy'], [accuracy])\n",
    "plt.ylim(0, 1)\n",
    "plt.title('Model Accuracy')\n",
    "plt.show()"
   ]
  },
  {
   "cell_type": "markdown",
   "id": "e1c004e2",
   "metadata": {
    "papermill": {
     "duration": 0.005561,
     "end_time": "2025-04-25T23:17:58.126792",
     "exception": false,
     "start_time": "2025-04-25T23:17:58.121231",
     "status": "completed"
    },
    "tags": []
   },
   "source": [
    "# Titanic: Survival Prediction\n",
    "\n",
    "In this project, we used the Titanic dataset to predict whether passengers survived or not using a machine learning model. Initially, our model's accuracy was around 39%. However, after cleaning the data, properly handling missing values, and converting categorical data into numerical data, we were able to improve the model's accuracy to approximately 80%.\n",
    "\n",
    "## Steps:\n",
    "\n",
    "1. **Data Cleaning**: \n",
    "   - We handled missing data by filling it with the mean.\n",
    "   - Removed unnecessary columns that were irrelevant to the prediction.\n",
    "\n",
    "2. **Converting Categorical Data to Numeric**:\n",
    "   - We converted categorical data such as 'Sex' and 'Embarked' into numeric values using encoding techniques.\n",
    "\n",
    "3. **Model Selection and Improvement**:\n",
    "   - Initially, we used a simpler model, but later we switched to a **Random Forest Classifier** to improve accuracy.\n",
    "\n",
    "4. **Results**:\n",
    "   - We started with an accuracy of **39%**, but after making the necessary adjustments, we increased it to approximately **80%**.\n",
    "\n",
    "## Next Steps:\n",
    "\n",
    "- We can further enhance the model by experimenting with hyperparameter optimization and trying other machine learning algorithms to further improve accuracy.\n"
   ]
  }
 ],
 "metadata": {
  "kaggle": {
   "accelerator": "none",
   "dataSources": [
    {
     "datasetId": 3064,
     "sourceId": 5101,
     "sourceType": "datasetVersion"
    }
   ],
   "dockerImageVersionId": 31012,
   "isGpuEnabled": false,
   "isInternetEnabled": true,
   "language": "python",
   "sourceType": "notebook"
  },
  "kernelspec": {
   "display_name": "Python 3",
   "language": "python",
   "name": "python3"
  },
  "language_info": {
   "codemirror_mode": {
    "name": "ipython",
    "version": 3
   },
   "file_extension": ".py",
   "mimetype": "text/x-python",
   "name": "python",
   "nbconvert_exporter": "python",
   "pygments_lexer": "ipython3",
   "version": "3.11.11"
  },
  "papermill": {
   "default_parameters": {},
   "duration": 10.302897,
   "end_time": "2025-04-25T23:17:58.852546",
   "environment_variables": {},
   "exception": null,
   "input_path": "__notebook__.ipynb",
   "output_path": "__notebook__.ipynb",
   "parameters": {},
   "start_time": "2025-04-25T23:17:48.549649",
   "version": "2.6.0"
  }
 },
 "nbformat": 4,
 "nbformat_minor": 5
}
