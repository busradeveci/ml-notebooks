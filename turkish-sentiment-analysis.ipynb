{
 "cells": [
  {
   "cell_type": "markdown",
   "id": "a945b1a0",
   "metadata": {
    "papermill": {
     "duration": 0.004121,
     "end_time": "2025-06-12T02:01:34.145257",
     "exception": false,
     "start_time": "2025-06-12T02:01:34.141136",
     "status": "completed"
    },
    "tags": []
   },
   "source": [
    "### [Türkçe Film Yorumları Duygu Analizi (Başlangıç Seviyesi)\n",
    "\n",
    "Bu proje, Kaggle’daki “Turkish Movie Sentiment Analysis Dataset” veri setini kullanarak Türkçe film yorumlarında duygu analizi yapmayı öğretir. Lojistik Regresyon modeli ile olumlu ve olumsuz duyguları sınıflandıracağız. Kod, NLP’ye yeni başlayanlar için sade ve anlaşılırdır."
   ]
  },
  {
   "cell_type": "markdown",
   "id": "2ac594d2",
   "metadata": {
    "papermill": {
     "duration": 0.003029,
     "end_time": "2025-06-12T02:01:34.151827",
     "exception": false,
     "start_time": "2025-06-12T02:01:34.148798",
     "status": "completed"
    },
    "tags": []
   },
   "source": [
    "### 1. Gerekli Kütüphaneleri Yükleme\n",
    "\n",
    "Ne yapıyoruz?\n",
    "Veriyi işlemek ve model oluşturmak için gerekli Python kütüphanelerini yüklüyoruz."
   ]
  },
  {
   "cell_type": "code",
   "execution_count": 1,
   "id": "566eee5c",
   "metadata": {
    "execution": {
     "iopub.execute_input": "2025-06-12T02:01:34.159707Z",
     "iopub.status.busy": "2025-06-12T02:01:34.159320Z",
     "iopub.status.idle": "2025-06-12T02:01:39.174950Z",
     "shell.execute_reply": "2025-06-12T02:01:39.173691Z"
    },
    "papermill": {
     "duration": 5.022141,
     "end_time": "2025-06-12T02:01:39.177260",
     "exception": false,
     "start_time": "2025-06-12T02:01:34.155119",
     "status": "completed"
    },
    "tags": []
   },
   "outputs": [
    {
     "name": "stderr",
     "output_type": "stream",
     "text": [
      "[nltk_data] Downloading package stopwords to /usr/share/nltk_data...\n",
      "[nltk_data]   Package stopwords is already up-to-date!\n"
     ]
    },
    {
     "data": {
      "text/plain": [
       "True"
      ]
     },
     "execution_count": 1,
     "metadata": {},
     "output_type": "execute_result"
    }
   ],
   "source": [
    "import pandas as pd\n",
    "import re\n",
    "from sklearn.feature_extraction.text import TfidfVectorizer\n",
    "from sklearn.linear_model import LogisticRegression\n",
    "from sklearn.model_selection import train_test_split\n",
    "from sklearn.metrics import accuracy_score, classification_report\n",
    "from nltk.corpus import stopwords\n",
    "import nltk\n",
    "nltk.download('stopwords')"
   ]
  },
  {
   "cell_type": "markdown",
   "id": "0846d53e",
   "metadata": {
    "papermill": {
     "duration": 0.003739,
     "end_time": "2025-06-12T02:01:39.186974",
     "exception": false,
     "start_time": "2025-06-12T02:01:39.183235",
     "status": "completed"
    },
    "tags": []
   },
   "source": [
    "### 2. Veri Setini Yükleme\n",
    "\n",
    "Ne yapıyoruz?\n",
    "Kaggle’daki “Turkish Movie Sentiment Analysis Dataset” veri setini yüklüyoruz ve ilk 5 satırı görüntülüyoruz."
   ]
  },
  {
   "cell_type": "code",
   "execution_count": 2,
   "id": "27911082",
   "metadata": {
    "execution": {
     "iopub.execute_input": "2025-06-12T02:01:39.195804Z",
     "iopub.status.busy": "2025-06-12T02:01:39.195323Z",
     "iopub.status.idle": "2025-06-12T02:01:40.764317Z",
     "shell.execute_reply": "2025-06-12T02:01:40.763311Z"
    },
    "papermill": {
     "duration": 1.575072,
     "end_time": "2025-06-12T02:01:40.765767",
     "exception": false,
     "start_time": "2025-06-12T02:01:39.190695",
     "status": "completed"
    },
    "tags": []
   },
   "outputs": [
    {
     "name": "stdout",
     "output_type": "stream",
     "text": [
      "                                             comment      film_name point\n",
      "0  \\n                      Jean Reno denince zate...  Sevginin Gücü   5,0\n",
      "1  \\n                      Ekşın falan izlemek is...  Sevginin Gücü   5,0\n",
      "2  \\n                      Bu yapım hakkında öyle...  Sevginin Gücü   5,0\n",
      "3  \\n                      finali yeter... (sting...  Sevginin Gücü   5,0\n",
      "4  \\n                      Jean Reno..\\r\\nbu adam...  Sevginin Gücü   5,0\n"
     ]
    }
   ],
   "source": [
    "df = pd.read_csv('/kaggle/input/turkish-movie-sentiment-analysis-dataset/turkish_movie_sentiment_dataset.csv')\n",
    "print(df.head())"
   ]
  },
  {
   "cell_type": "markdown",
   "id": "4350b130",
   "metadata": {
    "papermill": {
     "duration": 0.003462,
     "end_time": "2025-06-12T02:01:40.772930",
     "exception": false,
     "start_time": "2025-06-12T02:01:40.769468",
     "status": "completed"
    },
    "tags": []
   },
   "source": [
    "### Sınıfları Azaltma\n",
    "\n",
    "Ne yapıyoruz?\n",
    "16 farklı puanı 3 sınıfa indiriyoruz: olumlu (4.0-5.0), nötr (3.0-3.9), olumsuz (0.5-2.5)."
   ]
  },
  {
   "cell_type": "code",
   "execution_count": 3,
   "id": "11054980",
   "metadata": {
    "execution": {
     "iopub.execute_input": "2025-06-12T02:01:40.781524Z",
     "iopub.status.busy": "2025-06-12T02:01:40.781190Z",
     "iopub.status.idle": "2025-06-12T02:01:40.834405Z",
     "shell.execute_reply": "2025-06-12T02:01:40.833297Z"
    },
    "papermill": {
     "duration": 0.059473,
     "end_time": "2025-06-12T02:01:40.835980",
     "exception": false,
     "start_time": "2025-06-12T02:01:40.776507",
     "status": "completed"
    },
    "tags": []
   },
   "outputs": [
    {
     "name": "stdout",
     "output_type": "stream",
     "text": [
      "label\n",
      "olumlu     43336\n",
      "olumsuz    25397\n",
      "nötr       14494\n",
      "Name: count, dtype: int64\n"
     ]
    }
   ],
   "source": [
    "def simplify_labels(point):\n",
    "    point = float(point.replace(',', '.'))  # Virgülü noktaya çevir\n",
    "    if point >= 4.0:\n",
    "        return 'olumlu'\n",
    "    elif point >= 3.0:\n",
    "        return 'nötr'\n",
    "    else:\n",
    "        return 'olumsuz'\n",
    "\n",
    "df['label'] = df['point'].apply(simplify_labels)\n",
    "print(df['label'].value_counts())"
   ]
  },
  {
   "cell_type": "markdown",
   "id": "6a284f52",
   "metadata": {
    "papermill": {
     "duration": 0.003418,
     "end_time": "2025-06-12T02:01:40.843365",
     "exception": false,
     "start_time": "2025-06-12T02:01:40.839947",
     "status": "completed"
    },
    "tags": []
   },
   "source": [
    "#### Not: Veri setinde genellikle comment (yorum) ve point (duygu etiketi, örneğin 1=olumlu, 0=olumsuz) sütunları bulunur. Sütun isimlerini kontrol etmek için print(df.columns) komutunu çalıştırın.\n",
    "\n",
    "### 3. Metinleri Temizleme\n",
    "\n",
    "Ne yapıyoruz?\n",
    "Türkçe metinleri işlemek için şunları yapıyoruz:\n",
    "\n",
    "\n",
    "\n",
    "\n",
    "\n",
    "Harfleri küçük harfe çeviriyoruz.\n",
    "\n",
    "\n",
    "\n",
    "Noktalama işaretlerini ve özel karakterleri kaldırıyoruz.\n",
    "\n",
    "\n",
    "\n",
    "Türkçe gereksiz kelimeleri (stopwords) çıkarıyoruz."
   ]
  },
  {
   "cell_type": "code",
   "execution_count": 4,
   "id": "441c400d",
   "metadata": {
    "execution": {
     "iopub.execute_input": "2025-06-12T02:01:40.851600Z",
     "iopub.status.busy": "2025-06-12T02:01:40.851296Z",
     "iopub.status.idle": "2025-06-12T02:01:42.985967Z",
     "shell.execute_reply": "2025-06-12T02:01:42.984878Z"
    },
    "papermill": {
     "duration": 2.140673,
     "end_time": "2025-06-12T02:01:42.987543",
     "exception": false,
     "start_time": "2025-06-12T02:01:40.846870",
     "status": "completed"
    },
    "tags": []
   },
   "outputs": [
    {
     "name": "stdout",
     "output_type": "stream",
     "text": [
      "0    jean reno denince zaten leon filmi gelir akla ...\n",
      "1    ekşın falan izlemek istiyorsanız bunu izlemeyi...\n",
      "2    yapım hakkında öyle yazabilirim kitap olur yüz...\n",
      "3    finali yeter sting shape of my heart bazıları ...\n",
      "4    jean reno adam kusursuz oyunculugu müthiş film...\n",
      "Name: comment, dtype: object\n"
     ]
    }
   ],
   "source": [
    "# Türkçe stopwords listesi ve eklemeler\n",
    "stop_words = set(stopwords.words('turkish'))\n",
    "stop_words.update(['ve', 'ile', 'de', 'da', 'bir', 'bu', 'şu', 'o'])\n",
    "\n",
    "def clean_text(text):\n",
    "    # Küçük harfe çevir\n",
    "    text = text.lower()\n",
    "    # Noktalama işaretlerini kaldır\n",
    "    text = re.sub(r'[^\\w\\s]', '', text)\n",
    "    # Stopwords'leri kaldır\n",
    "    text = ' '.join([word for word in text.split() if word not in stop_words])\n",
    "    return text\n",
    "\n",
    "df['comment'] = df['comment'].apply(clean_text)\n",
    "print(df['comment'].head())"
   ]
  },
  {
   "cell_type": "markdown",
   "id": "f9158c34",
   "metadata": {
    "papermill": {
     "duration": 0.003654,
     "end_time": "2025-06-12T02:01:42.995115",
     "exception": false,
     "start_time": "2025-06-12T02:01:42.991461",
     "status": "completed"
    },
    "tags": []
   },
   "source": [
    "### 4. Metinleri Sayısal Verilere Çevirme\n",
    "\n",
    "Ne yapıyoruz?\n",
    "Metinleri makine öğrenmesi modelinin anlayacağı sayılara çevirmek için TF-IDF kullanıyoruz."
   ]
  },
  {
   "cell_type": "code",
   "execution_count": 5,
   "id": "b17088eb",
   "metadata": {
    "execution": {
     "iopub.execute_input": "2025-06-12T02:01:43.003721Z",
     "iopub.status.busy": "2025-06-12T02:01:43.003358Z",
     "iopub.status.idle": "2025-06-12T02:01:47.819547Z",
     "shell.execute_reply": "2025-06-12T02:01:47.818666Z"
    },
    "papermill": {
     "duration": 4.822712,
     "end_time": "2025-06-12T02:01:47.821411",
     "exception": false,
     "start_time": "2025-06-12T02:01:42.998699",
     "status": "completed"
    },
    "tags": []
   },
   "outputs": [],
   "source": [
    "vectorizer = TfidfVectorizer(max_features=10000)\n",
    "X = vectorizer.fit_transform(df['comment'])\n",
    "y = df['label']"
   ]
  },
  {
   "cell_type": "markdown",
   "id": "cb0bbfd4",
   "metadata": {
    "papermill": {
     "duration": 0.003545,
     "end_time": "2025-06-12T02:01:47.828760",
     "exception": false,
     "start_time": "2025-06-12T02:01:47.825215",
     "status": "completed"
    },
    "tags": []
   },
   "source": [
    "### 5. Veriyi Eğitim ve Test Setlerine Ayırma\n",
    "\n",
    "Ne yapıyoruz?\n",
    "Veriyi %80 eğitim, %20 test olarak ayırıyoruz."
   ]
  },
  {
   "cell_type": "code",
   "execution_count": 6,
   "id": "a8d9b8cd",
   "metadata": {
    "execution": {
     "iopub.execute_input": "2025-06-12T02:01:47.837054Z",
     "iopub.status.busy": "2025-06-12T02:01:47.836740Z",
     "iopub.status.idle": "2025-06-12T02:01:47.860935Z",
     "shell.execute_reply": "2025-06-12T02:01:47.859954Z"
    },
    "papermill": {
     "duration": 0.030594,
     "end_time": "2025-06-12T02:01:47.862860",
     "exception": false,
     "start_time": "2025-06-12T02:01:47.832266",
     "status": "completed"
    },
    "tags": []
   },
   "outputs": [],
   "source": [
    "X_train, X_test, y_train, y_test = train_test_split(X, y, test_size=0.2, random_state=42)"
   ]
  },
  {
   "cell_type": "markdown",
   "id": "5b88c83c",
   "metadata": {
    "papermill": {
     "duration": 0.003447,
     "end_time": "2025-06-12T02:01:47.870194",
     "exception": false,
     "start_time": "2025-06-12T02:01:47.866747",
     "status": "completed"
    },
    "tags": []
   },
   "source": [
    "### 6. Modeli Eğitme\n",
    "Ne yapıyoruz?\n",
    "Lojistik Regresyon modelini class_weight='balanced' ile eğitiyoruz, böylece dengesiz sınıflar için daha iyi sonuç alırız."
   ]
  },
  {
   "cell_type": "code",
   "execution_count": 7,
   "id": "a06e4ec6",
   "metadata": {
    "execution": {
     "iopub.execute_input": "2025-06-12T02:01:47.878740Z",
     "iopub.status.busy": "2025-06-12T02:01:47.878378Z",
     "iopub.status.idle": "2025-06-12T02:01:53.189542Z",
     "shell.execute_reply": "2025-06-12T02:01:53.188837Z"
    },
    "papermill": {
     "duration": 5.317598,
     "end_time": "2025-06-12T02:01:53.191362",
     "exception": false,
     "start_time": "2025-06-12T02:01:47.873764",
     "status": "completed"
    },
    "tags": []
   },
   "outputs": [
    {
     "name": "stderr",
     "output_type": "stream",
     "text": [
      "/usr/local/lib/python3.11/dist-packages/sklearn/linear_model/_logistic.py:458: ConvergenceWarning: lbfgs failed to converge (status=1):\n",
      "STOP: TOTAL NO. OF ITERATIONS REACHED LIMIT.\n",
      "\n",
      "Increase the number of iterations (max_iter) or scale the data as shown in:\n",
      "    https://scikit-learn.org/stable/modules/preprocessing.html\n",
      "Please also refer to the documentation for alternative solver options:\n",
      "    https://scikit-learn.org/stable/modules/linear_model.html#logistic-regression\n",
      "  n_iter_i = _check_optimize_result(\n"
     ]
    },
    {
     "data": {
      "text/html": [
       "<style>#sk-container-id-1 {color: black;background-color: white;}#sk-container-id-1 pre{padding: 0;}#sk-container-id-1 div.sk-toggleable {background-color: white;}#sk-container-id-1 label.sk-toggleable__label {cursor: pointer;display: block;width: 100%;margin-bottom: 0;padding: 0.3em;box-sizing: border-box;text-align: center;}#sk-container-id-1 label.sk-toggleable__label-arrow:before {content: \"▸\";float: left;margin-right: 0.25em;color: #696969;}#sk-container-id-1 label.sk-toggleable__label-arrow:hover:before {color: black;}#sk-container-id-1 div.sk-estimator:hover label.sk-toggleable__label-arrow:before {color: black;}#sk-container-id-1 div.sk-toggleable__content {max-height: 0;max-width: 0;overflow: hidden;text-align: left;background-color: #f0f8ff;}#sk-container-id-1 div.sk-toggleable__content pre {margin: 0.2em;color: black;border-radius: 0.25em;background-color: #f0f8ff;}#sk-container-id-1 input.sk-toggleable__control:checked~div.sk-toggleable__content {max-height: 200px;max-width: 100%;overflow: auto;}#sk-container-id-1 input.sk-toggleable__control:checked~label.sk-toggleable__label-arrow:before {content: \"▾\";}#sk-container-id-1 div.sk-estimator input.sk-toggleable__control:checked~label.sk-toggleable__label {background-color: #d4ebff;}#sk-container-id-1 div.sk-label input.sk-toggleable__control:checked~label.sk-toggleable__label {background-color: #d4ebff;}#sk-container-id-1 input.sk-hidden--visually {border: 0;clip: rect(1px 1px 1px 1px);clip: rect(1px, 1px, 1px, 1px);height: 1px;margin: -1px;overflow: hidden;padding: 0;position: absolute;width: 1px;}#sk-container-id-1 div.sk-estimator {font-family: monospace;background-color: #f0f8ff;border: 1px dotted black;border-radius: 0.25em;box-sizing: border-box;margin-bottom: 0.5em;}#sk-container-id-1 div.sk-estimator:hover {background-color: #d4ebff;}#sk-container-id-1 div.sk-parallel-item::after {content: \"\";width: 100%;border-bottom: 1px solid gray;flex-grow: 1;}#sk-container-id-1 div.sk-label:hover label.sk-toggleable__label {background-color: #d4ebff;}#sk-container-id-1 div.sk-serial::before {content: \"\";position: absolute;border-left: 1px solid gray;box-sizing: border-box;top: 0;bottom: 0;left: 50%;z-index: 0;}#sk-container-id-1 div.sk-serial {display: flex;flex-direction: column;align-items: center;background-color: white;padding-right: 0.2em;padding-left: 0.2em;position: relative;}#sk-container-id-1 div.sk-item {position: relative;z-index: 1;}#sk-container-id-1 div.sk-parallel {display: flex;align-items: stretch;justify-content: center;background-color: white;position: relative;}#sk-container-id-1 div.sk-item::before, #sk-container-id-1 div.sk-parallel-item::before {content: \"\";position: absolute;border-left: 1px solid gray;box-sizing: border-box;top: 0;bottom: 0;left: 50%;z-index: -1;}#sk-container-id-1 div.sk-parallel-item {display: flex;flex-direction: column;z-index: 1;position: relative;background-color: white;}#sk-container-id-1 div.sk-parallel-item:first-child::after {align-self: flex-end;width: 50%;}#sk-container-id-1 div.sk-parallel-item:last-child::after {align-self: flex-start;width: 50%;}#sk-container-id-1 div.sk-parallel-item:only-child::after {width: 0;}#sk-container-id-1 div.sk-dashed-wrapped {border: 1px dashed gray;margin: 0 0.4em 0.5em 0.4em;box-sizing: border-box;padding-bottom: 0.4em;background-color: white;}#sk-container-id-1 div.sk-label label {font-family: monospace;font-weight: bold;display: inline-block;line-height: 1.2em;}#sk-container-id-1 div.sk-label-container {text-align: center;}#sk-container-id-1 div.sk-container {/* jupyter's `normalize.less` sets `[hidden] { display: none; }` but bootstrap.min.css set `[hidden] { display: none !important; }` so we also need the `!important` here to be able to override the default hidden behavior on the sphinx rendered scikit-learn.org. See: https://github.com/scikit-learn/scikit-learn/issues/21755 */display: inline-block !important;position: relative;}#sk-container-id-1 div.sk-text-repr-fallback {display: none;}</style><div id=\"sk-container-id-1\" class=\"sk-top-container\"><div class=\"sk-text-repr-fallback\"><pre>LogisticRegression(class_weight=&#x27;balanced&#x27;)</pre><b>In a Jupyter environment, please rerun this cell to show the HTML representation or trust the notebook. <br />On GitHub, the HTML representation is unable to render, please try loading this page with nbviewer.org.</b></div><div class=\"sk-container\" hidden><div class=\"sk-item\"><div class=\"sk-estimator sk-toggleable\"><input class=\"sk-toggleable__control sk-hidden--visually\" id=\"sk-estimator-id-1\" type=\"checkbox\" checked><label for=\"sk-estimator-id-1\" class=\"sk-toggleable__label sk-toggleable__label-arrow\">LogisticRegression</label><div class=\"sk-toggleable__content\"><pre>LogisticRegression(class_weight=&#x27;balanced&#x27;)</pre></div></div></div></div></div>"
      ],
      "text/plain": [
       "LogisticRegression(class_weight='balanced')"
      ]
     },
     "execution_count": 7,
     "metadata": {},
     "output_type": "execute_result"
    }
   ],
   "source": [
    "model = LogisticRegression(class_weight='balanced')\n",
    "model.fit(X_train, y_train)"
   ]
  },
  {
   "cell_type": "markdown",
   "id": "cd4ca941",
   "metadata": {
    "papermill": {
     "duration": 0.006618,
     "end_time": "2025-06-12T02:01:53.205053",
     "exception": false,
     "start_time": "2025-06-12T02:01:53.198435",
     "status": "completed"
    },
    "tags": []
   },
   "source": [
    "### 7. Modeli Test Etme\n",
    "\n",
    "Ne yapıyoruz?\n",
    "Modelin doğruluğunu ve performansını test ediyoruz."
   ]
  },
  {
   "cell_type": "code",
   "execution_count": 8,
   "id": "336dade9",
   "metadata": {
    "execution": {
     "iopub.execute_input": "2025-06-12T02:01:53.220960Z",
     "iopub.status.busy": "2025-06-12T02:01:53.220351Z",
     "iopub.status.idle": "2025-06-12T02:01:53.742463Z",
     "shell.execute_reply": "2025-06-12T02:01:53.741092Z"
    },
    "papermill": {
     "duration": 0.531825,
     "end_time": "2025-06-12T02:01:53.743990",
     "exception": false,
     "start_time": "2025-06-12T02:01:53.212165",
     "status": "completed"
    },
    "tags": []
   },
   "outputs": [
    {
     "name": "stdout",
     "output_type": "stream",
     "text": [
      "Doğruluk Skoru: 0.64700228283071\n",
      "\n",
      "Sınıflandırma Raporu:\n",
      "               precision    recall  f1-score   support\n",
      "\n",
      "        nötr       0.37      0.51      0.43      2857\n",
      "      olumlu       0.78      0.68      0.73      8626\n",
      "     olumsuz       0.66      0.66      0.66      5163\n",
      "\n",
      "    accuracy                           0.65     16646\n",
      "   macro avg       0.60      0.62      0.61     16646\n",
      "weighted avg       0.67      0.65      0.66     16646\n",
      "\n"
     ]
    }
   ],
   "source": [
    "y_pred = model.predict(X_test)\n",
    "print(\"Doğruluk Skoru:\", accuracy_score(y_test, y_pred))\n",
    "print(\"\\nSınıflandırma Raporu:\\n\", classification_report(y_test, y_pred))"
   ]
  },
  {
   "cell_type": "markdown",
   "id": "024c1fee",
   "metadata": {
    "papermill": {
     "duration": 0.003764,
     "end_time": "2025-06-12T02:01:53.752533",
     "exception": false,
     "start_time": "2025-06-12T02:01:53.748769",
     "status": "completed"
    },
    "tags": []
   },
   "source": [
    "### 8. Örnek Bir Yorumla Tahmin Yapma\n",
    "\n",
    "Ne yapıyoruz?\n",
    "Kendi yazdığımız bir film yorumunu modelle test ediyoruz."
   ]
  },
  {
   "cell_type": "code",
   "execution_count": 9,
   "id": "f7bb3d07",
   "metadata": {
    "execution": {
     "iopub.execute_input": "2025-06-12T02:01:53.761760Z",
     "iopub.status.busy": "2025-06-12T02:01:53.761347Z",
     "iopub.status.idle": "2025-06-12T02:01:53.768596Z",
     "shell.execute_reply": "2025-06-12T02:01:53.767860Z"
    },
    "papermill": {
     "duration": 0.01346,
     "end_time": "2025-06-12T02:01:53.769914",
     "exception": false,
     "start_time": "2025-06-12T02:01:53.756454",
     "status": "completed"
    },
    "tags": []
   },
   "outputs": [
    {
     "name": "stdout",
     "output_type": "stream",
     "text": [
      "Yorum: Bu film harika, çok keyif aldım!\n",
      "Tahmin: olumlu\n"
     ]
    }
   ],
   "source": [
    "test_yorum = \"Bu film harika, çok keyif aldım!\"\n",
    "test_yorum_temiz = clean_text(test_yorum)\n",
    "test_yorum_vec = vectorizer.transform([test_yorum_temiz])\n",
    "tahmin = model.predict(test_yorum_vec)\n",
    "print(\"Yorum:\", test_yorum)\n",
    "print(\"Tahmin:\", tahmin[0])"
   ]
  },
  {
   "cell_type": "markdown",
   "id": "49f1005f",
   "metadata": {
    "papermill": {
     "duration": 0.004051,
     "end_time": "2025-06-12T02:01:53.778531",
     "exception": false,
     "start_time": "2025-06-12T02:01:53.774480",
     "status": "completed"
    },
    "tags": []
   },
   "source": [
    "### Sonuç\n",
    "\n",
    "Bu kod, Türkçe film yorumlarını olumlu, nötr veya olumsuz olarak sınıflandırır. Sınıf sayısını azaltarak ve dengesiz sınıfları dengeleyerek modeli iyileştirdik. Daha fazla geliştirmek istersen, başka veri temizleme yöntemleri veya modeller deneyebilirsin."
   ]
  }
 ],
 "metadata": {
  "kaggle": {
   "accelerator": "none",
   "dataSources": [
    {
     "datasetId": 406742,
     "sourceId": 779629,
     "sourceType": "datasetVersion"
    }
   ],
   "dockerImageVersionId": 31040,
   "isGpuEnabled": false,
   "isInternetEnabled": true,
   "language": "python",
   "sourceType": "notebook"
  },
  "kernelspec": {
   "display_name": "Python 3",
   "language": "python",
   "name": "python3"
  },
  "language_info": {
   "codemirror_mode": {
    "name": "ipython",
    "version": 3
   },
   "file_extension": ".py",
   "mimetype": "text/x-python",
   "name": "python",
   "nbconvert_exporter": "python",
   "pygments_lexer": "ipython3",
   "version": "3.11.11"
  },
  "papermill": {
   "default_parameters": {},
   "duration": 25.518329,
   "end_time": "2025-06-12T02:01:54.605086",
   "environment_variables": {},
   "exception": null,
   "input_path": "__notebook__.ipynb",
   "output_path": "__notebook__.ipynb",
   "parameters": {},
   "start_time": "2025-06-12T02:01:29.086757",
   "version": "2.6.0"
  }
 },
 "nbformat": 4,
 "nbformat_minor": 5
}
